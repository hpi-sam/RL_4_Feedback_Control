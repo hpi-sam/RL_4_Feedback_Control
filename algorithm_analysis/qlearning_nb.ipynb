{
 "cells": [
  {
   "cell_type": "code",
   "execution_count": 1,
   "metadata": {},
   "outputs": [
    {
     "ename": "ModuleNotFoundError",
     "evalue": "No module named 'algorithm_analysis'",
     "output_type": "error",
     "traceback": [
      "\u001b[0;31m---------------------------------------------------------------------------\u001b[0m",
      "\u001b[0;31mModuleNotFoundError\u001b[0m                       Traceback (most recent call last)",
      "\u001b[0;32m<ipython-input-1-a2cde71c10a3>\u001b[0m in \u001b[0;36m<module>\u001b[0;34m\u001b[0m\n\u001b[1;32m      5\u001b[0m \u001b[0;32mimport\u001b[0m \u001b[0mmatplotlib\u001b[0m\u001b[0;34m.\u001b[0m\u001b[0mpyplot\u001b[0m \u001b[0;32mas\u001b[0m \u001b[0mplt\u001b[0m\u001b[0;34m\u001b[0m\u001b[0;34m\u001b[0m\u001b[0m\n\u001b[1;32m      6\u001b[0m \u001b[0;34m\u001b[0m\u001b[0m\n\u001b[0;32m----> 7\u001b[0;31m \u001b[0;32mfrom\u001b[0m \u001b[0malgorithm_analysis\u001b[0m \u001b[0;32mimport\u001b[0m \u001b[0mqlearning\u001b[0m\u001b[0;34m\u001b[0m\u001b[0;34m\u001b[0m\u001b[0m\n\u001b[0m\u001b[1;32m      8\u001b[0m \u001b[0;31m# env = GridworldEnv()\u001b[0m\u001b[0;34m\u001b[0m\u001b[0;34m\u001b[0m\u001b[0;34m\u001b[0m\u001b[0m\n\u001b[1;32m      9\u001b[0m \u001b[0;32mimport\u001b[0m \u001b[0mtime\u001b[0m\u001b[0;34m\u001b[0m\u001b[0;34m\u001b[0m\u001b[0m\n",
      "\u001b[0;31mModuleNotFoundError\u001b[0m: No module named 'algorithm_analysis'"
     ]
    }
   ],
   "source": [
    "## TODO\n",
    "# set workdir to project dir for all imports/relative dir references to work\n",
    "# \n",
    "\n",
    "%load_ext autoreload\n",
    "%autoreload 2\n",
    "\n",
    "import gym\n",
    "import matplotlib.pyplot as plt\n",
    "\n",
    "from algorithm_analysis import qlearning\n",
    "# env = GridworldEnv()\n",
    "import time\n",
    "from algorithm_analysis.plotting import plot_episode_length_over_time, plot_episode_reward_over_time\n",
    "from envs.broken_components import BrokenComponentsEnv\n",
    "from envs.data_handler import DataHandler"
   ]
  },
  {
   "cell_type": "code",
   "execution_count": null,
   "metadata": {},
   "outputs": [],
   "source": [
    "t0 = time.monotonic()\n",
    "dataHandler = DataHandler()\n",
    "broken_components = dataHandler.get_sample_component_failure_pairs(5)\n",
    "env = BrokenComponentsEnv(broken_components, reward_modus='raw')\n",
    "print(f'Time until env is ready: {time.monotonic()-t0}')"
   ]
  },
  {
   "cell_type": "code",
   "execution_count": null,
   "metadata": {
    "pycharm": {
     "name": "#%%\n"
    }
   },
   "outputs": [],
   "source": [
    "discount_rates = [0.99]#, 0.9, 0.3]\n",
    "learning_rates = [0.01]#, 0.3, 0.7]\n",
    "total_runs = len(discount_rates) * len(learning_rates)\n",
    "num_plots = 2\n",
    "fig, axs = plt.subplots(total_runs, num_plots, figsize=(10, 30), constrained_layout=True, sharex=True, sharey='col')\n",
    "for i, discount_rate in enumerate(discount_rates):\n",
    "    for j, learning_rate in enumerate(learning_rates):\n",
    "        metric = qlearning.run(env, env.observation_space.n, env.action_space.n, episodes=1000,\n",
    "                               learning_rate=learning_rate, discount_rate=discount_rate)\n",
    "        ax_row = i * len(learning_rates) + j\n",
    "        plot_episode_length_over_time(axs[ax_row, 0], metric, smoothing_window=20)\n",
    "        plot_episode_reward_over_time(axs[ax_row, 1], metric, smoothing_window=20)\n",
    "        \n",
    "\n",
    "plt.show()"
   ]
  },
  {
   "cell_type": "code",
   "execution_count": null,
   "metadata": {},
   "outputs": [],
   "source": []
  }
 ],
 "metadata": {
  "kernelspec": {
   "display_name": "Python 3",
   "language": "python",
   "name": "python3"
  },
  "language_info": {
   "codemirror_mode": {
    "name": "ipython",
    "version": 3
   },
   "file_extension": ".py",
   "mimetype": "text/x-python",
   "name": "python",
   "nbconvert_exporter": "python",
   "pygments_lexer": "ipython3",
   "version": "3.8.3"
  }
 },
 "nbformat": 4,
 "nbformat_minor": 4
}
