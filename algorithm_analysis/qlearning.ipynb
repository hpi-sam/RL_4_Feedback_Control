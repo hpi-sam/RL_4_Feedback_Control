{
 "cells": [
  {
   "cell_type": "code",
   "execution_count": 58,
   "metadata": {},
   "outputs": [],
   "source": [
    "import numpy as np\n",
    "import gym\n",
    "import random\n",
    "import time\n",
    "import seaborn as sns\n",
    "import matplotlib.pyplot as plt\n",
    "from IPython.display import clear_output\n",
    "\n",
    "# percentage optimal action per step\n",
    "sns.set(style=\"darkgrid\")"
   ]
  },
  {
   "cell_type": "code",
   "execution_count": 59,
   "metadata": {},
   "outputs": [
    {
     "name": "stdout",
     "output_type": "stream",
     "text": [
      "16 states with 4 actions.\n",
      "[[0. 0. 0. 0.]\n",
      " [0. 0. 0. 0.]\n",
      " [0. 0. 0. 0.]\n",
      " [0. 0. 0. 0.]\n",
      " [0. 0. 0. 0.]\n",
      " [0. 0. 0. 0.]\n",
      " [0. 0. 0. 0.]\n",
      " [0. 0. 0. 0.]\n",
      " [0. 0. 0. 0.]\n",
      " [0. 0. 0. 0.]\n",
      " [0. 0. 0. 0.]\n",
      " [0. 0. 0. 0.]\n",
      " [0. 0. 0. 0.]\n",
      " [0. 0. 0. 0.]\n",
      " [0. 0. 0. 0.]\n",
      " [0. 0. 0. 0.]]\n"
     ]
    }
   ],
   "source": [
    "env = gym.make(\"FrozenLake-v0\")\n",
    "action_space_size = env.action_space.n\n",
    "state_space_size = env.observation_space.n \n",
    "q_table = np.zeros((state_space_size,action_space_size))\n",
    "print(f'{state_space_size} states with {action_space_size} actions.')\n",
    "print(q_table)"
   ]
  },
  {
   "cell_type": "code",
   "execution_count": 51,
   "metadata": {},
   "outputs": [
    {
     "name": "stdout",
     "output_type": "stream",
     "text": [
      "1000 : 0.6840000000000005\n",
      "2000 : 0.6980000000000005\n",
      "3000 : 0.7050000000000005\n",
      "4000 : 0.6640000000000005\n",
      "5000 : 0.7010000000000005\n",
      "6000 : 0.6850000000000005\n",
      "7000 : 0.6820000000000005\n",
      "8000 : 0.6770000000000005\n",
      "9000 : 0.6920000000000005\n",
      "10000 : 0.6920000000000005\n",
      "\n",
      "\n",
      "***************** Q-Table *****************\n",
      "\n",
      "[[0.5951954  0.51795279 0.52111789 0.51388372]\n",
      " [0.36724093 0.39571557 0.23724678 0.51323355]\n",
      " [0.41881246 0.3908178  0.39457803 0.47023127]\n",
      " [0.24823458 0.30334772 0.32949826 0.45953364]\n",
      " [0.61391886 0.31899317 0.41149305 0.40049023]\n",
      " [0.         0.         0.         0.        ]\n",
      " [0.4001811  0.1751172  0.21002666 0.092822  ]\n",
      " [0.         0.         0.         0.        ]\n",
      " [0.41437701 0.47594384 0.3391175  0.65168654]\n",
      " [0.55889294 0.73035147 0.4748847  0.41387137]\n",
      " [0.69219587 0.37460708 0.3680899  0.37763545]\n",
      " [0.         0.         0.         0.        ]\n",
      " [0.         0.         0.         0.        ]\n",
      " [0.5111369  0.37925674 0.81266579 0.56747255]\n",
      " [0.73392122 0.90386015 0.78351141 0.79334533]\n",
      " [0.         0.         0.         0.        ]]\n"
     ]
    }
   ],
   "source": [
    "num_episodes = 10000\n",
    "max_steps_per_episode=100\n",
    "\n",
    "learning_rate = 0.1\n",
    "discount_rate = 0.99\n",
    "\n",
    "exploration_rate = 1\n",
    "max_exploration_rate = 1 \n",
    "min_exploration_rate = 0.01\n",
    "exploration_rate_decay = 0.01\n",
    "\n",
    "rewards_all_episodes = []\n",
    "\n",
    "optimal_step_count = np.zeros(num_episodes) \n",
    "total_step_count = np.zeros(num_episodes)\n",
    "\n",
    "#q-learning algorithm\n",
    "for episode in range(num_episodes):\n",
    "    state = env.reset()\n",
    "    \n",
    "    done=False\n",
    "    rewards_current_episode = 0\n",
    "    for step in range(max_steps_per_episode):\n",
    "        \n",
    "        #Exploration-Exploitation trade-off\n",
    "        if random.uniform(0, 1) > exploration_rate:\n",
    "            action = np.argmax(q_table[state,:])\n",
    "            optimal_step_count[episode] += 1\n",
    "        else:\n",
    "            action = env.action_space.sample()\n",
    "            \n",
    "        total_step_count[episode] += 1\n",
    "        new_state, reward, done, info = env.step(action)\n",
    "        \n",
    "        #Update Q-Table for Q(s,a)\n",
    "       # print(\"new_state: \",new_state, \", action:\",action)\n",
    "       # print(\"q_table[new_state,:]\",q_table[new_state,:])\n",
    "        q_table[state, action] = q_table[state,action] * (1-learning_rate) +\\\n",
    "            learning_rate*(reward+discount_rate*np.max(q_table[new_state,:]))\n",
    "        \n",
    "        state = new_state\n",
    "        rewards_current_episode += reward\n",
    "        \n",
    "        if done == True:\n",
    "            break\n",
    "\n",
    "    #Exploration rate decay\n",
    "    exploration_rate = min_exploration_rate +\\\n",
    "            (max_exploration_rate - min_exploration_rate) * np.exp(-exploration_rate_decay*episodes)\n",
    "    \n",
    "    rewards_all_episodes.append(rewards_current_episode)\n",
    "    \n",
    "#Calculate and Print the Average Reward per Thousand Episodes\n",
    "rewards_per_thousand_episodes = np.split(np.array(rewards_all_episodes),num_episodes/1000)\n",
    "count = 1000\n",
    "for r in rewards_per_thousand_episodes:\n",
    "    print(count,\":\",str(sum(r/1000)))\n",
    "    count += 1000\n",
    "    \n",
    "#Print update Q-Table\n",
    "print(\"\\n\\n***************** Q-Table *****************\\n\")\n",
    "print(q_table)"
   ]
  },
  {
   "cell_type": "code",
   "execution_count": 65,
   "metadata": {},
   "outputs": [
    {
     "data": {
      "text/plain": [
       "Text(0.5, 0, 'episode')"
      ]
     },
     "execution_count": 65,
     "metadata": {},
     "output_type": "execute_result"
    },
    {
     "data": {
      "image/png": "[encoded data removed]",
      "text/plain": [
       "<Figure size 432x288 with 1 Axes>"
      ]
     },
     "metadata": {},
     "output_type": "display_data"
    }
   ],
   "source": [
    "# Plot the percentage of optimal steps taken per episode\n",
    "percentage_optimal_steps = optimal_step_count/total_step_count\n",
    "plt.plot(percentage_optimal_steps)\n",
    "plt.ylabel('% optimal steps')\n",
    "plt.xlabel('episode')"
   ]
  },
  {
   "cell_type": "code",
   "execution_count": 67,
   "metadata": {},
   "outputs": [
    {
     "data": {
      "text/plain": [
       "Text(0.5, 0, 'episode')"
      ]
     },
     "execution_count": 67,
     "metadata": {},
     "output_type": "execute_result"
    },
    {
     "data": {
      "image/png": "[encoded data removed]",
      "text/plain": [
       "<Figure size 432x288 with 1 Axes>"
      ]
     },
     "metadata": {},
     "output_type": "display_data"
    }
   ],
   "source": [
    "# Plot the percentage of optimal steps taken per episode\n",
    "percentage_optimal_steps = optimal_step_count/total_step_count\n",
    "plt.scatter(range(num_episodes), percentage_optimal_steps)\n",
    "plt.ylabel('% optimal steps')\n",
    "plt.xlabel('episode')"
   ]
  },
  {
   "cell_type": "code",
   "execution_count": 70,
   "metadata": {},
   "outputs": [
    {
     "data": {
      "text/plain": [
       "Text(0.5, 0, 'episode')"
      ]
     },
     "execution_count": 70,
     "metadata": {},
     "output_type": "execute_result"
    },
    {
     "data": {
      "image/png": "[encoded data removed]",
      "text/plain": [
       "<Figure size 432x288 with 1 Axes>"
      ]
     },
     "metadata": {},
     "output_type": "display_data"
    }
   ],
   "source": [
    "# Cumulative reward for each episode\n",
    "plt.scatter(range(num_episodes), rewards_all_episodes)\n",
    "plt.ylabel('cumulative reward')\n",
    "plt.xlabel('episode')"
   ]
  }
 ],
 "metadata": {
  "kernelspec": {
   "display_name": "Python 3",
   "language": "python",
   "name": "python3"
  },
  "language_info": {
   "codemirror_mode": {
    "name": "ipython",
    "version": 3
   },
   "file_extension": ".py",
   "mimetype": "text/x-python",
   "name": "python",
   "nbconvert_exporter": "python",
   "pygments_lexer": "ipython3",
   "version": "3.8.2"
  }
 },
 "nbformat": 4,
 "nbformat_minor": 2
}
