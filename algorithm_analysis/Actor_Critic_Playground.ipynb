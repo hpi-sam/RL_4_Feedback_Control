{
 "cells": [
  {
   "cell_type": "code",
   "execution_count": 2,
   "metadata": {},
   "outputs": [
    {
     "name": "stdout",
     "output_type": "stream",
     "text": [
      "/Users/hao/workspace/hpi_de/4th_Semester/Online Learning/rl-4-self-repair\n"
     ]
    }
   ],
   "source": [
    "cd .."
   ]
  },
  {
   "cell_type": "code",
   "execution_count": 3,
   "metadata": {},
   "outputs": [],
   "source": [
    "import logging\n",
    "import time\n",
    "import numpy as np\n",
    "from tqdm.auto import tqdm\n",
    "import seaborn as sns\n",
    "sns.set()\n",
    "import matplotlib.pyplot as plt\n",
    "from algorithm_analysis.a2c import Model, A2CAgent\n",
    "from envs.broken_components import BrokenComponentsEnv\n",
    "from algorithm_analysis.benchmark import BROKEN_COMPONENTS_LIST"
   ]
  },
  {
   "cell_type": "code",
   "execution_count": 4,
   "metadata": {},
   "outputs": [],
   "source": [
    "def plot_reward_histories(reward_histories, broken_component_list=None):\n",
    "    for i, rewards_history in enumerate(reward_histories):\n",
    "        plt.figure(i)\n",
    "        ax = sns.lineplot(np.arange(len(rewards_history)), rewards_history)\n",
    "        if broken_component_list:\n",
    "            ax.set_title('Number of broken components: {}'.format(len(broken_component_list[i])))"
   ]
  },
  {
   "cell_type": "code",
   "execution_count": null,
   "metadata": {},
   "outputs": [
    {
     "data": {
      "application/vnd.jupyter.widget-view+json": {
       "model_id": "bbdd5f9c36a24c30941d9d3fa0c232ce",
       "version_major": 2,
       "version_minor": 0
      },
      "text/plain": [
       "HBox(children=(FloatProgress(value=0.0, description='Broken Components Loop: ', max=14.0, style=ProgressStyle(…"
      ]
     },
     "metadata": {},
     "output_type": "display_data"
    },
    {
     "data": {
      "application/vnd.jupyter.widget-view+json": {
       "model_id": "fc141f1b37444ac48e540c348cd3b7f6",
       "version_major": 2,
       "version_minor": 0
      },
      "text/plain": [
       "HBox(children=(FloatProgress(value=0.0, description='Update Loop: ', max=150.0, style=ProgressStyle(descriptio…"
      ]
     },
     "metadata": {},
     "output_type": "display_data"
    },
    {
     "name": "stdout",
     "output_type": "stream",
     "text": [
      "\n"
     ]
    },
    {
     "data": {
      "application/vnd.jupyter.widget-view+json": {
       "model_id": "d25dab1d0a84451c953bef7bb46061f4",
       "version_major": 2,
       "version_minor": 0
      },
      "text/plain": [
       "HBox(children=(FloatProgress(value=0.0, description='Update Loop: ', max=250.0, style=ProgressStyle(descriptio…"
      ]
     },
     "metadata": {},
     "output_type": "display_data"
    },
    {
     "name": "stdout",
     "output_type": "stream",
     "text": [
      "\n"
     ]
    },
    {
     "data": {
      "application/vnd.jupyter.widget-view+json": {
       "model_id": "39501207cbc1467dbcdad751925dbe62",
       "version_major": 2,
       "version_minor": 0
      },
      "text/plain": [
       "HBox(children=(FloatProgress(value=0.0, description='Update Loop: ', max=350.0, style=ProgressStyle(descriptio…"
      ]
     },
     "metadata": {},
     "output_type": "display_data"
    },
    {
     "name": "stdout",
     "output_type": "stream",
     "text": [
      "\n"
     ]
    },
    {
     "data": {
      "application/vnd.jupyter.widget-view+json": {
       "model_id": "e9342ab82fea4246b0196f71c8446355",
       "version_major": 2,
       "version_minor": 0
      },
      "text/plain": [
       "HBox(children=(FloatProgress(value=0.0, description='Update Loop: ', max=450.0, style=ProgressStyle(descriptio…"
      ]
     },
     "metadata": {},
     "output_type": "display_data"
    },
    {
     "name": "stdout",
     "output_type": "stream",
     "text": [
      "\n"
     ]
    },
    {
     "data": {
      "application/vnd.jupyter.widget-view+json": {
       "model_id": "d2a05b0569854915adf1f1459c7189b3",
       "version_major": 2,
       "version_minor": 0
      },
      "text/plain": [
       "HBox(children=(FloatProgress(value=0.0, description='Update Loop: ', max=550.0, style=ProgressStyle(descriptio…"
      ]
     },
     "metadata": {},
     "output_type": "display_data"
    },
    {
     "name": "stdout",
     "output_type": "stream",
     "text": [
      "\n"
     ]
    },
    {
     "data": {
      "application/vnd.jupyter.widget-view+json": {
       "model_id": "47caafc878654545874a385d37234bf8",
       "version_major": 2,
       "version_minor": 0
      },
      "text/plain": [
       "HBox(children=(FloatProgress(value=0.0, description='Update Loop: ', max=650.0, style=ProgressStyle(descriptio…"
      ]
     },
     "metadata": {},
     "output_type": "display_data"
    },
    {
     "name": "stdout",
     "output_type": "stream",
     "text": [
      "\n"
     ]
    },
    {
     "data": {
      "application/vnd.jupyter.widget-view+json": {
       "model_id": "34f444aac0004e2a830aa3be0a83d351",
       "version_major": 2,
       "version_minor": 0
      },
      "text/plain": [
       "HBox(children=(FloatProgress(value=0.0, description='Update Loop: ', max=750.0, style=ProgressStyle(descriptio…"
      ]
     },
     "metadata": {},
     "output_type": "display_data"
    },
    {
     "name": "stdout",
     "output_type": "stream",
     "text": [
      "\n"
     ]
    },
    {
     "data": {
      "application/vnd.jupyter.widget-view+json": {
       "model_id": "b13c29bf73ce4216a316b9facf947760",
       "version_major": 2,
       "version_minor": 0
      },
      "text/plain": [
       "HBox(children=(FloatProgress(value=0.0, description='Update Loop: ', max=850.0, style=ProgressStyle(descriptio…"
      ]
     },
     "metadata": {},
     "output_type": "display_data"
    },
    {
     "name": "stdout",
     "output_type": "stream",
     "text": [
      "\n"
     ]
    },
    {
     "data": {
      "application/vnd.jupyter.widget-view+json": {
       "model_id": "3f25ca3846db460690a37591f33cb683",
       "version_major": 2,
       "version_minor": 0
      },
      "text/plain": [
       "HBox(children=(FloatProgress(value=0.0, description='Update Loop: ', max=950.0, style=ProgressStyle(descriptio…"
      ]
     },
     "metadata": {},
     "output_type": "display_data"
    },
    {
     "name": "stdout",
     "output_type": "stream",
     "text": [
      "\n"
     ]
    },
    {
     "data": {
      "application/vnd.jupyter.widget-view+json": {
       "model_id": "46f6277f219f4e1599a46ba9b9892d18",
       "version_major": 2,
       "version_minor": 0
      },
      "text/plain": [
       "HBox(children=(FloatProgress(value=0.0, description='Update Loop: ', max=1050.0, style=ProgressStyle(descripti…"
      ]
     },
     "metadata": {},
     "output_type": "display_data"
    },
    {
     "name": "stdout",
     "output_type": "stream",
     "text": [
      "\n"
     ]
    },
    {
     "data": {
      "application/vnd.jupyter.widget-view+json": {
       "model_id": "4f927897a0ac4321adeb6572d0f2eef1",
       "version_major": 2,
       "version_minor": 0
      },
      "text/plain": [
       "HBox(children=(FloatProgress(value=0.0, description='Update Loop: ', max=1150.0, style=ProgressStyle(descripti…"
      ]
     },
     "metadata": {},
     "output_type": "display_data"
    },
    {
     "name": "stdout",
     "output_type": "stream",
     "text": [
      "\n"
     ]
    },
    {
     "data": {
      "application/vnd.jupyter.widget-view+json": {
       "model_id": "f958e1e0b3f94b6c9544c626ef0733e7",
       "version_major": 2,
       "version_minor": 0
      },
      "text/plain": [
       "HBox(children=(FloatProgress(value=0.0, description='Update Loop: ', max=1250.0, style=ProgressStyle(descripti…"
      ]
     },
     "metadata": {},
     "output_type": "display_data"
    },
    {
     "name": "stdout",
     "output_type": "stream",
     "text": [
      "\n"
     ]
    }
   ],
   "source": [
    "reward_histories = []\n",
    "\n",
    "for i, broken_components in enumerate(tqdm(BROKEN_COMPONENTS_LIST[:4], desc='Broken Components Loop: ')):\n",
    "    env = BrokenComponentsEnv(broken_components, state_as_vec=True)\n",
    "    model = Model(num_actions=env.action_space.n)\n",
    "    agent = A2CAgent(model, lr=7e-3, gamma=0.99, value_c=0.5, entropy_c=1e-4)\n",
    "    \n",
    "    rewards_history = agent.train(env, batch_sz=64, updates=50*len(broken_components))\n",
    "    reward_histories.append(rewards_history)\n",
    "    #plt.figure(i)\n",
    "    #ax = sns.lineplot(np.arange(len(rewards_history)), rewards_history)\n",
    "    #ax.set_title('Number of broken components: {}'.format(len(broken_components)))\n",
    "\n",
    "plot_reward_histories(reward_histories, BROKEN_COMPONENTS_LIST)"
   ]
  },
  {
   "cell_type": "code",
   "execution_count": null,
   "metadata": {},
   "outputs": [],
   "source": [
    "reward_histories = []\n",
    "\n",
    "for i, broken_components in enumerate(tqdm(BROKEN_COMPONENTS_LIST[4:8], desc='Broken Components Loop: ')):\n",
    "    env = BrokenComponentsEnv(broken_components, state_as_vec=True)\n",
    "    model = Model(num_actions=env.action_space.n)\n",
    "    agent = A2CAgent(model, lr=7e-3, gamma=0.99, value_c=0.5, entropy_c=1e-4)\n",
    "    \n",
    "    rewards_history = agent.train(env, batch_sz=64, updates=50*len(broken_components))\n",
    "    reward_histories.append(rewards_history)\n",
    "    #plt.figure(i)\n",
    "    #ax = sns.lineplot(np.arange(len(rewards_history)), rewards_history)\n",
    "    #ax.set_title('Number of broken components: {}'.format(len(broken_components)))\n",
    "\n",
    "plot_reward_histories(reward_histories, BROKEN_COMPONENTS_LIST)"
   ]
  },
  {
   "cell_type": "code",
   "execution_count": null,
   "metadata": {},
   "outputs": [],
   "source": [
    "reward_histories = []\n",
    "\n",
    "for i, broken_components in enumerate(tqdm(BROKEN_COMPONENTS_LIST[8:12], desc='Broken Components Loop: ')):\n",
    "    env = BrokenComponentsEnv(broken_components, state_as_vec=True)\n",
    "    model = Model(num_actions=env.action_space.n)\n",
    "    agent = A2CAgent(model, lr=7e-3, gamma=0.99, value_c=0.5, entropy_c=1e-4)\n",
    "    \n",
    "    rewards_history = agent.train(env, batch_sz=64, updates=50*len(broken_components))\n",
    "    reward_histories.append(rewards_history)\n",
    "    #plt.figure(i)\n",
    "    #ax = sns.lineplot(np.arange(len(rewards_history)), rewards_history)\n",
    "    #ax.set_title('Number of broken components: {}'.format(len(broken_components)))\n",
    "\n",
    "plot_reward_histories(reward_histories, BROKEN_COMPONENTS_LIST)"
   ]
  },
  {
   "cell_type": "code",
   "execution_count": null,
   "metadata": {},
   "outputs": [],
   "source": [
    "reward_histories = []\n",
    "\n",
    "for i, broken_components in enumerate(tqdm(BROKEN_COMPONENTS_LIST[12:], desc='Broken Components Loop: ')):\n",
    "    env = BrokenComponentsEnv(broken_components, state_as_vec=True)\n",
    "    model = Model(num_actions=env.action_space.n)\n",
    "    agent = A2CAgent(model, lr=7e-3, gamma=0.99, value_c=0.5, entropy_c=1e-4)\n",
    "    \n",
    "    rewards_history = agent.train(env, batch_sz=64, updates=50*len(broken_components))\n",
    "    reward_histories.append(rewards_history)\n",
    "    #plt.figure(i)\n",
    "    #ax = sns.lineplot(np.arange(len(rewards_history)), rewards_history)\n",
    "    #ax.set_title('Number of broken components: {}'.format(len(broken_components)))\n",
    "\n",
    "plot_reward_histories(reward_histories, BROKEN_COMPONENTS_LIST)"
   ]
  },
  {
   "cell_type": "code",
   "execution_count": null,
   "metadata": {},
   "outputs": [],
   "source": [
    "plot_reward_histories(reward_histories, BROKEN_COMPONENTS_LIST)"
   ]
  },
  {
   "cell_type": "code",
   "execution_count": 1,
   "metadata": {},
   "outputs": [
    {
     "ename": "NameError",
     "evalue": "name 'reward_histories' is not defined",
     "output_type": "error",
     "traceback": [
      "\u001b[0;31m---------------------------------------------------------------------------\u001b[0m",
      "\u001b[0;31mNameError\u001b[0m                                 Traceback (most recent call last)",
      "\u001b[0;32m<ipython-input-1-2959e8ef4a87>\u001b[0m in \u001b[0;36m<module>\u001b[0;34m\u001b[0m\n\u001b[0;32m----> 1\u001b[0;31m \u001b[0mreward_histories\u001b[0m\u001b[0;34m\u001b[0m\u001b[0;34m\u001b[0m\u001b[0m\n\u001b[0m",
      "\u001b[0;31mNameError\u001b[0m: name 'reward_histories' is not defined"
     ]
    }
   ],
   "source": [
    "reward_histories"
   ]
  },
  {
   "cell_type": "code",
   "execution_count": null,
   "metadata": {},
   "outputs": [],
   "source": [
    "reward_histories"
   ]
  },
  {
   "cell_type": "code",
   "execution_count": 6,
   "metadata": {},
   "outputs": [],
   "source": [
    "t = np.arange(3, 30, 2)"
   ]
  },
  {
   "cell_type": "code",
   "execution_count": 8,
   "metadata": {},
   "outputs": [
    {
     "data": {
      "text/plain": [
       "array([3, 5, 7, 9])"
      ]
     },
     "execution_count": 8,
     "metadata": {},
     "output_type": "execute_result"
    }
   ],
   "source": [
    "t[:4]"
   ]
  },
  {
   "cell_type": "code",
   "execution_count": 9,
   "metadata": {},
   "outputs": [
    {
     "data": {
      "text/plain": [
       "array([11, 13, 15, 17])"
      ]
     },
     "execution_count": 9,
     "metadata": {},
     "output_type": "execute_result"
    }
   ],
   "source": [
    "t[4:8]"
   ]
  },
  {
   "cell_type": "code",
   "execution_count": 11,
   "metadata": {},
   "outputs": [
    {
     "data": {
      "text/plain": [
       "array([19, 21, 23, 25])"
      ]
     },
     "execution_count": 11,
     "metadata": {},
     "output_type": "execute_result"
    }
   ],
   "source": [
    "t[8:12]"
   ]
  },
  {
   "cell_type": "code",
   "execution_count": 12,
   "metadata": {},
   "outputs": [
    {
     "data": {
      "text/plain": [
       "array([27, 29])"
      ]
     },
     "execution_count": 12,
     "metadata": {},
     "output_type": "execute_result"
    }
   ],
   "source": [
    "t[12:]"
   ]
  },
  {
   "cell_type": "code",
   "execution_count": null,
   "metadata": {},
   "outputs": [],
   "source": []
  }
 ],
 "metadata": {
  "kernelspec": {
   "display_name": "Python 3",
   "language": "python",
   "name": "python3"
  },
  "language_info": {
   "codemirror_mode": {
    "name": "ipython",
    "version": 3
   },
   "file_extension": ".py",
   "mimetype": "text/x-python",
   "name": "python",
   "nbconvert_exporter": "python",
   "pygments_lexer": "ipython3",
   "version": "3.8.2"
  }
 },
 "nbformat": 4,
 "nbformat_minor": 4
}
