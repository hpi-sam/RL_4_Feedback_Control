{
 "cells": [
  {
   "cell_type": "code",
   "execution_count": 17,
   "metadata": {},
   "outputs": [],
   "source": [
    "import numpy as np\n",
    "import gym\n",
    "import random\n",
    "import time\n",
    "import seaborn as sns\n",
    "import matplotlib.pyplot as plt\n",
    "from IPython.display import clear_output"
   ]
  },
  {
   "cell_type": "code",
   "execution_count": 15,
   "metadata": {},
   "outputs": [
    {
     "name": "stdout",
     "output_type": "stream",
     "text": [
      "16 states with 4 actions.\n",
      "[[0. 0. 0. 0.]\n",
      " [0. 0. 0. 0.]\n",
      " [0. 0. 0. 0.]\n",
      " [0. 0. 0. 0.]\n",
      " [0. 0. 0. 0.]\n",
      " [0. 0. 0. 0.]\n",
      " [0. 0. 0. 0.]\n",
      " [0. 0. 0. 0.]\n",
      " [0. 0. 0. 0.]\n",
      " [0. 0. 0. 0.]\n",
      " [0. 0. 0. 0.]\n",
      " [0. 0. 0. 0.]\n",
      " [0. 0. 0. 0.]\n",
      " [0. 0. 0. 0.]\n",
      " [0. 0. 0. 0.]\n",
      " [0. 0. 0. 0.]]\n"
     ]
    }
   ],
   "source": [
    "env = gym.make(\"FrozenLake-v0\")\n",
    "action_space_size = env.action_space.n\n",
    "state_space_size = env.observation_space.n \n",
    "q_table = np.zeros((state_space_size,action_space_size))\n",
    "print(f'{state_space_size} states with {action_space_size} actions.')\n",
    "print(q_table)"
   ]
  },
  {
   "cell_type": "code",
   "execution_count": 12,
   "metadata": {},
   "outputs": [
    {
     "name": "stdout",
     "output_type": "stream",
     "text": [
      "1000 : 0.048000000000000036\n",
      "2000 : 0.21400000000000016\n",
      "3000 : 0.4040000000000003\n",
      "4000 : 0.5370000000000004\n",
      "5000 : 0.6460000000000005\n",
      "6000 : 0.6850000000000005\n",
      "7000 : 0.6860000000000005\n",
      "8000 : 0.6790000000000005\n",
      "9000 : 0.7100000000000005\n",
      "10000 : 0.6930000000000005\n",
      "\n",
      "\n",
      "***************** Q-Table *****************\n",
      "\n",
      "[[0.58482289 0.53031445 0.52591748 0.50601886]\n",
      " [0.34470982 0.31953044 0.31124284 0.50453784]\n",
      " [0.40387952 0.41924937 0.41822496 0.46216645]\n",
      " [0.37011208 0.1549016  0.36562947 0.44520007]\n",
      " [0.60217229 0.40625328 0.3744308  0.38859905]\n",
      " [0.         0.         0.         0.        ]\n",
      " [0.31358295 0.12520913 0.19871718 0.07482152]\n",
      " [0.         0.         0.         0.        ]\n",
      " [0.37300419 0.39630225 0.34600248 0.62728057]\n",
      " [0.48955128 0.62353217 0.41694656 0.45656522]\n",
      " [0.61275338 0.45814624 0.4155505  0.37231983]\n",
      " [0.         0.         0.         0.        ]\n",
      " [0.         0.         0.         0.        ]\n",
      " [0.48331322 0.62767631 0.76756528 0.518121  ]\n",
      " [0.72896684 0.87592772 0.75389002 0.7483168 ]\n",
      " [0.         0.         0.         0.        ]]\n"
     ]
    }
   ],
   "source": [
    "num_episodes = 10000\n",
    "max_steps_per_episode=100\n",
    "\n",
    "learning_rate = 0.1\n",
    "discount_rate = 0.99\n",
    "\n",
    "exploration_rate = 1\n",
    "max_exploration_rate = 1 \n",
    "min_exploration_rate = 0.01\n",
    "exploration_rate_decay = 0.001\n",
    "\n",
    "rewards_all_episodes = []\n",
    "\n",
    "optimal_step_count = [0] * max_steps_per_episode \n",
    "total_step_count = [0] * max_steps_per_episode\n",
    "\n",
    "#q-learning algorithm\n",
    "for episodes in range(num_episodes):\n",
    "    state = env.reset()\n",
    "    \n",
    "    done=False\n",
    "    rewards_current_episode = 0\n",
    "    for step in range(max_steps_per_episode):\n",
    "        \n",
    "        #Exploration-Exploitation trade-off\n",
    "        if random.uniform(0, 1) > exploration_rate:\n",
    "            action = np.argmax(q_table[state,:])\n",
    "            optimal_step_count[step] += 1\n",
    "        else:\n",
    "            action = env.action_space.sample()\n",
    "            \n",
    "        total_step_count[step] += 1    \n",
    "        new_state, reward, done, info = env.step(action)\n",
    "        \n",
    "        #Update Q-Table for Q(s,a)\n",
    "       # print(\"new_state: \",new_state, \", action:\",action)\n",
    "       # print(\"q_table[new_state,:]\",q_table[new_state,:])\n",
    "        q_table[state, action] = q_table[state,action] * (1-learning_rate) +\\\n",
    "            learning_rate*(reward+discount_rate*np.max(q_table[new_state,:]))\n",
    "        \n",
    "        state = new_state\n",
    "        rewards_current_episode += reward\n",
    "        \n",
    "        if done == True:\n",
    "            break\n",
    "\n",
    "    #Exploration rate decay\n",
    "    exploration_rate = min_exploration_rate +\\\n",
    "            (max_exploration_rate - min_exploration_rate) * np.exp(-exploration_rate_decay*episodes)\n",
    "    \n",
    "    rewards_all_episodes.append(rewards_current_episode)\n",
    "    \n",
    "#Calculate and Print the Average Reward per Thousand Episodes\n",
    "rewards_per_thousand_episodes = np.split(np.array(rewards_all_episodes),num_episodes/1000)\n",
    "count = 1000\n",
    "for r in rewards_per_thousand_episodes:\n",
    "    print(count,\":\",str(sum(r/1000)))\n",
    "    count += 1000\n",
    "    \n",
    "#Print update Q-Table\n",
    "print(\"\\n\\n***************** Q-Table *****************\\n\")\n",
    "print(q_table)"
   ]
  },
  {
   "cell_type": "code",
   "execution_count": null,
   "metadata": {},
   "outputs": [],
   "source": []
  },
  {
   "cell_type": "code",
   "execution_count": 18,
   "metadata": {},
   "outputs": [
    {
     "data": {
      "text/plain": [
       "[<matplotlib.lines.Line2D at 0x7f4930e33640>]"
      ]
     },
     "execution_count": 18,
     "metadata": {},
     "output_type": "execute_result"
    },
    {
     "data": {
      "image/png": "[encoded data removed]",
      "text/plain": [
       "<Figure size 432x288 with 1 Axes>"
      ]
     },
     "metadata": {},
     "output_type": "display_data"
    }
   ],
   "source": [
    "# percentage optimal action per step\n",
    "\n",
    "sns.set(style=\"darkgrid\")\n",
    "\n",
    "# Load an example dataset with long-form data\n",
    "fmri = sns.load_dataset(\"fmri\")\n",
    "\n",
    "# Plot the responses for different events and regions\n",
    "plt.plot(range(max_steps_per_episode), optimal_step_count)\n",
    "plt.plot(range(max_steps_per_episode), total_step_count)"
   ]
  },
  {
   "cell_type": "markdown",
   "metadata": {},
   "source": []
  },
  {
   "cell_type": "code",
   "execution_count": null,
   "metadata": {},
   "outputs": [],
   "source": []
  }
 ],
 "metadata": {
  "kernelspec": {
   "display_name": "Python 3",
   "language": "python",
   "name": "python3"
  },
  "language_info": {
   "codemirror_mode": {
    "name": "ipython",
    "version": 3
   },
   "file_extension": ".py",
   "mimetype": "text/x-python",
   "name": "python",
   "nbconvert_exporter": "python",
   "pygments_lexer": "ipython3",
   "version": "3.8.2"
  }
 },
 "nbformat": 4,
 "nbformat_minor": 2
}
