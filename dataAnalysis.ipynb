{
 "cells": [
  {
   "cell_type": "markdown",
   "metadata": {},
   "source": [
    "Load csv files and concat them."
   ]
  },
  {
   "cell_type": "code",
   "execution_count": null,
   "metadata": {
    "scrolled": false
   },
   "outputs": [],
   "source": [
    "import os\n",
    "import pandas as pd\n",
    "\n",
    "frames = []\n",
    "\n",
    "for root, dirs, files in os.walk(\"data\"):\n",
    "    for f in files:\n",
    "        if f.endswith(\".csv\"):\n",
    "            file_path = os.path.join(root, f)\n",
    "            dataframe = pd.read_csv(file_path)\n",
    "            dataframe.columns=dataframe.columns.str.replace('\\t','')\n",
    "            frames.append(dataframe)\n",
    "\n",
    "data = pd.concat(frames, sort=False)[['Optimal_Affected_Component', 'Optimal_Failure', 'Optimal_Rule', 'Optimal_Utility_Increase']]\n",
    "data"
   ]
  },
  {
   "cell_type": "markdown",
   "metadata": {},
   "source": [
    "## Task 1: Plot the distribution of rewards for each repair-action <component, failure, rule>"
   ]
  },
  {
   "cell_type": "code",
   "execution_count": null,
   "metadata": {},
   "outputs": [],
   "source": [
    "import matplotlib.pyplot as plt\n",
    "data.boxplot(by=['Optimal_Affected_Component', 'Optimal_Failure', 'Optimal_Rule'], figsize=(40,40), showfliers=False)\n",
    "plt.xticks(rotation='vertical')"
   ]
  },
  {
   "cell_type": "markdown",
   "metadata": {},
   "source": [
    "## Task 2: Compute statistics\n",
    "\n",
    "* mean = average of the numbers\n",
    "* median = separating the higher half from the lower half\n",
    "* mode = the value that appears most often, it can be multiple values\n",
    "* std = standard deviation\n",
    "* skew = skewness, measure of the asymmetry of the probability distribution of a real-valued random variable about its mean\n",
    "* kurtosis = measure of the \"tailedness\" of the probability distribution of a real-valued random variable"
   ]
  },
  {
   "cell_type": "code",
   "execution_count": null,
   "metadata": {},
   "outputs": [],
   "source": [
    "data.groupby(['Optimal_Affected_Component', 'Optimal_Failure', 'Optimal_Rule']).agg(['mean', 'median', pd.Series.mode, 'std', 'skew', pd.DataFrame.kurt])"
   ]
  },
  {
   "cell_type": "markdown",
   "metadata": {},
   "source": [
    "# Mean"
   ]
  },
  {
   "cell_type": "code",
   "execution_count": null,
   "metadata": {},
   "outputs": [],
   "source": [
    "data.groupby(['Optimal_Affected_Component', 'Optimal_Failure', 'Optimal_Rule']).agg('mean').hist()"
   ]
  },
  {
   "cell_type": "markdown",
   "metadata": {},
   "source": [
    "# Median"
   ]
  },
  {
   "cell_type": "code",
   "execution_count": null,
   "metadata": {},
   "outputs": [],
   "source": [
    "data.groupby(['Optimal_Affected_Component', 'Optimal_Failure', 'Optimal_Rule']).agg('median').hist()"
   ]
  },
  {
   "cell_type": "markdown",
   "metadata": {},
   "source": [
    "# Mode"
   ]
  },
  {
   "cell_type": "code",
   "execution_count": null,
   "metadata": {},
   "outputs": [],
   "source": [
    "# How to visualize?"
   ]
  },
  {
   "cell_type": "markdown",
   "metadata": {},
   "source": [
    "# standard deviation"
   ]
  },
  {
   "cell_type": "code",
   "execution_count": null,
   "metadata": {},
   "outputs": [],
   "source": [
    "data.groupby(['Optimal_Affected_Component', 'Optimal_Failure', 'Optimal_Rule']).agg('std').hist()"
   ]
  },
  {
   "cell_type": "markdown",
   "metadata": {},
   "source": [
    "# skewness\n",
    "measure of the asymmetry of the probability distribution of a real-valued random variable about its mean"
   ]
  },
  {
   "cell_type": "code",
   "execution_count": null,
   "metadata": {},
   "outputs": [],
   "source": [
    "data.groupby(['Optimal_Affected_Component', 'Optimal_Failure', 'Optimal_Rule']).agg('skew').hist()"
   ]
  },
  {
   "cell_type": "markdown",
   "metadata": {},
   "source": [
    "# kurtosis\n",
    "measure of the \"tailedness\" of the probability distribution of a real-valued random variable"
   ]
  },
  {
   "cell_type": "code",
   "execution_count": null,
   "metadata": {},
   "outputs": [],
   "source": [
    "data.groupby(['Optimal_Affected_Component', 'Optimal_Failure', 'Optimal_Rule']).agg(pd.DataFrame.kurt).hist()"
   ]
  },
  {
   "cell_type": "code",
   "execution_count": null,
   "metadata": {},
   "outputs": [],
   "source": []
  }
 ],
 "metadata": {
  "kernelspec": {
   "display_name": "Python 3",
   "language": "python",
   "name": "python3"
  },
  "language_info": {
   "codemirror_mode": {
    "name": "ipython",
    "version": 3
   },
   "file_extension": ".py",
   "mimetype": "text/x-python",
   "name": "python",
   "nbconvert_exporter": "python",
   "pygments_lexer": "ipython3",
   "version": "3.7.4"
  }
 },
 "nbformat": 4,
 "nbformat_minor": 1
}
