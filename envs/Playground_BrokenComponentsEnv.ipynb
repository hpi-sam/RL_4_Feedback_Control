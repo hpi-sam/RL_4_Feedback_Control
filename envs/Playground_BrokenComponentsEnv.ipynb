{
 "cells": [
  {
   "cell_type": "code",
   "execution_count": 1,
   "metadata": {},
   "outputs": [],
   "source": [
    "import itertools\n",
    "import random\n",
    "import numpy as np\n",
    "import gym\n",
    "import time\n",
    "from gym import spaces\n",
    "from typing import Tuple, List\n",
    "import sys\n",
    "if \"../\" not in sys.path:\n",
    "  sys.path.append(\"../\") \n",
    "from envs.broken_components import BrokenComponentsEnv\n",
    "from envs.data_handler import DataHandler\n",
    "from IPython.display import clear_output"
   ]
  },
  {
   "cell_type": "code",
   "execution_count": 2,
   "metadata": {},
   "outputs": [
    {
     "data": {
      "text/plain": [
       "[('Last Second Sales Item Filter', 'CF3'),\n",
       " ('Availability Item Filter', 'CF1'),\n",
       " ('Future Sales Item Filter', 'CF1'),\n",
       " ('Reputation Service', 'CF1'),\n",
       " ('Past Sales Item Filter', 'CF3')]"
      ]
     },
     "execution_count": 2,
     "metadata": {},
     "output_type": "execute_result"
    }
   ],
   "source": [
    "dh = DataHandler()\n",
    "broken_components = dh.get_sample_component_failure_pairs(5)\n",
    "broken_components"
   ]
  },
  {
   "cell_type": "markdown",
   "metadata": {},
   "source": [
    "## Environment"
   ]
  },
  {
   "cell_type": "code",
   "execution_count": 3,
   "metadata": {},
   "outputs": [],
   "source": [
    "# possible reward_modus 'raw', 'sqt', 'log10', 'cube'\n",
    "env = BrokenComponentsEnv(broken_components, reward_modus='raw')"
   ]
  },
  {
   "cell_type": "markdown",
   "metadata": {},
   "source": [
    "### Env properties"
   ]
  },
  {
   "cell_type": "code",
   "execution_count": 4,
   "metadata": {},
   "outputs": [
    {
     "data": {
      "text/plain": [
       "5"
      ]
     },
     "execution_count": 4,
     "metadata": {},
     "output_type": "execute_result"
    }
   ],
   "source": [
    "n_actions = env.action_space.n\n",
    "n_actions"
   ]
  },
  {
   "cell_type": "code",
   "execution_count": 5,
   "metadata": {},
   "outputs": [
    {
     "data": {
      "text/plain": [
       "32"
      ]
     },
     "execution_count": 5,
     "metadata": {},
     "output_type": "execute_result"
    }
   ],
   "source": [
    "n_spaces = env.observation_space.n\n",
    "n_spaces"
   ]
  },
  {
   "cell_type": "code",
   "execution_count": 6,
   "metadata": {},
   "outputs": [
    {
     "data": {
      "text/plain": [
       "array([('Last Second Sales Item Filter', 'CF3'),\n",
       "       ('Availability Item Filter', 'CF1'),\n",
       "       ('Future Sales Item Filter', 'CF1'), ('Reputation Service', 'CF1'),\n",
       "       ('Past Sales Item Filter', 'CF3')], dtype=object)"
      ]
     },
     "execution_count": 6,
     "metadata": {},
     "output_type": "execute_result"
    }
   ],
   "source": [
    "env.action_space_names"
   ]
  },
  {
   "cell_type": "code",
   "execution_count": 7,
   "metadata": {},
   "outputs": [
    {
     "data": {
      "text/plain": [
       "[array([('Last Second Sales Item Filter', 'CF3'),\n",
       "        ('Availability Item Filter', 'CF1'),\n",
       "        ('Future Sales Item Filter', 'CF1'), ('Reputation Service', 'CF1'),\n",
       "        ('Past Sales Item Filter', 'CF3')], dtype=object),\n",
       " array([('Last Second Sales Item Filter', 'CF3'),\n",
       "        ('Availability Item Filter', 'CF1'),\n",
       "        ('Future Sales Item Filter', 'CF1'), ('Reputation Service', 'CF1')],\n",
       "       dtype=object),\n",
       " array([('Last Second Sales Item Filter', 'CF3'),\n",
       "        ('Availability Item Filter', 'CF1'),\n",
       "        ('Future Sales Item Filter', 'CF1'),\n",
       "        ('Past Sales Item Filter', 'CF3')], dtype=object),\n",
       " array([('Last Second Sales Item Filter', 'CF3'),\n",
       "        ('Availability Item Filter', 'CF1'),\n",
       "        ('Future Sales Item Filter', 'CF1')], dtype=object),\n",
       " array([('Last Second Sales Item Filter', 'CF3'),\n",
       "        ('Availability Item Filter', 'CF1'), ('Reputation Service', 'CF1'),\n",
       "        ('Past Sales Item Filter', 'CF3')], dtype=object),\n",
       " array([('Last Second Sales Item Filter', 'CF3'),\n",
       "        ('Availability Item Filter', 'CF1'), ('Reputation Service', 'CF1')],\n",
       "       dtype=object),\n",
       " array([('Last Second Sales Item Filter', 'CF3'),\n",
       "        ('Availability Item Filter', 'CF1'),\n",
       "        ('Past Sales Item Filter', 'CF3')], dtype=object),\n",
       " array([('Last Second Sales Item Filter', 'CF3'),\n",
       "        ('Availability Item Filter', 'CF1')], dtype=object),\n",
       " array([('Last Second Sales Item Filter', 'CF3'),\n",
       "        ('Future Sales Item Filter', 'CF1'), ('Reputation Service', 'CF1'),\n",
       "        ('Past Sales Item Filter', 'CF3')], dtype=object),\n",
       " array([('Last Second Sales Item Filter', 'CF3'),\n",
       "        ('Future Sales Item Filter', 'CF1'), ('Reputation Service', 'CF1')],\n",
       "       dtype=object),\n",
       " array([('Last Second Sales Item Filter', 'CF3'),\n",
       "        ('Future Sales Item Filter', 'CF1'),\n",
       "        ('Past Sales Item Filter', 'CF3')], dtype=object),\n",
       " array([('Last Second Sales Item Filter', 'CF3'),\n",
       "        ('Future Sales Item Filter', 'CF1')], dtype=object),\n",
       " array([('Last Second Sales Item Filter', 'CF3'),\n",
       "        ('Reputation Service', 'CF1'), ('Past Sales Item Filter', 'CF3')],\n",
       "       dtype=object),\n",
       " array([('Last Second Sales Item Filter', 'CF3'),\n",
       "        ('Reputation Service', 'CF1')], dtype=object),\n",
       " array([('Last Second Sales Item Filter', 'CF3'),\n",
       "        ('Past Sales Item Filter', 'CF3')], dtype=object),\n",
       " array([('Last Second Sales Item Filter', 'CF3')], dtype=object),\n",
       " array([('Availability Item Filter', 'CF1'),\n",
       "        ('Future Sales Item Filter', 'CF1'), ('Reputation Service', 'CF1'),\n",
       "        ('Past Sales Item Filter', 'CF3')], dtype=object),\n",
       " array([('Availability Item Filter', 'CF1'),\n",
       "        ('Future Sales Item Filter', 'CF1'), ('Reputation Service', 'CF1')],\n",
       "       dtype=object),\n",
       " array([('Availability Item Filter', 'CF1'),\n",
       "        ('Future Sales Item Filter', 'CF1'),\n",
       "        ('Past Sales Item Filter', 'CF3')], dtype=object),\n",
       " array([('Availability Item Filter', 'CF1'),\n",
       "        ('Future Sales Item Filter', 'CF1')], dtype=object),\n",
       " array([('Availability Item Filter', 'CF1'), ('Reputation Service', 'CF1'),\n",
       "        ('Past Sales Item Filter', 'CF3')], dtype=object),\n",
       " array([('Availability Item Filter', 'CF1'), ('Reputation Service', 'CF1')],\n",
       "       dtype=object),\n",
       " array([('Availability Item Filter', 'CF1'),\n",
       "        ('Past Sales Item Filter', 'CF3')], dtype=object),\n",
       " array([('Availability Item Filter', 'CF1')], dtype=object),\n",
       " array([('Future Sales Item Filter', 'CF1'), ('Reputation Service', 'CF1'),\n",
       "        ('Past Sales Item Filter', 'CF3')], dtype=object),\n",
       " array([('Future Sales Item Filter', 'CF1'), ('Reputation Service', 'CF1')],\n",
       "       dtype=object),\n",
       " array([('Future Sales Item Filter', 'CF1'),\n",
       "        ('Past Sales Item Filter', 'CF3')], dtype=object),\n",
       " array([('Future Sales Item Filter', 'CF1')], dtype=object),\n",
       " array([('Reputation Service', 'CF1'), ('Past Sales Item Filter', 'CF3')],\n",
       "       dtype=object),\n",
       " array([('Reputation Service', 'CF1')], dtype=object),\n",
       " array([('Past Sales Item Filter', 'CF3')], dtype=object),\n",
       " array([], dtype=object)]"
      ]
     },
     "execution_count": 7,
     "metadata": {},
     "output_type": "execute_result"
    }
   ],
   "source": [
    "env.observation_space_names"
   ]
  },
  {
   "cell_type": "markdown",
   "metadata": {},
   "source": [
    "### Examples"
   ]
  },
  {
   "cell_type": "markdown",
   "metadata": {},
   "source": [
    "#### Example 1"
   ]
  },
  {
   "cell_type": "code",
   "execution_count": 8,
   "metadata": {},
   "outputs": [
    {
     "name": "stdout",
     "output_type": "stream",
     "text": [
      "Steps:  0\n",
      "Action:  None\n",
      "Successful:  None\n",
      "State:  [('Last Second Sales Item Filter', 'CF3'), ('Availability Item Filter', 'CF1'), ('Future Sales Item Filter', 'CF1'), ('Reputation Service', 'CF1'), ('Past Sales Item Filter', 'CF3')] \n",
      "\n",
      "\n",
      "2 16.0 False\n",
      "Steps:  1\n",
      "Action:  ('Reputation Service', 'CF1')\n",
      "Successful:  True\n",
      "State:  [('Last Second Sales Item Filter', 'CF3'), ('Availability Item Filter', 'CF1'), ('Future Sales Item Filter', 'CF1'), ('Past Sales Item Filter', 'CF3')] \n",
      "\n",
      "\n",
      "3 145.4401264 False\n",
      "Steps:  2\n",
      "Action:  ('Past Sales Item Filter', 'CF3')\n",
      "Successful:  True\n",
      "State:  [('Last Second Sales Item Filter', 'CF3'), ('Availability Item Filter', 'CF1'), ('Future Sales Item Filter', 'CF1')] \n",
      "\n",
      "\n",
      "3 0 False\n",
      "Steps:  3\n",
      "Action:  ('Future Sales Item Filter', 'CF1')\n",
      "Successful:  False\n",
      "State:  [('Last Second Sales Item Filter', 'CF3'), ('Availability Item Filter', 'CF1'), ('Future Sales Item Filter', 'CF1')] \n",
      "\n",
      "\n"
     ]
    }
   ],
   "source": [
    "env.reset(reward_modus='raw') # possible reward_modus 'raw', 'sqt', 'log10', 'cubic'\n",
    "env.render()\n",
    "\n",
    "action = env.action_space.sample()\n",
    "state, reward, done, _ = env.step(action)\n",
    "print(state, reward, done)\n",
    "env.render()\n",
    "\n",
    "action = env.action_space.sample()\n",
    "state, reward, done, _ = env.step(action)\n",
    "print(state, reward, done)\n",
    "env.render()\n",
    "\n",
    "action = env.action_space.sample()\n",
    "state, reward, done, _ = env.step(action)\n",
    "print(state, reward, done)\n",
    "env.render()"
   ]
  },
  {
   "cell_type": "markdown",
   "metadata": {},
   "source": [
    "#### Example 2"
   ]
  },
  {
   "cell_type": "code",
   "execution_count": 9,
   "metadata": {},
   "outputs": [
    {
     "name": "stdout",
     "output_type": "stream",
     "text": [
      "Steps:  5\n",
      "Action:  ('Reputation Service', 'CF1')\n",
      "Successful:  False\n",
      "State:  [('Availability Item Filter', 'CF1'), ('Future Sales Item Filter', 'CF1')] \n",
      "\n",
      "\n"
     ]
    },
    {
     "ename": "KeyboardInterrupt",
     "evalue": "",
     "output_type": "error",
     "traceback": [
      "\u001b[0;31m---------------------------------------------------------------------------\u001b[0m",
      "\u001b[0;31mKeyboardInterrupt\u001b[0m                         Traceback (most recent call last)",
      "\u001b[0;32m<ipython-input-9-d41058d58878>\u001b[0m in \u001b[0;36m<module>\u001b[0;34m\u001b[0m\n\u001b[1;32m     10\u001b[0m     \u001b[0mclear_output\u001b[0m\u001b[0;34m(\u001b[0m\u001b[0mwait\u001b[0m\u001b[0;34m=\u001b[0m\u001b[0;32mTrue\u001b[0m\u001b[0;34m)\u001b[0m\u001b[0;34m\u001b[0m\u001b[0;34m\u001b[0m\u001b[0m\n\u001b[1;32m     11\u001b[0m     \u001b[0menv\u001b[0m\u001b[0;34m.\u001b[0m\u001b[0mrender\u001b[0m\u001b[0;34m(\u001b[0m\u001b[0;34m)\u001b[0m\u001b[0;34m\u001b[0m\u001b[0;34m\u001b[0m\u001b[0m\n\u001b[0;32m---> 12\u001b[0;31m     \u001b[0mtime\u001b[0m\u001b[0;34m.\u001b[0m\u001b[0msleep\u001b[0m\u001b[0;34m(\u001b[0m\u001b[0;36m1\u001b[0m\u001b[0;34m)\u001b[0m\u001b[0;34m\u001b[0m\u001b[0;34m\u001b[0m\u001b[0m\n\u001b[0m\u001b[1;32m     13\u001b[0m \u001b[0;34m\u001b[0m\u001b[0m\n\u001b[1;32m     14\u001b[0m \u001b[0;34m\u001b[0m\u001b[0m\n",
      "\u001b[0;31mKeyboardInterrupt\u001b[0m: "
     ]
    }
   ],
   "source": [
    "env.reset('raw') # possible reward_modus 'raw', 'sqt', 'log10', 'cube'\n",
    "accumulated_reward = 0\n",
    "episode_done = False\n",
    "\n",
    "while(not episode_done):\n",
    "    action = env.action_space.sample()\n",
    "    state, reward, done, _ = env.step(action)\n",
    "    accumulated_reward += reward\n",
    "    \n",
    "    clear_output(wait=True)\n",
    "    env.render()\n",
    "    time.sleep(1)\n",
    "    \n",
    "    \n",
    "    if(done):\n",
    "        print('FINISHED!')\n",
    "        print('Acc Reward: ', accumulated_reward)\n",
    "    episode_done = done"
   ]
  },
  {
   "cell_type": "code",
   "execution_count": null,
   "metadata": {},
   "outputs": [],
   "source": []
  }
 ],
 "metadata": {
  "kernelspec": {
   "display_name": "Python 3",
   "language": "python",
   "name": "python3"
  },
  "language_info": {
   "codemirror_mode": {
    "name": "ipython",
    "version": 3
   },
   "file_extension": ".py",
   "mimetype": "text/x-python",
   "name": "python",
   "nbconvert_exporter": "python",
   "pygments_lexer": "ipython3",
   "version": "3.8.0"
  }
 },
 "nbformat": 4,
 "nbformat_minor": 4
}
