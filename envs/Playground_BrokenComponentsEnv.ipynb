{
 "cells": [
  {
   "cell_type": "code",
   "execution_count": 1,
   "metadata": {},
   "outputs": [
    {
     "name": "stdout",
     "output_type": "stream",
     "text": [
      "/Users/hao/workspace/hpi_de/4th_Semester/Online Learning/rl-4-self-repair\n"
     ]
    }
   ],
   "source": [
    "cd .."
   ]
  },
  {
   "cell_type": "code",
   "execution_count": 2,
   "metadata": {
    "pycharm": {
     "is_executing": false
    }
   },
   "outputs": [],
   "source": [
    "import time\n",
    "import sys\n",
    "if \"../\" not in sys.path:\n",
    "  sys.path.append(\"../\") \n",
    "from envs.broken_components import BrokenComponentsEnv\n",
    "from envs.data_handler import DataHandler\n",
    "from IPython.display import clear_output"
   ]
  },
  {
   "cell_type": "code",
   "execution_count": 3,
   "metadata": {},
   "outputs": [
    {
     "data": {
      "text/plain": [
       "[('_SFNdwucdEeet0YmmfbMwkw', 'CF2'),\n",
       " ('_SE56w-cdEeet0YmmfbMwkw', 'CF2'),\n",
       " ('_SFHV8ecdEeet0YmmfbMwkw', 'CF2'),\n",
       " ('_SFKaeecdEeet0YmmfbMwkw', 'CF1'),\n",
       " ('_SFOEqucdEeet0YmmfbMwkw', 'CF3')]"
      ]
     },
     "execution_count": 3,
     "metadata": {},
     "output_type": "execute_result"
    }
   ],
   "source": [
    "dh = DataHandler()\n",
    "broken_components = dh.get_sample_component_failure_pairs(5)\n",
    "broken_components"
   ]
  },
  {
   "cell_type": "markdown",
   "metadata": {},
   "source": [
    "## Environment"
   ]
  },
  {
   "cell_type": "code",
   "execution_count": 4,
   "metadata": {},
   "outputs": [],
   "source": [
    "# possible reward_modus 'raw', 'sqt', 'log10', 'cube'\n",
    "env = BrokenComponentsEnv(broken_components, reward_modus='raw', reward_decrease=True, reward_decrease_factor=0.99, state_as_vec=True)\n",
    "# env = BrokenComponentsEnv(broken_components, reward_modus='raw', reward_decrease=True, reward_decrease_factor=0.99, state_as_vec=False)"
   ]
  },
  {
   "cell_type": "markdown",
   "metadata": {},
   "source": [
    "### Env properties"
   ]
  },
  {
   "cell_type": "code",
   "execution_count": 5,
   "metadata": {},
   "outputs": [
    {
     "data": {
      "text/plain": [
       "5"
      ]
     },
     "execution_count": 5,
     "metadata": {},
     "output_type": "execute_result"
    }
   ],
   "source": [
    "n_actions = env.action_space.n\n",
    "n_actions"
   ]
  },
  {
   "cell_type": "code",
   "execution_count": 6,
   "metadata": {},
   "outputs": [
    {
     "data": {
      "text/plain": [
       "32"
      ]
     },
     "execution_count": 6,
     "metadata": {},
     "output_type": "execute_result"
    }
   ],
   "source": [
    "n_states = env.observation_space.n\n",
    "n_states"
   ]
  },
  {
   "cell_type": "code",
   "execution_count": 7,
   "metadata": {},
   "outputs": [
    {
     "data": {
      "text/plain": [
       "array([('_SFNdwucdEeet0YmmfbMwkw', 'CF2'),\n",
       "       ('_SE56w-cdEeet0YmmfbMwkw', 'CF2'),\n",
       "       ('_SFHV8ecdEeet0YmmfbMwkw', 'CF2'),\n",
       "       ('_SFKaeecdEeet0YmmfbMwkw', 'CF1'),\n",
       "       ('_SFOEqucdEeet0YmmfbMwkw', 'CF3')], dtype=object)"
      ]
     },
     "execution_count": 7,
     "metadata": {},
     "output_type": "execute_result"
    }
   ],
   "source": [
    "env.action_space_names"
   ]
  },
  {
   "cell_type": "code",
   "execution_count": 8,
   "metadata": {},
   "outputs": [
    {
     "data": {
      "text/plain": [
       "[array([('_SFNdwucdEeet0YmmfbMwkw', 'CF2'),\n",
       "        ('_SE56w-cdEeet0YmmfbMwkw', 'CF2'),\n",
       "        ('_SFHV8ecdEeet0YmmfbMwkw', 'CF2'),\n",
       "        ('_SFKaeecdEeet0YmmfbMwkw', 'CF1'),\n",
       "        ('_SFOEqucdEeet0YmmfbMwkw', 'CF3')], dtype=object),\n",
       " array([('_SFNdwucdEeet0YmmfbMwkw', 'CF2'),\n",
       "        ('_SE56w-cdEeet0YmmfbMwkw', 'CF2'),\n",
       "        ('_SFHV8ecdEeet0YmmfbMwkw', 'CF2'),\n",
       "        ('_SFKaeecdEeet0YmmfbMwkw', 'CF1')], dtype=object),\n",
       " array([('_SFNdwucdEeet0YmmfbMwkw', 'CF2'),\n",
       "        ('_SE56w-cdEeet0YmmfbMwkw', 'CF2'),\n",
       "        ('_SFHV8ecdEeet0YmmfbMwkw', 'CF2'),\n",
       "        ('_SFOEqucdEeet0YmmfbMwkw', 'CF3')], dtype=object),\n",
       " array([('_SFNdwucdEeet0YmmfbMwkw', 'CF2'),\n",
       "        ('_SE56w-cdEeet0YmmfbMwkw', 'CF2'),\n",
       "        ('_SFHV8ecdEeet0YmmfbMwkw', 'CF2')], dtype=object),\n",
       " array([('_SFNdwucdEeet0YmmfbMwkw', 'CF2'),\n",
       "        ('_SE56w-cdEeet0YmmfbMwkw', 'CF2'),\n",
       "        ('_SFKaeecdEeet0YmmfbMwkw', 'CF1'),\n",
       "        ('_SFOEqucdEeet0YmmfbMwkw', 'CF3')], dtype=object),\n",
       " array([('_SFNdwucdEeet0YmmfbMwkw', 'CF2'),\n",
       "        ('_SE56w-cdEeet0YmmfbMwkw', 'CF2'),\n",
       "        ('_SFKaeecdEeet0YmmfbMwkw', 'CF1')], dtype=object),\n",
       " array([('_SFNdwucdEeet0YmmfbMwkw', 'CF2'),\n",
       "        ('_SE56w-cdEeet0YmmfbMwkw', 'CF2'),\n",
       "        ('_SFOEqucdEeet0YmmfbMwkw', 'CF3')], dtype=object),\n",
       " array([('_SFNdwucdEeet0YmmfbMwkw', 'CF2'),\n",
       "        ('_SE56w-cdEeet0YmmfbMwkw', 'CF2')], dtype=object),\n",
       " array([('_SFNdwucdEeet0YmmfbMwkw', 'CF2'),\n",
       "        ('_SFHV8ecdEeet0YmmfbMwkw', 'CF2'),\n",
       "        ('_SFKaeecdEeet0YmmfbMwkw', 'CF1'),\n",
       "        ('_SFOEqucdEeet0YmmfbMwkw', 'CF3')], dtype=object),\n",
       " array([('_SFNdwucdEeet0YmmfbMwkw', 'CF2'),\n",
       "        ('_SFHV8ecdEeet0YmmfbMwkw', 'CF2'),\n",
       "        ('_SFKaeecdEeet0YmmfbMwkw', 'CF1')], dtype=object),\n",
       " array([('_SFNdwucdEeet0YmmfbMwkw', 'CF2'),\n",
       "        ('_SFHV8ecdEeet0YmmfbMwkw', 'CF2'),\n",
       "        ('_SFOEqucdEeet0YmmfbMwkw', 'CF3')], dtype=object),\n",
       " array([('_SFNdwucdEeet0YmmfbMwkw', 'CF2'),\n",
       "        ('_SFHV8ecdEeet0YmmfbMwkw', 'CF2')], dtype=object),\n",
       " array([('_SFNdwucdEeet0YmmfbMwkw', 'CF2'),\n",
       "        ('_SFKaeecdEeet0YmmfbMwkw', 'CF1'),\n",
       "        ('_SFOEqucdEeet0YmmfbMwkw', 'CF3')], dtype=object),\n",
       " array([('_SFNdwucdEeet0YmmfbMwkw', 'CF2'),\n",
       "        ('_SFKaeecdEeet0YmmfbMwkw', 'CF1')], dtype=object),\n",
       " array([('_SFNdwucdEeet0YmmfbMwkw', 'CF2'),\n",
       "        ('_SFOEqucdEeet0YmmfbMwkw', 'CF3')], dtype=object),\n",
       " array([('_SFNdwucdEeet0YmmfbMwkw', 'CF2')], dtype=object),\n",
       " array([('_SE56w-cdEeet0YmmfbMwkw', 'CF2'),\n",
       "        ('_SFHV8ecdEeet0YmmfbMwkw', 'CF2'),\n",
       "        ('_SFKaeecdEeet0YmmfbMwkw', 'CF1'),\n",
       "        ('_SFOEqucdEeet0YmmfbMwkw', 'CF3')], dtype=object),\n",
       " array([('_SE56w-cdEeet0YmmfbMwkw', 'CF2'),\n",
       "        ('_SFHV8ecdEeet0YmmfbMwkw', 'CF2'),\n",
       "        ('_SFKaeecdEeet0YmmfbMwkw', 'CF1')], dtype=object),\n",
       " array([('_SE56w-cdEeet0YmmfbMwkw', 'CF2'),\n",
       "        ('_SFHV8ecdEeet0YmmfbMwkw', 'CF2'),\n",
       "        ('_SFOEqucdEeet0YmmfbMwkw', 'CF3')], dtype=object),\n",
       " array([('_SE56w-cdEeet0YmmfbMwkw', 'CF2'),\n",
       "        ('_SFHV8ecdEeet0YmmfbMwkw', 'CF2')], dtype=object),\n",
       " array([('_SE56w-cdEeet0YmmfbMwkw', 'CF2'),\n",
       "        ('_SFKaeecdEeet0YmmfbMwkw', 'CF1'),\n",
       "        ('_SFOEqucdEeet0YmmfbMwkw', 'CF3')], dtype=object),\n",
       " array([('_SE56w-cdEeet0YmmfbMwkw', 'CF2'),\n",
       "        ('_SFKaeecdEeet0YmmfbMwkw', 'CF1')], dtype=object),\n",
       " array([('_SE56w-cdEeet0YmmfbMwkw', 'CF2'),\n",
       "        ('_SFOEqucdEeet0YmmfbMwkw', 'CF3')], dtype=object),\n",
       " array([('_SE56w-cdEeet0YmmfbMwkw', 'CF2')], dtype=object),\n",
       " array([('_SFHV8ecdEeet0YmmfbMwkw', 'CF2'),\n",
       "        ('_SFKaeecdEeet0YmmfbMwkw', 'CF1'),\n",
       "        ('_SFOEqucdEeet0YmmfbMwkw', 'CF3')], dtype=object),\n",
       " array([('_SFHV8ecdEeet0YmmfbMwkw', 'CF2'),\n",
       "        ('_SFKaeecdEeet0YmmfbMwkw', 'CF1')], dtype=object),\n",
       " array([('_SFHV8ecdEeet0YmmfbMwkw', 'CF2'),\n",
       "        ('_SFOEqucdEeet0YmmfbMwkw', 'CF3')], dtype=object),\n",
       " array([('_SFHV8ecdEeet0YmmfbMwkw', 'CF2')], dtype=object),\n",
       " array([('_SFKaeecdEeet0YmmfbMwkw', 'CF1'),\n",
       "        ('_SFOEqucdEeet0YmmfbMwkw', 'CF3')], dtype=object),\n",
       " array([('_SFKaeecdEeet0YmmfbMwkw', 'CF1')], dtype=object),\n",
       " array([('_SFOEqucdEeet0YmmfbMwkw', 'CF3')], dtype=object),\n",
       " array([], dtype=object)]"
      ]
     },
     "execution_count": 8,
     "metadata": {},
     "output_type": "execute_result"
    }
   ],
   "source": [
    "env.observation_space_names"
   ]
  },
  {
   "cell_type": "markdown",
   "metadata": {},
   "source": [
    "### Examples"
   ]
  },
  {
   "cell_type": "markdown",
   "metadata": {},
   "source": [
    "#### Example 1"
   ]
  },
  {
   "cell_type": "code",
   "execution_count": 10,
   "metadata": {},
   "outputs": [
    {
     "name": "stdout",
     "output_type": "stream",
     "text": [
      "Steps:  0\n",
      "Action:  None\n",
      "Successful:  None\n",
      "State:  [('_SFNdwucdEeet0YmmfbMwkw', 'CF2'), ('_SE56w-cdEeet0YmmfbMwkw', 'CF2'), ('_SFHV8ecdEeet0YmmfbMwkw', 'CF2'), ('_SFKaeecdEeet0YmmfbMwkw', 'CF1'), ('_SFOEqucdEeet0YmmfbMwkw', 'CF3')] \n",
      "\n",
      "\n",
      "[1. 1. 1. 1. 0.] 15.84 False\n",
      "Steps:  1\n",
      "Action:  ('_SFOEqucdEeet0YmmfbMwkw', 'CF3')\n",
      "Successful:  True\n",
      "State:  [('_SFNdwucdEeet0YmmfbMwkw', 'CF2'), ('_SE56w-cdEeet0YmmfbMwkw', 'CF2'), ('_SFHV8ecdEeet0YmmfbMwkw', 'CF2'), ('_SFKaeecdEeet0YmmfbMwkw', 'CF1')] \n",
      "\n",
      "\n",
      "[1. 1. 0. 1. 0.] 7.8408 False\n",
      "Steps:  2\n",
      "Action:  ('_SFHV8ecdEeet0YmmfbMwkw', 'CF2')\n",
      "Successful:  True\n",
      "State:  [('_SFNdwucdEeet0YmmfbMwkw', 'CF2'), ('_SE56w-cdEeet0YmmfbMwkw', 'CF2'), ('_SFKaeecdEeet0YmmfbMwkw', 'CF1')] \n",
      "\n",
      "\n",
      "[1. 0. 0. 1. 0.] 7.762392 False\n",
      "Steps:  3\n",
      "Action:  ('_SE56w-cdEeet0YmmfbMwkw', 'CF2')\n",
      "Successful:  True\n",
      "State:  [('_SFNdwucdEeet0YmmfbMwkw', 'CF2'), ('_SFKaeecdEeet0YmmfbMwkw', 'CF1')] \n",
      "\n",
      "\n"
     ]
    }
   ],
   "source": [
    "env.reset(reward_modus='raw') # possible reward_modus 'raw', 'sqt', 'log10', 'cubic'\n",
    "env.render()\n",
    "\n",
    "action = env.action_space.sample()\n",
    "state, reward, done, _ = env.step(action)\n",
    "print(state, reward, done)\n",
    "env.render()\n",
    "\n",
    "action = env.action_space.sample()\n",
    "state, reward, done, _ = env.step(action)\n",
    "print(state, reward, done)\n",
    "env.render()\n",
    "\n",
    "action = env.action_space.sample()\n",
    "state, reward, done, _ = env.step(action)\n",
    "print(state, reward, done)\n",
    "env.render()"
   ]
  },
  {
   "cell_type": "markdown",
   "metadata": {},
   "source": [
    "#### Example 2"
   ]
  },
  {
   "cell_type": "code",
   "execution_count": 12,
   "metadata": {},
   "outputs": [
    {
     "name": "stdout",
     "output_type": "stream",
     "text": [
      "Steps:  12\n",
      "Action:  ('_SExYKucdEeet0YmmfbMwkw', 'CF1')\n",
      "Successful:  True\n",
      "State:  [] \n",
      "\n",
      "\n",
      "Reward:  14.182157947458068\n",
      "FINISHED!\n",
      "Acc Reward:  -418.5060778084029\n"
     ]
    }
   ],
   "source": [
    "env.reset('raw') # possible reward_modus 'raw', 'sqt', 'log10', 'cube'\n",
    "accumulated_reward = 0\n",
    "episode_done = False\n",
    "\n",
    "while(not episode_done):\n",
    "    action = env.action_space.sample()\n",
    "    state, reward, done, _ = env.step(action)\n",
    "    accumulated_reward += reward\n",
    "    \n",
    "    clear_output(wait=True)\n",
    "    env.render()\n",
    "    print('Reward: ', reward)\n",
    "    time.sleep(1)\n",
    "    \n",
    "    \n",
    "    if(done):\n",
    "        print('FINISHED!')\n",
    "        print('Acc Reward: ', accumulated_reward)\n",
    "    episode_done = done"
   ]
  },
  {
   "cell_type": "code",
   "execution_count": 17,
   "metadata": {},
   "outputs": [
    {
     "data": {
      "text/plain": [
       "Optimal_Affected_Component_Uid        \n",
       "Optimal_Failure                       \n",
       "raw                              -76.5\n",
       "dtype: object"
      ]
     },
     "execution_count": 17,
     "metadata": {},
     "output_type": "execute_result"
    }
   ],
   "source": [
    "dh.data.max()*-1"
   ]
  },
  {
   "cell_type": "code",
   "execution_count": 19,
   "metadata": {},
   "outputs": [
    {
     "data": {
      "text/plain": [
       "-76.5"
      ]
     },
     "execution_count": 19,
     "metadata": {},
     "output_type": "execute_result"
    }
   ],
   "source": [
    "env.punishment['raw']"
   ]
  },
  {
   "cell_type": "code",
   "execution_count": null,
   "metadata": {},
   "outputs": [],
   "source": []
  }
 ],
 "metadata": {
  "kernelspec": {
   "display_name": "Python 3",
   "language": "python",
   "name": "python3"
  },
  "language_info": {
   "codemirror_mode": {
    "name": "ipython",
    "version": 3
   },
   "file_extension": ".py",
   "mimetype": "text/x-python",
   "name": "python",
   "nbconvert_exporter": "python",
   "pygments_lexer": "ipython3",
   "version": "3.8.2"
  },
  "pycharm": {
   "stem_cell": {
    "cell_type": "raw",
    "metadata": {
     "collapsed": false
    },
    "source": []
   }
  }
 },
 "nbformat": 4,
 "nbformat_minor": 4
}
