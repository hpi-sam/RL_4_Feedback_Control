{
 "cells": [
  {
   "cell_type": "code",
   "execution_count": 1,
   "metadata": {},
   "outputs": [
    {
     "name": "stdout",
     "output_type": "stream",
     "text": [
      ".\n"
     ]
    }
   ],
   "source": [
    "import time\n",
    "import sys\n",
    "if \"../\" not in sys.path:\n",
    "  sys.path.append(\"../\") \n",
    "from envs.broken_components import BrokenComponentsEnv\n",
    "from envs.data_handler import DataHandler\n",
    "from IPython.display import clear_output\n",
    "print(\".\")"
   ]
  },
  {
   "cell_type": "code",
   "execution_count": 2,
   "metadata": {},
   "outputs": [
    {
     "data": {
      "text/plain": "[('_SFSW3ecdEeet0YmmfbMwkw', 'CF3'),\n ('_SFESrecdEeet0YmmfbMwkw', 'CF2'),\n ('_SFLoF-cdEeet0YmmfbMwkw', 'CF1'),\n ('_SE56vucdEeet0YmmfbMwkw', 'CF2'),\n ('_SExYNOcdEeet0YmmfbMwkw', 'CF2')]"
     },
     "execution_count": 2,
     "metadata": {},
     "output_type": "execute_result"
    }
   ],
   "source": [
    "dh = DataHandler()\n",
    "broken_components = dh.get_sample_component_failure_pairs(5)\n",
    "broken_components"
   ]
  },
  {
   "cell_type": "markdown",
   "metadata": {},
   "source": [
    "## Environment"
   ]
  },
  {
   "cell_type": "code",
   "execution_count": 3,
   "metadata": {},
   "outputs": [],
   "source": [
    "# possible reward_modus 'raw', 'sqt', 'log10', 'cube'\n",
    "env = BrokenComponentsEnv(broken_components, reward_modus='raw', reward_decrease=True, reward_decrease_factor=0.99, state_as_vec=True)\n",
    "# env = BrokenComponentsEnv(broken_components, reward_modus='raw', reward_decrease=True, reward_decrease_factor=0.99, state_as_vec=False)"
   ]
  },
  {
   "cell_type": "markdown",
   "metadata": {},
   "source": [
    "### Env properties"
   ]
  },
  {
   "cell_type": "code",
   "execution_count": 5,
   "metadata": {},
   "outputs": [
    {
     "data": {
      "text/plain": "[array([('_SFSW3ecdEeet0YmmfbMwkw', 'CF3'),\n        ('_SFESrecdEeet0YmmfbMwkw', 'CF2'),\n        ('_SFLoF-cdEeet0YmmfbMwkw', 'CF1'),\n        ('_SE56vucdEeet0YmmfbMwkw', 'CF2'),\n        ('_SExYNOcdEeet0YmmfbMwkw', 'CF2')], dtype=object),\n array([('_SFSW3ecdEeet0YmmfbMwkw', 'CF3'),\n        ('_SFESrecdEeet0YmmfbMwkw', 'CF2'),\n        ('_SFLoF-cdEeet0YmmfbMwkw', 'CF1'),\n        ('_SE56vucdEeet0YmmfbMwkw', 'CF2')], dtype=object),\n array([('_SFSW3ecdEeet0YmmfbMwkw', 'CF3'),\n        ('_SFESrecdEeet0YmmfbMwkw', 'CF2'),\n        ('_SFLoF-cdEeet0YmmfbMwkw', 'CF1'),\n        ('_SExYNOcdEeet0YmmfbMwkw', 'CF2')], dtype=object),\n array([('_SFSW3ecdEeet0YmmfbMwkw', 'CF3'),\n        ('_SFESrecdEeet0YmmfbMwkw', 'CF2'),\n        ('_SFLoF-cdEeet0YmmfbMwkw', 'CF1')], dtype=object),\n array([('_SFSW3ecdEeet0YmmfbMwkw', 'CF3'),\n        ('_SFESrecdEeet0YmmfbMwkw', 'CF2'),\n        ('_SE56vucdEeet0YmmfbMwkw', 'CF2'),\n        ('_SExYNOcdEeet0YmmfbMwkw', 'CF2')], dtype=object),\n array([('_SFSW3ecdEeet0YmmfbMwkw', 'CF3'),\n        ('_SFESrecdEeet0YmmfbMwkw', 'CF2'),\n        ('_SE56vucdEeet0YmmfbMwkw', 'CF2')], dtype=object),\n array([('_SFSW3ecdEeet0YmmfbMwkw', 'CF3'),\n        ('_SFESrecdEeet0YmmfbMwkw', 'CF2'),\n        ('_SExYNOcdEeet0YmmfbMwkw', 'CF2')], dtype=object),\n array([('_SFSW3ecdEeet0YmmfbMwkw', 'CF3'),\n        ('_SFESrecdEeet0YmmfbMwkw', 'CF2')], dtype=object),\n array([('_SFSW3ecdEeet0YmmfbMwkw', 'CF3'),\n        ('_SFLoF-cdEeet0YmmfbMwkw', 'CF1'),\n        ('_SE56vucdEeet0YmmfbMwkw', 'CF2'),\n        ('_SExYNOcdEeet0YmmfbMwkw', 'CF2')], dtype=object),\n array([('_SFSW3ecdEeet0YmmfbMwkw', 'CF3'),\n        ('_SFLoF-cdEeet0YmmfbMwkw', 'CF1'),\n        ('_SE56vucdEeet0YmmfbMwkw', 'CF2')], dtype=object),\n array([('_SFSW3ecdEeet0YmmfbMwkw', 'CF3'),\n        ('_SFLoF-cdEeet0YmmfbMwkw', 'CF1'),\n        ('_SExYNOcdEeet0YmmfbMwkw', 'CF2')], dtype=object),\n array([('_SFSW3ecdEeet0YmmfbMwkw', 'CF3'),\n        ('_SFLoF-cdEeet0YmmfbMwkw', 'CF1')], dtype=object),\n array([('_SFSW3ecdEeet0YmmfbMwkw', 'CF3'),\n        ('_SE56vucdEeet0YmmfbMwkw', 'CF2'),\n        ('_SExYNOcdEeet0YmmfbMwkw', 'CF2')], dtype=object),\n array([('_SFSW3ecdEeet0YmmfbMwkw', 'CF3'),\n        ('_SE56vucdEeet0YmmfbMwkw', 'CF2')], dtype=object),\n array([('_SFSW3ecdEeet0YmmfbMwkw', 'CF3'),\n        ('_SExYNOcdEeet0YmmfbMwkw', 'CF2')], dtype=object),\n array([('_SFSW3ecdEeet0YmmfbMwkw', 'CF3')], dtype=object),\n array([('_SFESrecdEeet0YmmfbMwkw', 'CF2'),\n        ('_SFLoF-cdEeet0YmmfbMwkw', 'CF1'),\n        ('_SE56vucdEeet0YmmfbMwkw', 'CF2'),\n        ('_SExYNOcdEeet0YmmfbMwkw', 'CF2')], dtype=object),\n array([('_SFESrecdEeet0YmmfbMwkw', 'CF2'),\n        ('_SFLoF-cdEeet0YmmfbMwkw', 'CF1'),\n        ('_SE56vucdEeet0YmmfbMwkw', 'CF2')], dtype=object),\n array([('_SFESrecdEeet0YmmfbMwkw', 'CF2'),\n        ('_SFLoF-cdEeet0YmmfbMwkw', 'CF1'),\n        ('_SExYNOcdEeet0YmmfbMwkw', 'CF2')], dtype=object),\n array([('_SFESrecdEeet0YmmfbMwkw', 'CF2'),\n        ('_SFLoF-cdEeet0YmmfbMwkw', 'CF1')], dtype=object),\n array([('_SFESrecdEeet0YmmfbMwkw', 'CF2'),\n        ('_SE56vucdEeet0YmmfbMwkw', 'CF2'),\n        ('_SExYNOcdEeet0YmmfbMwkw', 'CF2')], dtype=object),\n array([('_SFESrecdEeet0YmmfbMwkw', 'CF2'),\n        ('_SE56vucdEeet0YmmfbMwkw', 'CF2')], dtype=object),\n array([('_SFESrecdEeet0YmmfbMwkw', 'CF2'),\n        ('_SExYNOcdEeet0YmmfbMwkw', 'CF2')], dtype=object),\n array([('_SFESrecdEeet0YmmfbMwkw', 'CF2')], dtype=object),\n array([('_SFLoF-cdEeet0YmmfbMwkw', 'CF1'),\n        ('_SE56vucdEeet0YmmfbMwkw', 'CF2'),\n        ('_SExYNOcdEeet0YmmfbMwkw', 'CF2')], dtype=object),\n array([('_SFLoF-cdEeet0YmmfbMwkw', 'CF1'),\n        ('_SE56vucdEeet0YmmfbMwkw', 'CF2')], dtype=object),\n array([('_SFLoF-cdEeet0YmmfbMwkw', 'CF1'),\n        ('_SExYNOcdEeet0YmmfbMwkw', 'CF2')], dtype=object),\n array([('_SFLoF-cdEeet0YmmfbMwkw', 'CF1')], dtype=object),\n array([('_SE56vucdEeet0YmmfbMwkw', 'CF2'),\n        ('_SExYNOcdEeet0YmmfbMwkw', 'CF2')], dtype=object),\n array([('_SE56vucdEeet0YmmfbMwkw', 'CF2')], dtype=object),\n array([('_SExYNOcdEeet0YmmfbMwkw', 'CF2')], dtype=object),\n array([], dtype=object)]"
     },
     "execution_count": 5,
     "metadata": {},
     "output_type": "execute_result"
    }
   ],
   "source": [
    "#This is the state space\n",
    "n_actions = env.action_space.n\n",
    "n_states = env.observation_space.n\n",
    "env.action_space_names\n",
    "env.observation_space_names"
   ]
  },
  {
   "cell_type": "markdown",
   "metadata": {},
   "source": [
    "### Examples"
   ]
  },
  {
   "cell_type": "markdown",
   "metadata": {},
   "source": [
    "#### Example 1"
   ]
  },
  {
   "cell_type": "code",
   "execution_count": 6,
   "metadata": {},
   "outputs": [
    {
     "name": "stdout",
     "output_type": "stream",
     "text": [
      "Steps:  0\n",
      "Action:  None\n",
      "Successful:  None\n",
      "State:  [('_SFSW3ecdEeet0YmmfbMwkw', 'CF3'), ('_SFESrecdEeet0YmmfbMwkw', 'CF2'), ('_SFLoF-cdEeet0YmmfbMwkw', 'CF1'), ('_SE56vucdEeet0YmmfbMwkw', 'CF2'), ('_SExYNOcdEeet0YmmfbMwkw', 'CF2')] \n",
      "\n",
      "\n",
      "[1. 1. 1. 1. 1.] 0.0 False\n",
      "Steps:  1\n",
      "Action:  ('_SExYNOcdEeet0YmmfbMwkw', 'CF2')\n",
      "Successful:  False\n",
      "State:  [('_SFSW3ecdEeet0YmmfbMwkw', 'CF3'), ('_SFESrecdEeet0YmmfbMwkw', 'CF2'), ('_SFLoF-cdEeet0YmmfbMwkw', 'CF1'), ('_SE56vucdEeet0YmmfbMwkw', 'CF2'), ('_SExYNOcdEeet0YmmfbMwkw', 'CF2')] \n",
      "\n",
      "\n",
      "[1. 1. 0. 1. 1.] 7.8408 False\n",
      "Steps:  2\n",
      "Action:  ('_SFLoF-cdEeet0YmmfbMwkw', 'CF1')\n",
      "Successful:  True\n",
      "State:  [('_SFSW3ecdEeet0YmmfbMwkw', 'CF3'), ('_SFESrecdEeet0YmmfbMwkw', 'CF2'), ('_SE56vucdEeet0YmmfbMwkw', 'CF2'), ('_SExYNOcdEeet0YmmfbMwkw', 'CF2')] \n",
      "\n",
      "\n",
      "[1. 1. 0. 0. 1.] 5.821794000000001 False\n",
      "Steps:  3\n",
      "Action:  ('_SE56vucdEeet0YmmfbMwkw', 'CF2')\n",
      "Successful:  True\n",
      "State:  [('_SFSW3ecdEeet0YmmfbMwkw', 'CF3'), ('_SFESrecdEeet0YmmfbMwkw', 'CF2'), ('_SExYNOcdEeet0YmmfbMwkw', 'CF2')] \n",
      "\n",
      "\n"
     ]
    }
   ],
   "source": [
    "env.reset(reward_modus='raw') # possible reward_modus 'raw', 'sqt', 'log10', 'cubic'\n",
    "env.render()\n",
    "\n",
    "action = env.action_space.sample()\n",
    "state, reward, done, _ = env.step(action)\n",
    "print(state, reward, done)\n",
    "env.render()\n",
    "\n",
    "action = env.action_space.sample()\n",
    "state, reward, done, _ = env.step(action)\n",
    "print(state, reward, done)\n",
    "env.render()\n",
    "\n",
    "action = env.action_space.sample()\n",
    "state, reward, done, _ = env.step(action)\n",
    "print(state, reward, done)\n",
    "env.render()"
   ]
  },
  {
   "cell_type": "markdown",
   "metadata": {},
   "source": [
    "#### Example 2"
   ]
  },
  {
   "cell_type": "code",
   "execution_count": 7,
   "metadata": {},
   "outputs": [
    {
     "name": "stdout",
     "output_type": "stream",
     "text": [
      "Steps:  21\n",
      "Action:  ('_SE56vucdEeet0YmmfbMwkw', 'CF2')\n",
      "Successful:  True\n",
      "State:  [] \n",
      "\n",
      "\n",
      "Reward:  4.85836720932755\n",
      "FINISHED!\n",
      "Acc Reward:  -745.6035686549255\n"
     ]
    }
   ],
   "source": [
    "env.reset('raw') # possible reward_modus 'raw', 'sqt', 'log10', 'cube'\n",
    "accumulated_reward = 0\n",
    "episode_done = False\n",
    "\n",
    "while(not episode_done):\n",
    "    action = env.action_space.sample()\n",
    "    state, reward, done, _ = env.step(action)\n",
    "    accumulated_reward += reward\n",
    "    \n",
    "    clear_output(wait=True)\n",
    "    env.render()\n",
    "    print('Reward: ', reward)\n",
    "    time.sleep(1)\n",
    "    \n",
    "    \n",
    "    if(done):\n",
    "        print('FINISHED!')\n",
    "        print('Acc Reward: ', accumulated_reward)\n",
    "    episode_done = done"
   ]
  },
  {
   "cell_type": "code",
   "execution_count": null,
   "metadata": {},
   "outputs": [],
   "source": []
  }
 ],
 "metadata": {
  "kernelspec": {
   "display_name": "Python 3",
   "language": "python",
   "name": "python3"
  },
  "language_info": {
   "codemirror_mode": {
    "name": "ipython",
    "version": 3
   },
   "file_extension": ".py",
   "mimetype": "text/x-python",
   "name": "python",
   "nbconvert_exporter": "python",
   "pygments_lexer": "ipython3",
   "version": "3.8.3"
  }
 },
 "nbformat": 4,
 "nbformat_minor": 4
}