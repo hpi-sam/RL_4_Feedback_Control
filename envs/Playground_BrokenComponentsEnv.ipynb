{
 "cells": [
  {
   "cell_type": "code",
   "execution_count": 1,
   "metadata": {},
   "outputs": [],
   "source": [
    "import os\n",
    "import sys\n",
    "module_path = os.path.abspath(os.path.join('..'))\n",
    "if module_path not in sys.path:\n",
    "    sys.path.append(module_path)"
   ]
  },
  {
   "cell_type": "code",
   "execution_count": 2,
   "metadata": {},
   "outputs": [],
   "source": [
    "import itertools\n",
    "import random\n",
    "import numpy as np\n",
    "import gym\n",
    "import time\n",
    "from gym import spaces\n",
    "from typing import Tuple, List\n",
    "from envs.broken_components import BrokenComponentsEnv, DATA_HANDLER\n",
    "from IPython.display import clear_output"
   ]
  },
  {
   "cell_type": "code",
   "execution_count": 2,
   "metadata": {},
   "outputs": [
    {
     "data": {
      "text/plain": [
       "[('Inventory Service', 'CF1'),\n",
       " ('Comment Item Filter', 'CF3'),\n",
       " ('Region Item Filter', 'CF2'),\n",
       " ('Item Management Service', 'CF3'),\n",
       " ('Item Management Service', 'CF1')]"
      ]
     },
     "execution_count": 2,
     "metadata": {},
     "output_type": "execute_result"
    }
   ],
   "source": [
    "broken_components = DATA_HANDLER.get_sample_component_failure_pairs(5)\n",
    "broken_components"
   ]
  },
  {
   "cell_type": "markdown",
   "metadata": {},
   "source": [
    "## Environment"
   ]
  },
  {
   "cell_type": "code",
   "execution_count": 3,
   "metadata": {},
   "outputs": [],
   "source": [
    "# possible reward_modus 'raw', 'sqt', 'log10', 'cubic'\n",
    "env = BrokenComponentsEnv(broken_components, reward_modus='raw')"
   ]
  },
  {
   "cell_type": "markdown",
   "metadata": {},
   "source": [
    "### Env properties"
   ]
  },
  {
   "cell_type": "code",
   "execution_count": 4,
   "metadata": {},
   "outputs": [
    {
     "data": {
      "text/plain": [
       "5"
      ]
     },
     "execution_count": 4,
     "metadata": {},
     "output_type": "execute_result"
    }
   ],
   "source": [
    "n_actions = env.action_space.n\n",
    "n_actions"
   ]
  },
  {
   "cell_type": "code",
   "execution_count": 5,
   "metadata": {},
   "outputs": [
    {
     "data": {
      "text/plain": [
       "32"
      ]
     },
     "execution_count": 5,
     "metadata": {},
     "output_type": "execute_result"
    }
   ],
   "source": [
    "n_spaces = env.observation_space.n\n",
    "n_spaces"
   ]
  },
  {
   "cell_type": "code",
   "execution_count": 6,
   "metadata": {},
   "outputs": [
    {
     "data": {
      "text/plain": [
       "array([('Inventory Service', 'CF1'), ('Comment Item Filter', 'CF3'),\n",
       "       ('Region Item Filter', 'CF2'), ('Item Management Service', 'CF3'),\n",
       "       ('Item Management Service', 'CF1')], dtype=object)"
      ]
     },
     "execution_count": 6,
     "metadata": {},
     "output_type": "execute_result"
    }
   ],
   "source": [
    "env.action_space_names"
   ]
  },
  {
   "cell_type": "code",
   "execution_count": 7,
   "metadata": {},
   "outputs": [
    {
     "data": {
      "text/plain": [
       "[array([('Inventory Service', 'CF1'), ('Comment Item Filter', 'CF3'),\n",
       "        ('Region Item Filter', 'CF2'), ('Item Management Service', 'CF3'),\n",
       "        ('Item Management Service', 'CF1')], dtype=object),\n",
       " array([('Inventory Service', 'CF1'), ('Comment Item Filter', 'CF3'),\n",
       "        ('Region Item Filter', 'CF2'), ('Item Management Service', 'CF3')],\n",
       "       dtype=object),\n",
       " array([('Inventory Service', 'CF1'), ('Comment Item Filter', 'CF3'),\n",
       "        ('Region Item Filter', 'CF2'), ('Item Management Service', 'CF1')],\n",
       "       dtype=object),\n",
       " array([('Inventory Service', 'CF1'), ('Comment Item Filter', 'CF3'),\n",
       "        ('Region Item Filter', 'CF2')], dtype=object),\n",
       " array([('Inventory Service', 'CF1'), ('Comment Item Filter', 'CF3'),\n",
       "        ('Item Management Service', 'CF3'),\n",
       "        ('Item Management Service', 'CF1')], dtype=object),\n",
       " array([('Inventory Service', 'CF1'), ('Comment Item Filter', 'CF3'),\n",
       "        ('Item Management Service', 'CF3')], dtype=object),\n",
       " array([('Inventory Service', 'CF1'), ('Comment Item Filter', 'CF3'),\n",
       "        ('Item Management Service', 'CF1')], dtype=object),\n",
       " array([('Inventory Service', 'CF1'), ('Comment Item Filter', 'CF3')],\n",
       "       dtype=object),\n",
       " array([('Inventory Service', 'CF1'), ('Region Item Filter', 'CF2'),\n",
       "        ('Item Management Service', 'CF3'),\n",
       "        ('Item Management Service', 'CF1')], dtype=object),\n",
       " array([('Inventory Service', 'CF1'), ('Region Item Filter', 'CF2'),\n",
       "        ('Item Management Service', 'CF3')], dtype=object),\n",
       " array([('Inventory Service', 'CF1'), ('Region Item Filter', 'CF2'),\n",
       "        ('Item Management Service', 'CF1')], dtype=object),\n",
       " array([('Inventory Service', 'CF1'), ('Region Item Filter', 'CF2')],\n",
       "       dtype=object),\n",
       " array([('Inventory Service', 'CF1'), ('Item Management Service', 'CF3'),\n",
       "        ('Item Management Service', 'CF1')], dtype=object),\n",
       " array([('Inventory Service', 'CF1'), ('Item Management Service', 'CF3')],\n",
       "       dtype=object),\n",
       " array([('Inventory Service', 'CF1'), ('Item Management Service', 'CF1')],\n",
       "       dtype=object),\n",
       " array([('Inventory Service', 'CF1')], dtype=object),\n",
       " array([('Comment Item Filter', 'CF3'), ('Region Item Filter', 'CF2'),\n",
       "        ('Item Management Service', 'CF3'),\n",
       "        ('Item Management Service', 'CF1')], dtype=object),\n",
       " array([('Comment Item Filter', 'CF3'), ('Region Item Filter', 'CF2'),\n",
       "        ('Item Management Service', 'CF3')], dtype=object),\n",
       " array([('Comment Item Filter', 'CF3'), ('Region Item Filter', 'CF2'),\n",
       "        ('Item Management Service', 'CF1')], dtype=object),\n",
       " array([('Comment Item Filter', 'CF3'), ('Region Item Filter', 'CF2')],\n",
       "       dtype=object),\n",
       " array([('Comment Item Filter', 'CF3'), ('Item Management Service', 'CF3'),\n",
       "        ('Item Management Service', 'CF1')], dtype=object),\n",
       " array([('Comment Item Filter', 'CF3'), ('Item Management Service', 'CF3')],\n",
       "       dtype=object),\n",
       " array([('Comment Item Filter', 'CF3'), ('Item Management Service', 'CF1')],\n",
       "       dtype=object),\n",
       " array([('Comment Item Filter', 'CF3')], dtype=object),\n",
       " array([('Region Item Filter', 'CF2'), ('Item Management Service', 'CF3'),\n",
       "        ('Item Management Service', 'CF1')], dtype=object),\n",
       " array([('Region Item Filter', 'CF2'), ('Item Management Service', 'CF3')],\n",
       "       dtype=object),\n",
       " array([('Region Item Filter', 'CF2'), ('Item Management Service', 'CF1')],\n",
       "       dtype=object),\n",
       " array([('Region Item Filter', 'CF2')], dtype=object),\n",
       " array([('Item Management Service', 'CF3'),\n",
       "        ('Item Management Service', 'CF1')], dtype=object),\n",
       " array([('Item Management Service', 'CF3')], dtype=object),\n",
       " array([('Item Management Service', 'CF1')], dtype=object),\n",
       " array([], dtype=object)]"
      ]
     },
     "execution_count": 7,
     "metadata": {},
     "output_type": "execute_result"
    }
   ],
   "source": [
    "env.observation_space_names"
   ]
  },
  {
   "cell_type": "markdown",
   "metadata": {},
   "source": [
    "### Examples"
   ]
  },
  {
   "cell_type": "markdown",
   "metadata": {},
   "source": [
    "#### Example 1"
   ]
  },
  {
   "cell_type": "code",
   "execution_count": 8,
   "metadata": {},
   "outputs": [
    {
     "name": "stdout",
     "output_type": "stream",
     "text": [
      "Steps:  0\n",
      "Action:  None\n",
      "Successful:  None\n",
      "State:  [('Inventory Service', 'CF1'), ('Comment Item Filter', 'CF3'), ('Region Item Filter', 'CF2'), ('Item Management Service', 'CF3'), ('Item Management Service', 'CF1')] \n",
      "\n",
      "\n",
      "4 103.01663190000001 False\n",
      "Steps:  1\n",
      "Action:  ('Region Item Filter', 'CF2')\n",
      "Successful:  True\n",
      "State:  [('Inventory Service', 'CF1'), ('Comment Item Filter', 'CF3'), ('Item Management Service', 'CF3'), ('Item Management Service', 'CF1')] \n",
      "\n",
      "\n",
      "5 119.1233033 False\n",
      "Steps:  2\n",
      "Action:  ('Item Management Service', 'CF1')\n",
      "Successful:  True\n",
      "State:  [('Inventory Service', 'CF1'), ('Comment Item Filter', 'CF3'), ('Item Management Service', 'CF3')] \n",
      "\n",
      "\n",
      "7 16.0 False\n",
      "Steps:  3\n",
      "Action:  ('Item Management Service', 'CF3')\n",
      "Successful:  True\n",
      "State:  [('Inventory Service', 'CF1'), ('Comment Item Filter', 'CF3')] \n",
      "\n",
      "\n"
     ]
    }
   ],
   "source": [
    "env.reset(reward_modus='raw') # possible reward_modus 'raw', 'sqt', 'log10', 'cubic'\n",
    "env.render()\n",
    "\n",
    "action = env.action_space.sample()\n",
    "state, reward, done, _ = env.step(action)\n",
    "print(state, reward, done)\n",
    "env.render()\n",
    "\n",
    "action = env.action_space.sample()\n",
    "state, reward, done, _ = env.step(action)\n",
    "print(state, reward, done)\n",
    "env.render()\n",
    "\n",
    "action = env.action_space.sample()\n",
    "state, reward, done, _ = env.step(action)\n",
    "print(state, reward, done)\n",
    "env.render()"
   ]
  },
  {
   "cell_type": "markdown",
   "metadata": {},
   "source": [
    "#### Example 2"
   ]
  },
  {
   "cell_type": "code",
   "execution_count": 9,
   "metadata": {},
   "outputs": [
    {
     "name": "stdout",
     "output_type": "stream",
     "text": [
      "Steps:  9\n",
      "Action:  ('Item Management Service', 'CF1')\n",
      "Successful:  True\n",
      "State:  [] \n",
      "\n",
      "\n",
      "FINISHED!\n",
      "Acc Reward:  270.90624660000003\n"
     ]
    }
   ],
   "source": [
    "env.reset('raw') # possible reward_modus 'raw', 'sqt', 'log10', 'cubic'\n",
    "accumulated_reward = 0\n",
    "episode_done = False\n",
    "\n",
    "while(not episode_done):\n",
    "    action = env.action_space.sample()\n",
    "    state, reward, done, _ = env.step(action)\n",
    "    accumulated_reward += reward\n",
    "    \n",
    "    clear_output(wait=True)\n",
    "    env.render()\n",
    "    time.sleep(1)\n",
    "    \n",
    "    \n",
    "    if(done):\n",
    "        print('FINISHED!')\n",
    "        print('Acc Reward: ', accumulated_reward)\n",
    "    episode_done = done"
   ]
  },
  {
   "cell_type": "code",
   "execution_count": null,
   "metadata": {},
   "outputs": [],
   "source": []
  },
  {
   "cell_type": "code",
   "execution_count": null,
   "metadata": {},
   "outputs": [],
   "source": []
  }
 ],
 "metadata": {
  "kernelspec": {
   "display_name": "Python 3",
   "language": "python",
   "name": "python3"
  },
  "language_info": {
   "codemirror_mode": {
    "name": "ipython",
    "version": 3
   },
   "file_extension": ".py",
   "mimetype": "text/x-python",
   "name": "python",
   "nbconvert_exporter": "python",
   "pygments_lexer": "ipython3",
   "version": "3.7.7"
  }
 },
 "nbformat": 4,
 "nbformat_minor": 4
}
