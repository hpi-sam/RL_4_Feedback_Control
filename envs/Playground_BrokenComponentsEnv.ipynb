{
 "cells": [
  {
   "cell_type": "code",
   "execution_count": 9,
   "metadata": {
    "collapsed": false,
    "jupyter": {
     "outputs_hidden": false
    },
    "pycharm": {
     "is_executing": false,
     "name": "#%%\n"
    }
   },
   "outputs": [
    {
     "name": "stdout",
     "output_type": "stream",
     "text": [
      "/Users/hao/workspace/hpi_de/4th_Semester/Online Learning/rl-4-self-repair\n"
     ]
    }
   ],
   "source": [
    "import os\n",
    "import sys\n",
    "module_path = os.path.abspath(os.path.join('..'))\n",
    "if module_path not in sys.path:\n",
    "    sys.path.append(module_path)"
   ]
  },
  {
   "cell_type": "code",
   "execution_count": 1,
   "metadata": {
    "pycharm": {
     "is_executing": false,
     "name": "#%%\n"
    }
   },
   "outputs": [
    {
     "traceback": [
      "\u001b[0;36m  File \u001b[0;32m\"<ipython-input-1-28aa147f5ac6>\"\u001b[0;36m, line \u001b[0;32m1\u001b[0m\n\u001b[0;31m    cd ..\u001b[0m\n\u001b[0m        ^\u001b[0m\n\u001b[0;31mSyntaxError\u001b[0m\u001b[0;31m:\u001b[0m invalid syntax\n"
     ],
     "ename": "SyntaxError",
     "evalue": "invalid syntax (<ipython-input-1-28aa147f5ac6>, line 1)",
     "output_type": "error"
    }
   ],
   "source": [
    "cd .."
   ]
  },
  {
   "cell_type": "code",
   "execution_count": 2,
   "metadata": {
    "collapsed": false,
    "jupyter": {
     "outputs_hidden": false
    },
    "pycharm": {
     "is_executing": false,
     "name": "#%%\n"
    }
   },
   "outputs": [],
   "source": [
    "import time\n",
    "from envs.broken_components import BrokenComponentsEnv, DATA_HANDLER\n",
    "from IPython.display import clear_output"
   ]
  },
  {
   "cell_type": "code",
   "execution_count": 3,
   "metadata": {
    "pycharm": {
     "is_executing": false
    }
   },
   "outputs": [
    {
     "data": {
      "text/plain": [
       "[('Authentication Service', 'CF2'),\n",
       " ('Inventory Service', 'CF2'),\n",
       " ('Future Sales Item Filter', 'CF1'),\n",
       " ('Bid and Buy Service', 'CF3'),\n",
       " ('Buy Now Item Filter', 'CF3')]"
      ]
     },
     "execution_count": 3,
     "metadata": {},
     "output_type": "execute_result"
    }
   ],
   "source": [
    "broken_components = DATA_HANDLER.get_sample_component_failure_pairs(5)\n",
    "broken_components"
   ]
  },
  {
   "cell_type": "markdown",
   "metadata": {},
   "source": [
    "## Environment"
   ]
  },
  {
   "cell_type": "code",
   "execution_count": 4,
   "metadata": {
    "pycharm": {
     "is_executing": false
    }
   },
   "outputs": [],
   "source": [
    "# possible reward_modus 'raw', 'sqt', 'log10', 'cubic'\n",
    "env = BrokenComponentsEnv(broken_components, reward_modus='raw')"
   ]
  },
  {
   "cell_type": "markdown",
   "metadata": {},
   "source": [
    "### Env properties"
   ]
  },
  {
   "cell_type": "code",
   "execution_count": 5,
   "metadata": {
    "pycharm": {
     "is_executing": false
    }
   },
   "outputs": [
    {
     "data": {
      "text/plain": [
       "5"
      ]
     },
     "execution_count": 5,
     "metadata": {},
     "output_type": "execute_result"
    }
   ],
   "source": [
    "n_actions = env.action_space.n\n",
    "n_actions"
   ]
  },
  {
   "cell_type": "code",
   "execution_count": 6,
   "metadata": {
    "pycharm": {
     "is_executing": false
    }
   },
   "outputs": [
    {
     "data": {
      "text/plain": [
       "32"
      ]
     },
     "execution_count": 6,
     "metadata": {},
     "output_type": "execute_result"
    }
   ],
   "source": [
    "n_spaces = env.observation_space.n\n",
    "n_spaces"
   ]
  },
  {
   "cell_type": "code",
   "execution_count": 7,
   "metadata": {
    "pycharm": {
     "is_executing": false
    }
   },
   "outputs": [
    {
     "data": {
      "text/plain": [
       "array([('Authentication Service', 'CF2'), ('Inventory Service', 'CF2'),\n",
       "       ('Future Sales Item Filter', 'CF1'),\n",
       "       ('Bid and Buy Service', 'CF3'), ('Buy Now Item Filter', 'CF3')],\n",
       "      dtype=object)"
      ]
     },
     "execution_count": 7,
     "metadata": {},
     "output_type": "execute_result"
    }
   ],
   "source": [
    "env.action_space_names"
   ]
  },
  {
   "cell_type": "code",
   "execution_count": 8,
   "metadata": {
    "pycharm": {
     "is_executing": false
    }
   },
   "outputs": [
    {
     "data": {
      "text/plain": [
       "[array([('Authentication Service', 'CF2'), ('Inventory Service', 'CF2'),\n",
       "        ('Future Sales Item Filter', 'CF1'),\n",
       "        ('Bid and Buy Service', 'CF3'), ('Buy Now Item Filter', 'CF3')],\n",
       "       dtype=object),\n",
       " array([('Authentication Service', 'CF2'), ('Inventory Service', 'CF2'),\n",
       "        ('Future Sales Item Filter', 'CF1'),\n",
       "        ('Bid and Buy Service', 'CF3')], dtype=object),\n",
       " array([('Authentication Service', 'CF2'), ('Inventory Service', 'CF2'),\n",
       "        ('Future Sales Item Filter', 'CF1'),\n",
       "        ('Buy Now Item Filter', 'CF3')], dtype=object),\n",
       " array([('Authentication Service', 'CF2'), ('Inventory Service', 'CF2'),\n",
       "        ('Future Sales Item Filter', 'CF1')], dtype=object),\n",
       " array([('Authentication Service', 'CF2'), ('Inventory Service', 'CF2'),\n",
       "        ('Bid and Buy Service', 'CF3'), ('Buy Now Item Filter', 'CF3')],\n",
       "       dtype=object),\n",
       " array([('Authentication Service', 'CF2'), ('Inventory Service', 'CF2'),\n",
       "        ('Bid and Buy Service', 'CF3')], dtype=object),\n",
       " array([('Authentication Service', 'CF2'), ('Inventory Service', 'CF2'),\n",
       "        ('Buy Now Item Filter', 'CF3')], dtype=object),\n",
       " array([('Authentication Service', 'CF2'), ('Inventory Service', 'CF2')],\n",
       "       dtype=object),\n",
       " array([('Authentication Service', 'CF2'),\n",
       "        ('Future Sales Item Filter', 'CF1'),\n",
       "        ('Bid and Buy Service', 'CF3'), ('Buy Now Item Filter', 'CF3')],\n",
       "       dtype=object),\n",
       " array([('Authentication Service', 'CF2'),\n",
       "        ('Future Sales Item Filter', 'CF1'),\n",
       "        ('Bid and Buy Service', 'CF3')], dtype=object),\n",
       " array([('Authentication Service', 'CF2'),\n",
       "        ('Future Sales Item Filter', 'CF1'),\n",
       "        ('Buy Now Item Filter', 'CF3')], dtype=object),\n",
       " array([('Authentication Service', 'CF2'),\n",
       "        ('Future Sales Item Filter', 'CF1')], dtype=object),\n",
       " array([('Authentication Service', 'CF2'), ('Bid and Buy Service', 'CF3'),\n",
       "        ('Buy Now Item Filter', 'CF3')], dtype=object),\n",
       " array([('Authentication Service', 'CF2'), ('Bid and Buy Service', 'CF3')],\n",
       "       dtype=object),\n",
       " array([('Authentication Service', 'CF2'), ('Buy Now Item Filter', 'CF3')],\n",
       "       dtype=object),\n",
       " array([('Authentication Service', 'CF2')], dtype=object),\n",
       " array([('Inventory Service', 'CF2'), ('Future Sales Item Filter', 'CF1'),\n",
       "        ('Bid and Buy Service', 'CF3'), ('Buy Now Item Filter', 'CF3')],\n",
       "       dtype=object),\n",
       " array([('Inventory Service', 'CF2'), ('Future Sales Item Filter', 'CF1'),\n",
       "        ('Bid and Buy Service', 'CF3')], dtype=object),\n",
       " array([('Inventory Service', 'CF2'), ('Future Sales Item Filter', 'CF1'),\n",
       "        ('Buy Now Item Filter', 'CF3')], dtype=object),\n",
       " array([('Inventory Service', 'CF2'), ('Future Sales Item Filter', 'CF1')],\n",
       "       dtype=object),\n",
       " array([('Inventory Service', 'CF2'), ('Bid and Buy Service', 'CF3'),\n",
       "        ('Buy Now Item Filter', 'CF3')], dtype=object),\n",
       " array([('Inventory Service', 'CF2'), ('Bid and Buy Service', 'CF3')],\n",
       "       dtype=object),\n",
       " array([('Inventory Service', 'CF2'), ('Buy Now Item Filter', 'CF3')],\n",
       "       dtype=object),\n",
       " array([('Inventory Service', 'CF2')], dtype=object),\n",
       " array([('Future Sales Item Filter', 'CF1'),\n",
       "        ('Bid and Buy Service', 'CF3'), ('Buy Now Item Filter', 'CF3')],\n",
       "       dtype=object),\n",
       " array([('Future Sales Item Filter', 'CF1'),\n",
       "        ('Bid and Buy Service', 'CF3')], dtype=object),\n",
       " array([('Future Sales Item Filter', 'CF1'),\n",
       "        ('Buy Now Item Filter', 'CF3')], dtype=object),\n",
       " array([('Future Sales Item Filter', 'CF1')], dtype=object),\n",
       " array([('Bid and Buy Service', 'CF3'), ('Buy Now Item Filter', 'CF3')],\n",
       "       dtype=object),\n",
       " array([('Bid and Buy Service', 'CF3')], dtype=object),\n",
       " array([('Buy Now Item Filter', 'CF3')], dtype=object),\n",
       " array([], dtype=object)]"
      ]
     },
     "execution_count": 8,
     "metadata": {},
     "output_type": "execute_result"
    }
   ],
   "source": [
    "env.observation_space_names"
   ]
  },
  {
   "cell_type": "markdown",
   "metadata": {},
   "source": [
    "### Examples"
   ]
  },
  {
   "cell_type": "markdown",
   "metadata": {},
   "source": [
    "#### Example 1"
   ]
  },
  {
   "cell_type": "code",
   "execution_count": 9,
   "metadata": {
    "pycharm": {
     "is_executing": false
    }
   },
   "outputs": [
    {
     "name": "stdout",
     "output_type": "stream",
     "text": [
      "Steps:  0\n",
      "Action:  None\n",
      "Successful:  None\n",
      "State:  [('Authentication Service', 'CF2'), ('Inventory Service', 'CF2'), ('Future Sales Item Filter', 'CF1'), ('Bid and Buy Service', 'CF3'), ('Buy Now Item Filter', 'CF3')] \n",
      "\n",
      "\n",
      "4 7.0 False\n",
      "Steps:  1\n",
      "Action:  ('Future Sales Item Filter', 'CF1')\n",
      "Successful:  True\n",
      "State:  [('Authentication Service', 'CF2'), ('Inventory Service', 'CF2'), ('Bid and Buy Service', 'CF3'), ('Buy Now Item Filter', 'CF3')] \n",
      "\n",
      "\n",
      "6 3211.120464 False\n",
      "Steps:  2\n",
      "Action:  ('Bid and Buy Service', 'CF3')\n",
      "Successful:  True\n",
      "State:  [('Authentication Service', 'CF2'), ('Inventory Service', 'CF2'), ('Buy Now Item Filter', 'CF3')] \n",
      "\n",
      "\n",
      "7 210.81952379999998 False\n",
      "Steps:  3\n",
      "Action:  ('Buy Now Item Filter', 'CF3')\n",
      "Successful:  True\n",
      "State:  [('Authentication Service', 'CF2'), ('Inventory Service', 'CF2')] \n",
      "\n",
      "\n"
     ]
    }
   ],
   "source": [
    "env.reset(reward_modus='raw') # possible reward_modus 'raw', 'sqt', 'log10', 'cubic'\n",
    "env.render()\n",
    "\n",
    "action = env.action_space.sample()\n",
    "state, reward, done, _ = env.step(action)\n",
    "print(state, reward, done)\n",
    "env.render()\n",
    "\n",
    "action = env.action_space.sample()\n",
    "state, reward, done, _ = env.step(action)\n",
    "print(state, reward, done)\n",
    "env.render()\n",
    "\n",
    "action = env.action_space.sample()\n",
    "state, reward, done, _ = env.step(action)\n",
    "print(state, reward, done)\n",
    "env.render()"
   ]
  },
  {
   "cell_type": "markdown",
   "metadata": {},
   "source": [
    "#### Example 2"
   ]
  },
  {
   "cell_type": "code",
   "execution_count": 10,
   "metadata": {
    "pycharm": {
     "is_executing": false
    }
   },
   "outputs": [
    {
     "name": "stdout",
     "output_type": "stream",
     "text": [
      "Steps:  8\n",
      "Action:  ('Future Sales Item Filter', 'CF1')\n",
      "Successful:  True\n",
      "State:  [] \n",
      "\n",
      "\n",
      "FINISHED!\n",
      "Acc Reward:  1264.7257802\n"
     ]
    }
   ],
   "source": [
    "env.reset('raw') # possible reward_modus 'raw', 'sqt', 'log10', 'cubic'\n",
    "accumulated_reward = 0\n",
    "episode_done = False\n",
    "\n",
    "while(not episode_done):\n",
    "    action = env.action_space.sample()\n",
    "    state, reward, done, _ = env.step(action)\n",
    "    accumulated_reward += reward\n",
    "    \n",
    "    clear_output(wait=True)\n",
    "    env.render()\n",
    "    time.sleep(1)\n",
    "    \n",
    "    \n",
    "    if(done):\n",
    "        print('FINISHED!')\n",
    "        print('Acc Reward: ', accumulated_reward)\n",
    "    episode_done = done"
   ]
  },
  {
   "cell_type": "code",
   "execution_count": null,
   "metadata": {},
   "outputs": [],
   "source": []
  }
 ],
 "metadata": {
  "kernelspec": {
   "display_name": "Python 3",
   "language": "python",
   "name": "python3"
  },
  "language_info": {
   "codemirror_mode": {
    "name": "ipython",
    "version": 3
   },
   "file_extension": ".py",
   "mimetype": "text/x-python",
   "name": "python",
   "nbconvert_exporter": "python",
   "pygments_lexer": "ipython3",
   "version": "3.7.7"
  },
  "pycharm": {
   "stem_cell": {
    "cell_type": "raw",
    "metadata": {
     "collapsed": false
    },
    "source": []
   }
  }
 },
 "nbformat": 4,
 "nbformat_minor": 4
}