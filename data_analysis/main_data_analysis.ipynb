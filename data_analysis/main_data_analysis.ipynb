{
 "cells": [
  {
   "cell_type": "code",
   "execution_count": 1,
   "metadata": {
    "colab": {
     "base_uri": "https://localhost:8080/",
     "height": 221
    },
    "colab_type": "code",
    "id": "dNV1t2bt-Vj4",
    "outputId": "c9a58540-5c4a-4f49-cefb-25e5ef9b3a25",
    "scrolled": false
   },
   "outputs": [
    {
     "data": {
      "text/html": [
       "<div>\n",
       "<style scoped>\n",
       "    .dataframe tbody tr th:only-of-type {\n",
       "        vertical-align: middle;\n",
       "    }\n",
       "\n",
       "    .dataframe tbody tr th {\n",
       "        vertical-align: top;\n",
       "    }\n",
       "\n",
       "    .dataframe thead th {\n",
       "        text-align: right;\n",
       "    }\n",
       "</style>\n",
       "<table border=\"1\" class=\"dataframe\">\n",
       "  <thead>\n",
       "    <tr style=\"text-align: right;\">\n",
       "      <th></th>\n",
       "      <th>Optimal_Affected_Component</th>\n",
       "      <th>Optimal_Failure</th>\n",
       "      <th>untransformed</th>\n",
       "      <th>cube</th>\n",
       "      <th>sqt</th>\n",
       "      <th>log10</th>\n",
       "      <th>ln</th>\n",
       "      <th>log2</th>\n",
       "    </tr>\n",
       "  </thead>\n",
       "  <tbody>\n",
       "    <tr>\n",
       "      <td>0</td>\n",
       "      <td>Query Service</td>\n",
       "      <td>CF1</td>\n",
       "      <td>49.5</td>\n",
       "      <td>5.558599</td>\n",
       "      <td>13.105330</td>\n",
       "      <td>2.234896</td>\n",
       "      <td>5.146038</td>\n",
       "      <td>7.424164</td>\n",
       "    </tr>\n",
       "    <tr>\n",
       "      <td>1</td>\n",
       "      <td>User Management Service</td>\n",
       "      <td>CF2</td>\n",
       "      <td>16.0</td>\n",
       "      <td>4.920383</td>\n",
       "      <td>10.914362</td>\n",
       "      <td>2.075997</td>\n",
       "      <td>4.780159</td>\n",
       "      <td>6.896312</td>\n",
       "    </tr>\n",
       "    <tr>\n",
       "      <td>2</td>\n",
       "      <td>Authentication Service</td>\n",
       "      <td>CF3</td>\n",
       "      <td>31.5</td>\n",
       "      <td>4.920383</td>\n",
       "      <td>10.914362</td>\n",
       "      <td>2.075997</td>\n",
       "      <td>4.780159</td>\n",
       "      <td>6.896312</td>\n",
       "    </tr>\n",
       "    <tr>\n",
       "      <td>3</td>\n",
       "      <td>Bid and Buy Service</td>\n",
       "      <td>CF3</td>\n",
       "      <td>25.0</td>\n",
       "      <td>4.594071</td>\n",
       "      <td>9.846831</td>\n",
       "      <td>1.986593</td>\n",
       "      <td>4.574299</td>\n",
       "      <td>6.599319</td>\n",
       "    </tr>\n",
       "    <tr>\n",
       "      <td>4</td>\n",
       "      <td>Item Management Service</td>\n",
       "      <td>CF3</td>\n",
       "      <td>16.0</td>\n",
       "      <td>3.559606</td>\n",
       "      <td>6.715880</td>\n",
       "      <td>1.654206</td>\n",
       "      <td>3.808950</td>\n",
       "      <td>5.495153</td>\n",
       "    </tr>\n",
       "  </tbody>\n",
       "</table>\n",
       "</div>"
      ],
      "text/plain": [
       "  Optimal_Affected_Component Optimal_Failure  untransformed      cube  \\\n",
       "0              Query Service             CF1           49.5  5.558599   \n",
       "1    User Management Service             CF2           16.0  4.920383   \n",
       "2     Authentication Service             CF3           31.5  4.920383   \n",
       "3        Bid and Buy Service             CF3           25.0  4.594071   \n",
       "4    Item Management Service             CF3           16.0  3.559606   \n",
       "\n",
       "         sqt     log10        ln      log2  \n",
       "0  13.105330  2.234896  5.146038  7.424164  \n",
       "1  10.914362  2.075997  4.780159  6.896312  \n",
       "2  10.914362  2.075997  4.780159  6.896312  \n",
       "3   9.846831  1.986593  4.574299  6.599319  \n",
       "4   6.715880  1.654206  3.808950  5.495153  "
      ]
     },
     "execution_count": 1,
     "metadata": {},
     "output_type": "execute_result"
    }
   ],
   "source": [
    "import os\n",
    "import pandas as pd\n",
    "import numpy as np\n",
    "\n",
    "frames = []\n",
    "\n",
    "import sys\n",
    "sys.path.append(\"..\")\n",
    "from envs.data_handler import DataHandler\n",
    "\n",
    "dh = DataHandler()\n",
    "dh.data.head()"
   ]
  },
  {
   "cell_type": "code",
   "execution_count": 2,
   "metadata": {},
   "outputs": [
    {
     "name": "stdout",
     "output_type": "stream",
     "text": [
      "We have 71 unqiue combinations of <component, failre> and at total 10928 data points.\n"
     ]
    }
   ],
   "source": [
    "total = len(dh.data.index)\n",
    "groups = dh.data.groupby(['Optimal_Affected_Component', 'Optimal_Failure']).ngroups\n",
    "\n",
    "print('We have ' + str(groups) + ' unqiue combinations of <component, failre> and at total ' + str(total) + ' data points.')"
   ]
  },
  {
   "cell_type": "markdown",
   "metadata": {
    "colab_type": "text",
    "id": "cyABfBv3-Vj8"
   },
   "source": [
    "# Task 1: Plot the distribution "
   ]
  },
  {
   "cell_type": "code",
   "execution_count": 3,
   "metadata": {
    "colab": {
     "base_uri": "https://localhost:8080/",
     "height": 739
    },
    "colab_type": "code",
    "id": "tiQnVU4i-Vj8",
    "outputId": "20ddec0e-59b1-49ba-8c4e-74064a1cf4b9"
   },
   "outputs": [
    {
     "data": {
      "text/plain": [
       "(array([ 1,  2,  3,  4,  5,  6,  7,  8,  9, 10, 11, 12, 13, 14, 15, 16, 17,\n",
       "        18, 19, 20, 21, 22, 23, 24, 25, 26, 27, 28, 29, 30, 31, 32, 33, 34,\n",
       "        35, 36, 37, 38, 39, 40, 41, 42, 43, 44, 45, 46, 47, 48, 49, 50, 51,\n",
       "        52, 53, 54, 55, 56, 57, 58, 59, 60, 61, 62, 63, 64, 65, 66, 67, 68,\n",
       "        69, 70, 71]), <a list of 71 Text xticklabel objects>)"
      ]
     },
     "execution_count": 3,
     "metadata": {},
     "output_type": "execute_result"
    }
   ],
   "source": [
    "import matplotlib.pyplot as plt\n",
    "dh.data.boxplot(by=['Optimal_Affected_Component', 'Optimal_Failure'], column=\"untransformed\", figsize=(20,5), showfliers=False)\n",
    "plt.xticks(rotation='vertical')"
   ]
  },
  {
   "cell_type": "code",
   "execution_count": 4,
   "metadata": {},
   "outputs": [
    {
     "data": {
      "text/plain": [
       "<matplotlib.axes._subplots.AxesSubplot at 0x1a1ec22890>"
      ]
     },
     "execution_count": 4,
     "metadata": {},
     "output_type": "execute_result"
    },
    {
     "data": {
      "image/png": "[encoded data removed]",
      "text/plain": [
       "<Figure size 432x288 with 1 Axes>"
      ]
     },
     "metadata": {
      "needs_background": "light"
     },
     "output_type": "display_data"
    }
   ],
   "source": [
    "dh.data['untransformed'].hist()"
   ]
  },
  {
   "cell_type": "markdown",
   "metadata": {
    "colab_type": "text",
    "id": "5cHLriOi-Vj_"
   },
   "source": [
    "# Task 2: Compute statistics\n",
    "\n",
    "* mean = average of the numbers\n",
    "* median = separating the higher half from the lower half\n",
    "* mode = the value that appears most often, it can be multiple values\n",
    "* std = standard deviation\n",
    "* skew = skewness, measure of the asymmetry of the probability distribution of a real-valued random variable about its mean\n",
    "* kurtosis = measure of the \"tailedness\" of the probability distribution of a real-valued random variable"
   ]
  },
  {
   "cell_type": "code",
   "execution_count": 5,
   "metadata": {},
   "outputs": [],
   "source": [
    "untransformed_data = dh.data[['Optimal_Affected_Component','Optimal_Failure','untransformed']]"
   ]
  },
  {
   "cell_type": "markdown",
   "metadata": {
    "colab_type": "text",
    "id": "ehHWoguH-VkD"
   },
   "source": [
    "## Mean"
   ]
  },
  {
   "cell_type": "code",
   "execution_count": 6,
   "metadata": {
    "colab": {
     "base_uri": "https://localhost:8080/",
     "height": 315
    },
    "colab_type": "code",
    "id": "jaa6cr0F-VkD",
    "outputId": "c9b52e07-3f03-4fd3-fd0b-122221730171"
   },
   "outputs": [
    {
     "data": {
      "text/plain": [
       "array([[<matplotlib.axes._subplots.AxesSubplot object at 0x1a1ec567d0>]],\n",
       "      dtype=object)"
      ]
     },
     "execution_count": 6,
     "metadata": {},
     "output_type": "execute_result"
    },
    {
     "data": {
      "image/png": "[encoded data removed]",
      "text/plain": [
       "<Figure size 432x288 with 1 Axes>"
      ]
     },
     "metadata": {
      "needs_background": "light"
     },
     "output_type": "display_data"
    }
   ],
   "source": [
    "mean_values = untransformed_data.groupby(['Optimal_Affected_Component', 'Optimal_Failure']).agg('mean')\n",
    "mean_values.hist()"
   ]
  },
  {
   "cell_type": "code",
   "execution_count": 7,
   "metadata": {},
   "outputs": [
    {
     "data": {
      "text/html": [
       "<div>\n",
       "<style scoped>\n",
       "    .dataframe tbody tr th:only-of-type {\n",
       "        vertical-align: middle;\n",
       "    }\n",
       "\n",
       "    .dataframe tbody tr th {\n",
       "        vertical-align: top;\n",
       "    }\n",
       "\n",
       "    .dataframe thead th {\n",
       "        text-align: right;\n",
       "    }\n",
       "</style>\n",
       "<table border=\"1\" class=\"dataframe\">\n",
       "  <thead>\n",
       "    <tr style=\"text-align: right;\">\n",
       "      <th></th>\n",
       "      <th></th>\n",
       "      <th>untransformed</th>\n",
       "    </tr>\n",
       "    <tr>\n",
       "      <th>Optimal_Affected_Component</th>\n",
       "      <th>Optimal_Failure</th>\n",
       "      <th></th>\n",
       "    </tr>\n",
       "  </thead>\n",
       "  <tbody>\n",
       "    <tr>\n",
       "      <td rowspan=\"3\" valign=\"top\">Query Service</td>\n",
       "      <td>CF1</td>\n",
       "      <td>2219.978165</td>\n",
       "    </tr>\n",
       "    <tr>\n",
       "      <td>CF2</td>\n",
       "      <td>2087.293458</td>\n",
       "    </tr>\n",
       "    <tr>\n",
       "      <td>CF5</td>\n",
       "      <td>3102.656684</td>\n",
       "    </tr>\n",
       "  </tbody>\n",
       "</table>\n",
       "</div>"
      ],
      "text/plain": [
       "                                            untransformed\n",
       "Optimal_Affected_Component Optimal_Failure               \n",
       "Query Service              CF1                2219.978165\n",
       "                           CF2                2087.293458\n",
       "                           CF5                3102.656684"
      ]
     },
     "execution_count": 7,
     "metadata": {},
     "output_type": "execute_result"
    }
   ],
   "source": [
    "# get the outliers\n",
    "mean_group = mean_values.apply(lambda x: x)\n",
    "mean_group[mean_group.untransformed > 1700]"
   ]
  },
  {
   "cell_type": "markdown",
   "metadata": {
    "colab_type": "text",
    "id": "qFeokmDo-VkG"
   },
   "source": [
    "## Median"
   ]
  },
  {
   "cell_type": "code",
   "execution_count": 8,
   "metadata": {
    "colab": {
     "base_uri": "https://localhost:8080/",
     "height": 315
    },
    "colab_type": "code",
    "id": "a_ejMssD-VkH",
    "outputId": "db4d99b8-e9cf-445e-b3b5-74b170d38d39"
   },
   "outputs": [
    {
     "data": {
      "text/plain": [
       "array([[<matplotlib.axes._subplots.AxesSubplot object at 0x1a1f98a2d0>]],\n",
       "      dtype=object)"
      ]
     },
     "execution_count": 8,
     "metadata": {},
     "output_type": "execute_result"
    },
    {
     "data": {
      "image/png": "[encoded data removed]",
      "text/plain": [
       "<Figure size 432x288 with 1 Axes>"
      ]
     },
     "metadata": {
      "needs_background": "light"
     },
     "output_type": "display_data"
    }
   ],
   "source": [
    "median = untransformed_data.groupby(['Optimal_Affected_Component', 'Optimal_Failure']).agg('median')\n",
    "median.hist()"
   ]
  },
  {
   "cell_type": "code",
   "execution_count": 9,
   "metadata": {},
   "outputs": [
    {
     "data": {
      "text/html": [
       "<div>\n",
       "<style scoped>\n",
       "    .dataframe tbody tr th:only-of-type {\n",
       "        vertical-align: middle;\n",
       "    }\n",
       "\n",
       "    .dataframe tbody tr th {\n",
       "        vertical-align: top;\n",
       "    }\n",
       "\n",
       "    .dataframe thead th {\n",
       "        text-align: right;\n",
       "    }\n",
       "</style>\n",
       "<table border=\"1\" class=\"dataframe\">\n",
       "  <thead>\n",
       "    <tr style=\"text-align: right;\">\n",
       "      <th></th>\n",
       "      <th></th>\n",
       "      <th>untransformed</th>\n",
       "    </tr>\n",
       "    <tr>\n",
       "      <th>Optimal_Affected_Component</th>\n",
       "      <th>Optimal_Failure</th>\n",
       "      <th></th>\n",
       "    </tr>\n",
       "  </thead>\n",
       "  <tbody>\n",
       "    <tr>\n",
       "      <td>Category Item Filter</td>\n",
       "      <td>CF5</td>\n",
       "      <td>665.719122</td>\n",
       "    </tr>\n",
       "    <tr>\n",
       "      <td>Future Sales Item Filter</td>\n",
       "      <td>CF5</td>\n",
       "      <td>960.823229</td>\n",
       "    </tr>\n",
       "    <tr>\n",
       "      <td rowspan=\"3\" valign=\"top\">Query Service</td>\n",
       "      <td>CF1</td>\n",
       "      <td>616.342395</td>\n",
       "    </tr>\n",
       "    <tr>\n",
       "      <td>CF2</td>\n",
       "      <td>638.460292</td>\n",
       "    </tr>\n",
       "    <tr>\n",
       "      <td>CF5</td>\n",
       "      <td>1218.511276</td>\n",
       "    </tr>\n",
       "    <tr>\n",
       "      <td rowspan=\"2\" valign=\"top\">Recommendation Item Filter</td>\n",
       "      <td>CF1</td>\n",
       "      <td>1190.805189</td>\n",
       "    </tr>\n",
       "    <tr>\n",
       "      <td>CF3</td>\n",
       "      <td>769.139019</td>\n",
       "    </tr>\n",
       "  </tbody>\n",
       "</table>\n",
       "</div>"
      ],
      "text/plain": [
       "                                            untransformed\n",
       "Optimal_Affected_Component Optimal_Failure               \n",
       "Category Item Filter       CF5                 665.719122\n",
       "Future Sales Item Filter   CF5                 960.823229\n",
       "Query Service              CF1                 616.342395\n",
       "                           CF2                 638.460292\n",
       "                           CF5                1218.511276\n",
       "Recommendation Item Filter CF1                1190.805189\n",
       "                           CF3                 769.139019"
      ]
     },
     "execution_count": 9,
     "metadata": {},
     "output_type": "execute_result"
    }
   ],
   "source": [
    "# get the outliers\n",
    "group = median.apply(lambda x: x)\n",
    "group[group.untransformed > 600]"
   ]
  },
  {
   "cell_type": "markdown",
   "metadata": {
    "colab_type": "text",
    "id": "vKOg7mQC-VkL"
   },
   "source": [
    "## Mode"
   ]
  },
  {
   "cell_type": "code",
   "execution_count": 10,
   "metadata": {
    "colab": {
     "base_uri": "https://localhost:8080/",
     "height": 714
    },
    "colab_type": "code",
    "id": "kiWnS-To-VkM",
    "outputId": "0feda0bd-3a70-4a8e-c9f6-54c45b57802e"
   },
   "outputs": [
    {
     "data": {
      "text/plain": [
       "(array([73.,  3.,  1.,  0.,  0.,  0.,  1.,  0.,  1.,  1.]),\n",
       " array([   5.      ,  233.793025,  462.58605 ,  691.379075,  920.1721  ,\n",
       "        1148.965125, 1377.75815 , 1606.551175, 1835.3442  , 2064.137225,\n",
       "        2292.93025 ]),\n",
       " <a list of 10 Patch objects>)"
      ]
     },
     "execution_count": 10,
     "metadata": {},
     "output_type": "execute_result"
    },
    {
     "data": {
      "image/png": "[encoded data removed]",
      "text/plain": [
       "<Figure size 432x288 with 1 Axes>"
      ]
     },
     "metadata": {
      "needs_background": "light"
     },
     "output_type": "display_data"
    }
   ],
   "source": [
    "import operator\n",
    "import functools\n",
    "\n",
    "mode = untransformed_data.groupby(['Optimal_Affected_Component', 'Optimal_Failure']).agg(pd.Series.mode)\n",
    "mode_values = mode['untransformed'].values\n",
    "mode_flatten = np.hstack(mode_values).tolist()\n",
    "\n",
    "plt.hist(mode_flatten)"
   ]
  },
  {
   "cell_type": "code",
   "execution_count": 11,
   "metadata": {},
   "outputs": [
    {
     "name": "stdout",
     "output_type": "stream",
     "text": [
      "Outliers:\n",
      "[\"('Future Sales Item Filter', 'CF5')\", 1850.09346]\n",
      "[\"('Query Service', 'CF5')\", 498.26343960000014]\n",
      "[\"('Recommendation Item Filter', 'CF1')\", 2292.93025]\n",
      "[\"('Recommendation Item Filter', 'CF3')\", 1405.257845]\n"
     ]
    }
   ],
   "source": [
    "# get the outliers\n",
    "mode_group = mode.apply(lambda x: x)\n",
    "high_values = []\n",
    "for index, row in mode_group.iterrows():\n",
    "    if isinstance(row['untransformed'], np.ndarray):\n",
    "        for value in row['untransformed']:\n",
    "            if value >= 400:\n",
    "                high_values.append([str(index), value])\n",
    "    else:\n",
    "        if row['untransformed'] >= 400:\n",
    "            high_values.append([str(index), row['untransformed']])\n",
    "\n",
    "print('Outliers:')\n",
    "for value in high_values:\n",
    "    print(value)"
   ]
  },
  {
   "cell_type": "markdown",
   "metadata": {
    "colab_type": "text",
    "id": "wfAhSGGM-VkQ"
   },
   "source": [
    "## standard deviation"
   ]
  },
  {
   "cell_type": "code",
   "execution_count": 12,
   "metadata": {
    "colab": {
     "base_uri": "https://localhost:8080/",
     "height": 315
    },
    "colab_type": "code",
    "id": "wiw-zlI0-VkQ",
    "outputId": "2e585b7a-e04f-4918-b2d2-492360c13536"
   },
   "outputs": [
    {
     "data": {
      "text/plain": [
       "array([[<matplotlib.axes._subplots.AxesSubplot object at 0x1a1fbe2750>]],\n",
       "      dtype=object)"
      ]
     },
     "execution_count": 12,
     "metadata": {},
     "output_type": "execute_result"
    },
    {
     "data": {
      "image/png": "[encoded data removed]",
      "text/plain": [
       "<Figure size 432x288 with 1 Axes>"
      ]
     },
     "metadata": {
      "needs_background": "light"
     },
     "output_type": "display_data"
    }
   ],
   "source": [
    "std = untransformed_data.groupby(['Optimal_Affected_Component', 'Optimal_Failure']).agg('std')\n",
    "std.hist()"
   ]
  },
  {
   "cell_type": "code",
   "execution_count": 13,
   "metadata": {
    "colab": {
     "base_uri": "https://localhost:8080/",
     "height": 204
    },
    "colab_type": "code",
    "id": "lWpIYhqfThlf",
    "outputId": "c78c7fc7-5d31-4022-c6ef-4b0d88a9907a"
   },
   "outputs": [
    {
     "data": {
      "text/html": [
       "<div>\n",
       "<style scoped>\n",
       "    .dataframe tbody tr th:only-of-type {\n",
       "        vertical-align: middle;\n",
       "    }\n",
       "\n",
       "    .dataframe tbody tr th {\n",
       "        vertical-align: top;\n",
       "    }\n",
       "\n",
       "    .dataframe thead th {\n",
       "        text-align: right;\n",
       "    }\n",
       "</style>\n",
       "<table border=\"1\" class=\"dataframe\">\n",
       "  <thead>\n",
       "    <tr style=\"text-align: right;\">\n",
       "      <th></th>\n",
       "      <th></th>\n",
       "      <th>untransformed</th>\n",
       "    </tr>\n",
       "    <tr>\n",
       "      <th>Optimal_Affected_Component</th>\n",
       "      <th>Optimal_Failure</th>\n",
       "      <th></th>\n",
       "    </tr>\n",
       "  </thead>\n",
       "  <tbody>\n",
       "    <tr>\n",
       "      <td rowspan=\"4\" valign=\"top\">Query Service</td>\n",
       "      <td>CF1</td>\n",
       "      <td>4433.458518</td>\n",
       "    </tr>\n",
       "    <tr>\n",
       "      <td>CF2</td>\n",
       "      <td>4227.087309</td>\n",
       "    </tr>\n",
       "    <tr>\n",
       "      <td>CF3</td>\n",
       "      <td>3683.953364</td>\n",
       "    </tr>\n",
       "    <tr>\n",
       "      <td>CF5</td>\n",
       "      <td>3549.914299</td>\n",
       "    </tr>\n",
       "  </tbody>\n",
       "</table>\n",
       "</div>"
      ],
      "text/plain": [
       "                                            untransformed\n",
       "Optimal_Affected_Component Optimal_Failure               \n",
       "Query Service              CF1                4433.458518\n",
       "                           CF2                4227.087309\n",
       "                           CF3                3683.953364\n",
       "                           CF5                3549.914299"
      ]
     },
     "execution_count": 13,
     "metadata": {},
     "output_type": "execute_result"
    }
   ],
   "source": [
    "# get the outliers\n",
    "std_group = std.apply(lambda x: x)\n",
    "std_group[std_group.untransformed > 2000]"
   ]
  },
  {
   "cell_type": "markdown",
   "metadata": {
    "colab_type": "text",
    "id": "92m34mYJ-VkT"
   },
   "source": [
    "## skewness\n",
    "measure of the asymmetry of the probability distribution of a real-valued random variable about its mean"
   ]
  },
  {
   "cell_type": "code",
   "execution_count": 14,
   "metadata": {
    "colab": {
     "base_uri": "https://localhost:8080/",
     "height": 315
    },
    "colab_type": "code",
    "id": "romGfOIU-VkU",
    "outputId": "4c1d0417-4287-496b-ba71-03059e81de95"
   },
   "outputs": [
    {
     "data": {
      "text/plain": [
       "6.032647808507236"
      ]
     },
     "execution_count": 14,
     "metadata": {},
     "output_type": "execute_result"
    }
   ],
   "source": [
    "values = untransformed_data['untransformed']\n",
    "values.skew()"
   ]
  },
  {
   "cell_type": "code",
   "execution_count": 15,
   "metadata": {},
   "outputs": [
    {
     "data": {
      "text/plain": [
       "0    True\n",
       "dtype: bool"
      ]
     },
     "execution_count": 15,
     "metadata": {},
     "output_type": "execute_result"
    }
   ],
   "source": [
    "# we have positive skewed data\n",
    "(values.mode() < values.median()) & (values.median() < values.mean())"
   ]
  },
  {
   "cell_type": "markdown",
   "metadata": {
    "colab_type": "text",
    "id": "BP-zAZnx-Vkb"
   },
   "source": [
    "## kurtosis\n",
    "measure of the \"tailedness\" of the probability distribution of a real-valued random variable"
   ]
  },
  {
   "cell_type": "code",
   "execution_count": 16,
   "metadata": {
    "colab": {
     "base_uri": "https://localhost:8080/",
     "height": 315
    },
    "colab_type": "code",
    "id": "-OfS_4hO-Vkb",
    "outputId": "0952241c-b316-4c08-b5ac-fa5cf6b2615d"
   },
   "outputs": [
    {
     "data": {
      "text/plain": [
       "54.48617183127999"
      ]
     },
     "execution_count": 16,
     "metadata": {},
     "output_type": "execute_result"
    }
   ],
   "source": [
    "kurtosis = untransformed_data['untransformed'].kurt()\n",
    "kurtosis"
   ]
  },
  {
   "cell_type": "code",
   "execution_count": 17,
   "metadata": {},
   "outputs": [
    {
     "data": {
      "text/plain": [
       "True"
      ]
     },
     "execution_count": 17,
     "metadata": {},
     "output_type": "execute_result"
    }
   ],
   "source": [
    "# having leptokurtical data\n",
    "exzess = kurtosis - 3\n",
    "exzess > 0"
   ]
  },
  {
   "cell_type": "markdown",
   "metadata": {
    "colab_type": "text",
    "id": "DXcm95tvXCag"
   },
   "source": [
    "# Result:\n",
    "\n",
    "* The combination of <Query Service,CF5> shows particular high values\n",
    "* We have a positive skewness, that increases the probability to get a lower value compared to the average.\n",
    "* We have leptokurtical data what means that the values are distributed over a small range."
   ]
  },
  {
   "cell_type": "code",
   "execution_count": null,
   "metadata": {},
   "outputs": [],
   "source": []
  }
 ],
 "metadata": {
  "colab": {
   "name": "Data Analysis",
   "provenance": []
  },
  "kernelspec": {
   "display_name": "Python 3",
   "language": "python",
   "name": "python3"
  },
  "language_info": {
   "codemirror_mode": {
    "name": "ipython",
    "version": 3
   },
   "file_extension": ".py",
   "mimetype": "text/x-python",
   "name": "python",
   "nbconvert_exporter": "python",
   "pygments_lexer": "ipython3",
   "version": "3.7.4"
  }
 },
 "nbformat": 4,
 "nbformat_minor": 1
}
