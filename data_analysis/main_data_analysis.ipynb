{
 "cells": [
  {
   "cell_type": "markdown",
   "metadata": {
    "colab_type": "text",
    "id": "9TGXiw99-Vj3"
   },
   "source": [
    "# Data Loading\n",
    "Load csv files and concat them."
   ]
  },
  {
   "cell_type": "code",
   "execution_count": null,
   "metadata": {
    "colab": {
     "base_uri": "https://localhost:8080/",
     "height": 34
    },
    "colab_type": "code",
    "id": "zluTPLfH85ox",
    "outputId": "52a4cc7c-5eca-4e99-9e8e-57a2808a2b71"
   },
   "outputs": [],
   "source": [
    "!git clone https://github.com/christianadriano/RL_4_SelfHealingSystems.git"
   ]
  },
  {
   "cell_type": "code",
   "execution_count": 4,
   "metadata": {
    "colab": {
     "base_uri": "https://localhost:8080/",
     "height": 221
    },
    "colab_type": "code",
    "id": "dNV1t2bt-Vj4",
    "outputId": "c9a58540-5c4a-4f49-cefb-25e5ef9b3a25",
    "scrolled": false
   },
   "outputs": [
    {
     "data": {
      "text/html": [
       "<div>\n",
       "<style scoped>\n",
       "    .dataframe tbody tr th:only-of-type {\n",
       "        vertical-align: middle;\n",
       "    }\n",
       "\n",
       "    .dataframe tbody tr th {\n",
       "        vertical-align: top;\n",
       "    }\n",
       "\n",
       "    .dataframe thead th {\n",
       "        text-align: right;\n",
       "    }\n",
       "</style>\n",
       "<table border=\"1\" class=\"dataframe\">\n",
       "  <thead>\n",
       "    <tr style=\"text-align: right;\">\n",
       "      <th></th>\n",
       "      <th>Optimal_Affected_Component</th>\n",
       "      <th>Optimal_Failure</th>\n",
       "      <th>Optimal_Rule</th>\n",
       "      <th>Optimal_Utility_Increase</th>\n",
       "    </tr>\n",
       "  </thead>\n",
       "  <tbody>\n",
       "    <tr>\n",
       "      <td>0</td>\n",
       "      <td>Query Service</td>\n",
       "      <td>CF1</td>\n",
       "      <td>RestartComponent</td>\n",
       "      <td>49.5</td>\n",
       "    </tr>\n",
       "    <tr>\n",
       "      <td>1</td>\n",
       "      <td>User Management Service</td>\n",
       "      <td>CF2</td>\n",
       "      <td>RestartComponent</td>\n",
       "      <td>16.0</td>\n",
       "    </tr>\n",
       "    <tr>\n",
       "      <td>2</td>\n",
       "      <td>Authentication Service</td>\n",
       "      <td>CF3</td>\n",
       "      <td>ReplaceComponent</td>\n",
       "      <td>31.5</td>\n",
       "    </tr>\n",
       "    <tr>\n",
       "      <td>3</td>\n",
       "      <td>Bid and Buy Service</td>\n",
       "      <td>CF3</td>\n",
       "      <td>HwRedeployComponent</td>\n",
       "      <td>25.0</td>\n",
       "    </tr>\n",
       "    <tr>\n",
       "      <td>4</td>\n",
       "      <td>Item Management Service</td>\n",
       "      <td>CF3</td>\n",
       "      <td>HwRedeployComponent</td>\n",
       "      <td>16.0</td>\n",
       "    </tr>\n",
       "  </tbody>\n",
       "</table>\n",
       "</div>"
      ],
      "text/plain": [
       "  Optimal_Affected_Component Optimal_Failure         Optimal_Rule  \\\n",
       "0              Query Service             CF1     RestartComponent   \n",
       "1    User Management Service             CF2     RestartComponent   \n",
       "2     Authentication Service             CF3     ReplaceComponent   \n",
       "3        Bid and Buy Service             CF3  HwRedeployComponent   \n",
       "4    Item Management Service             CF3  HwRedeployComponent   \n",
       "\n",
       "   Optimal_Utility_Increase  \n",
       "0                      49.5  \n",
       "1                      16.0  \n",
       "2                      31.5  \n",
       "3                      25.0  \n",
       "4                      16.0  "
      ]
     },
     "execution_count": 4,
     "metadata": {},
     "output_type": "execute_result"
    }
   ],
   "source": [
    "import os\n",
    "import pandas as pd\n",
    "import numpy\n",
    "\n",
    "frames = []\n",
    "\n",
    "for root, dirs, files in os.walk('../data/'):\n",
    "    for f in files:\n",
    "        if f.endswith(\".csv\"):\n",
    "            file_path = os.path.join(root, f)\n",
    "            dataframe = pd.read_csv(file_path)\n",
    "            dataframe.columns = dataframe.columns.str.replace('\\t', '')\n",
    "            frames.append(dataframe)\n",
    "\n",
    "data = pd.concat(frames, sort=False)[['Optimal_Affected_Component', 'Optimal_Failure', 'Optimal_Rule', 'Optimal_Utility_Increase']]\n",
    "data.head()"
   ]
  },
  {
   "cell_type": "markdown",
   "metadata": {
    "colab_type": "text",
    "id": "cyABfBv3-Vj8"
   },
   "source": [
    "# Task 1: Plot the distribution of rewards for each repair-action <component, failure, rule>"
   ]
  },
  {
   "cell_type": "code",
   "execution_count": 5,
   "metadata": {
    "colab": {
     "base_uri": "https://localhost:8080/",
     "height": 739
    },
    "colab_type": "code",
    "id": "tiQnVU4i-Vj8",
    "outputId": "20ddec0e-59b1-49ba-8c4e-74064a1cf4b9"
   },
   "outputs": [
    {
     "data": {
      "text/plain": [
       "(array([ 1,  2,  3,  4,  5,  6,  7,  8,  9, 10, 11, 12, 13, 14, 15, 16, 17,\n",
       "        18, 19, 20, 21, 22, 23, 24, 25, 26, 27, 28, 29, 30, 31, 32, 33, 34,\n",
       "        35, 36, 37, 38, 39, 40, 41, 42, 43, 44, 45, 46, 47, 48, 49, 50, 51,\n",
       "        52, 53, 54, 55, 56, 57, 58, 59, 60, 61, 62, 63, 64, 65, 66, 67, 68,\n",
       "        69, 70, 71, 72]), <a list of 72 Text xticklabel objects>)"
      ]
     },
     "execution_count": 5,
     "metadata": {},
     "output_type": "execute_result"
    }
   ],
   "source": [
    "import matplotlib.pyplot as plt\n",
    "data.boxplot(by=['Optimal_Affected_Component', 'Optimal_Failure', 'Optimal_Rule'], figsize=(20,5), showfliers=False)\n",
    "plt.xticks(rotation='vertical')"
   ]
  },
  {
   "cell_type": "markdown",
   "metadata": {
    "colab_type": "text",
    "id": "5cHLriOi-Vj_"
   },
   "source": [
    "# Task 2: Compute statistics\n",
    "\n",
    "* mean = average of the numbers\n",
    "* median = separating the higher half from the lower half\n",
    "* mode = the value that appears most often, it can be multiple values\n",
    "* std = standard deviation\n",
    "* skew = skewness, measure of the asymmetry of the probability distribution of a real-valued random variable about its mean\n",
    "* kurtosis = measure of the \"tailedness\" of the probability distribution of a real-valued random variable"
   ]
  },
  {
   "cell_type": "code",
   "execution_count": null,
   "metadata": {
    "colab": {
     "base_uri": "https://localhost:8080/",
     "height": 518
    },
    "colab_type": "code",
    "id": "eVfXVv60-VkA",
    "outputId": "be756b22-155d-47c2-9a00-22b733f70e1d"
   },
   "outputs": [],
   "source": [
    "data.groupby(['Optimal_Affected_Component', 'Optimal_Failure', 'Optimal_Rule']).agg(['mean', 'median', pd.Series.mode, 'std', 'skew', pd.DataFrame.kurt])"
   ]
  },
  {
   "cell_type": "markdown",
   "metadata": {
    "colab_type": "text",
    "id": "ehHWoguH-VkD"
   },
   "source": [
    "## Mean"
   ]
  },
  {
   "cell_type": "code",
   "execution_count": null,
   "metadata": {
    "colab": {
     "base_uri": "https://localhost:8080/",
     "height": 315
    },
    "colab_type": "code",
    "id": "jaa6cr0F-VkD",
    "outputId": "c9b52e07-3f03-4fd3-fd0b-122221730171"
   },
   "outputs": [],
   "source": [
    "data.groupby(['Optimal_Affected_Component', 'Optimal_Failure', 'Optimal_Rule']).agg('mean').hist()"
   ]
  },
  {
   "cell_type": "code",
   "execution_count": null,
   "metadata": {
    "colab": {
     "base_uri": "https://localhost:8080/",
     "height": 173
    },
    "colab_type": "code",
    "id": "_7DiFrQETG4R",
    "outputId": "27bdbaab-2ccc-47d4-fe54-aef439f4c267"
   },
   "outputs": [],
   "source": [
    "# get the outliers\n",
    "group = data.groupby(['Optimal_Affected_Component', 'Optimal_Failure', 'Optimal_Rule']).agg('mean').apply(lambda x: x)\n",
    "group[group.Optimal_Utility_Increase > 1700]"
   ]
  },
  {
   "cell_type": "markdown",
   "metadata": {
    "colab_type": "text",
    "id": "qFeokmDo-VkG"
   },
   "source": [
    "## Median"
   ]
  },
  {
   "cell_type": "code",
   "execution_count": null,
   "metadata": {
    "colab": {
     "base_uri": "https://localhost:8080/",
     "height": 315
    },
    "colab_type": "code",
    "id": "a_ejMssD-VkH",
    "outputId": "db4d99b8-e9cf-445e-b3b5-74b170d38d39"
   },
   "outputs": [],
   "source": [
    "data.groupby(['Optimal_Affected_Component', 'Optimal_Failure', 'Optimal_Rule']).agg('median').hist()"
   ]
  },
  {
   "cell_type": "code",
   "execution_count": null,
   "metadata": {
    "colab": {
     "base_uri": "https://localhost:8080/",
     "height": 297
    },
    "colab_type": "code",
    "id": "Po-6GSS2TDNB",
    "outputId": "044b15e2-59e7-4665-83ca-e3d5dcc350fc"
   },
   "outputs": [],
   "source": [
    "# get the outliers\n",
    "group = data.groupby(['Optimal_Affected_Component', 'Optimal_Failure', 'Optimal_Rule']).agg('median').apply(lambda x: x)\n",
    "group[group.Optimal_Utility_Increase > 550]"
   ]
  },
  {
   "cell_type": "markdown",
   "metadata": {
    "colab_type": "text",
    "id": "vKOg7mQC-VkL"
   },
   "source": [
    "## Mode"
   ]
  },
  {
   "cell_type": "code",
   "execution_count": null,
   "metadata": {
    "colab": {
     "base_uri": "https://localhost:8080/",
     "height": 714
    },
    "colab_type": "code",
    "id": "kiWnS-To-VkM",
    "outputId": "0feda0bd-3a70-4a8e-c9f6-54c45b57802e"
   },
   "outputs": [],
   "source": [
    "high_values = []\n",
    "\n",
    "groups = data.groupby(['Optimal_Affected_Component', 'Optimal_Failure', 'Optimal_Rule']).agg(pd.Series.mode).apply(lambda x: x)\n",
    "fig, ax = plt.subplots(figsize=(20,5))\n",
    "for index, row in groups.iterrows():\n",
    "  if isinstance(row['Optimal_Utility_Increase'], numpy.ndarray):\n",
    "      for value in row['Optimal_Utility_Increase']:\n",
    "        ax.plot(str(index), value, marker='o', linestyle='', ms=12, label=str(index))\n",
    "        if value >= 400:\n",
    "          high_values.append([str(index), value])\n",
    "  else:\n",
    "    ax.plot(str(index), row['Optimal_Utility_Increase'], marker='o', linestyle='', ms=8, label=str(index))\n",
    "    if row['Optimal_Utility_Increase'] >= 400:\n",
    "      high_values.append([str(index), row['Optimal_Utility_Increase']])\n",
    "\n",
    "plt.xticks(rotation='vertical')\n",
    "plt.show()\n",
    "\n",
    "print('Outliers:')\n",
    "for value in high_values:\n",
    "  print(value)"
   ]
  },
  {
   "cell_type": "markdown",
   "metadata": {
    "colab_type": "text",
    "id": "wfAhSGGM-VkQ"
   },
   "source": [
    "## standard deviation"
   ]
  },
  {
   "cell_type": "code",
   "execution_count": null,
   "metadata": {
    "colab": {
     "base_uri": "https://localhost:8080/",
     "height": 315
    },
    "colab_type": "code",
    "id": "wiw-zlI0-VkQ",
    "outputId": "2e585b7a-e04f-4918-b2d2-492360c13536"
   },
   "outputs": [],
   "source": [
    "data.groupby(['Optimal_Affected_Component', 'Optimal_Failure', 'Optimal_Rule']).agg('std').hist()"
   ]
  },
  {
   "cell_type": "code",
   "execution_count": null,
   "metadata": {
    "colab": {
     "base_uri": "https://localhost:8080/",
     "height": 204
    },
    "colab_type": "code",
    "id": "lWpIYhqfThlf",
    "outputId": "c78c7fc7-5d31-4022-c6ef-4b0d88a9907a"
   },
   "outputs": [],
   "source": [
    "# get the outliers\n",
    "group = data.groupby(['Optimal_Affected_Component', 'Optimal_Failure', 'Optimal_Rule']).agg('std').apply(lambda x: x)\n",
    "group[group.Optimal_Utility_Increase > 2000]"
   ]
  },
  {
   "cell_type": "markdown",
   "metadata": {
    "colab_type": "text",
    "id": "92m34mYJ-VkT"
   },
   "source": [
    "## skewness\n",
    "measure of the asymmetry of the probability distribution of a real-valued random variable about its mean"
   ]
  },
  {
   "cell_type": "code",
   "execution_count": 6,
   "metadata": {
    "colab": {
     "base_uri": "https://localhost:8080/",
     "height": 315
    },
    "colab_type": "code",
    "id": "romGfOIU-VkU",
    "outputId": "4c1d0417-4287-496b-ba71-03059e81de95"
   },
   "outputs": [
    {
     "data": {
      "text/plain": [
       "array([[<matplotlib.axes._subplots.AxesSubplot object at 0x120e38e50>]],\n",
       "      dtype=object)"
      ]
     },
     "execution_count": 6,
     "metadata": {},
     "output_type": "execute_result"
    },
    {
     "data": {
      "image/png": "[encoded data removed]",
      "text/plain": [
       "<Figure size 432x288 with 1 Axes>"
      ]
     },
     "metadata": {
      "needs_background": "light"
     },
     "output_type": "display_data"
    }
   ],
   "source": [
    "data.groupby(['Optimal_Affected_Component', 'Optimal_Failure', 'Optimal_Rule']).agg('skew').hist()"
   ]
  },
  {
   "cell_type": "code",
   "execution_count": null,
   "metadata": {
    "colab": {
     "base_uri": "https://localhost:8080/",
     "height": 514
    },
    "colab_type": "code",
    "id": "3EwI89-ETp3x",
    "outputId": "aca92018-9dd3-4972-b037-f1d60943b9e5"
   },
   "outputs": [],
   "source": [
    "# get the outliers\n",
    "group = data.groupby(['Optimal_Affected_Component', 'Optimal_Failure', 'Optimal_Rule']).agg('skew').apply(lambda x: x)\n",
    "pd.concat([group[group.Optimal_Utility_Increase < 0.5], group[group.Optimal_Utility_Increase > 3.0]], sort=False)"
   ]
  },
  {
   "cell_type": "markdown",
   "metadata": {
    "colab_type": "text",
    "id": "BP-zAZnx-Vkb"
   },
   "source": [
    "## kurtosis\n",
    "measure of the \"tailedness\" of the probability distribution of a real-valued random variable"
   ]
  },
  {
   "cell_type": "code",
   "execution_count": 7,
   "metadata": {
    "colab": {
     "base_uri": "https://localhost:8080/",
     "height": 315
    },
    "colab_type": "code",
    "id": "-OfS_4hO-Vkb",
    "outputId": "0952241c-b316-4c08-b5ac-fa5cf6b2615d"
   },
   "outputs": [
    {
     "data": {
      "text/plain": [
       "array([[<matplotlib.axes._subplots.AxesSubplot object at 0x11fd02d10>]],\n",
       "      dtype=object)"
      ]
     },
     "execution_count": 7,
     "metadata": {},
     "output_type": "execute_result"
    },
    {
     "data": {
      "image/png": "[encoded data removed]",
      "text/plain": [
       "<Figure size 432x288 with 1 Axes>"
      ]
     },
     "metadata": {
      "needs_background": "light"
     },
     "output_type": "display_data"
    }
   ],
   "source": [
    "data.groupby(['Optimal_Affected_Component', 'Optimal_Failure', 'Optimal_Rule']).agg(pd.DataFrame.kurt).hist()"
   ]
  },
  {
   "cell_type": "code",
   "execution_count": null,
   "metadata": {
    "colab": {
     "base_uri": "https://localhost:8080/",
     "height": 886
    },
    "colab_type": "code",
    "id": "V7sgJHHnV5u6",
    "outputId": "42cfb8a2-1bc6-45e1-b82a-517468b91d16"
   },
   "outputs": [],
   "source": [
    "# get the outliers\n",
    "group = data.groupby(['Optimal_Affected_Component', 'Optimal_Failure', 'Optimal_Rule']).agg(pd.DataFrame.kurt).apply(lambda x: x)\n",
    "pd.concat([group[group.Optimal_Utility_Increase < 0], group[group.Optimal_Utility_Increase > 7]], sort=False)"
   ]
  },
  {
   "cell_type": "markdown",
   "metadata": {
    "colab_type": "text",
    "id": "DXcm95tvXCag"
   },
   "source": [
    "# Result:\n",
    "\n",
    "The combination of <Query Service,CF5,AddReplica> shows particular high values (compare Mean and Median Results) while the distribution is very large. "
   ]
  },
  {
   "cell_type": "markdown",
   "metadata": {},
   "source": []
  },
  {
   "cell_type": "code",
   "execution_count": null,
   "metadata": {},
   "outputs": [],
   "source": []
  },
  {
   "cell_type": "code",
   "execution_count": null,
   "metadata": {},
   "outputs": [],
   "source": []
  }
 ],
 "metadata": {
  "colab": {
   "name": "Data Analysis",
   "provenance": []
  },
  "kernelspec": {
   "display_name": "Python 3",
   "language": "python",
   "name": "python3"
  },
  "language_info": {
   "codemirror_mode": {
    "name": "ipython",
    "version": 3
   },
   "file_extension": ".py",
   "mimetype": "text/x-python",
   "name": "python",
   "nbconvert_exporter": "python",
   "pygments_lexer": "ipython3",
   "version": "3.7.4"
  }
 },
 "nbformat": 4,
 "nbformat_minor": 1
}
