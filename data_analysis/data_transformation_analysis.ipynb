{
 "cells": [
  {
   "cell_type": "code",
   "execution_count": 1,
   "metadata": {},
   "outputs": [
    {
     "data": {
      "text/html": [
       "<div>\n",
       "<style scoped>\n",
       "    .dataframe tbody tr th:only-of-type {\n",
       "        vertical-align: middle;\n",
       "    }\n",
       "\n",
       "    .dataframe tbody tr th {\n",
       "        vertical-align: top;\n",
       "    }\n",
       "\n",
       "    .dataframe thead th {\n",
       "        text-align: right;\n",
       "    }\n",
       "</style>\n",
       "<table border=\"1\" class=\"dataframe\">\n",
       "  <thead>\n",
       "    <tr style=\"text-align: right;\">\n",
       "      <th></th>\n",
       "      <th>Optimal_Affected_Component</th>\n",
       "      <th>Optimal_Failure</th>\n",
       "      <th>untransformed</th>\n",
       "      <th>cube</th>\n",
       "      <th>sqt</th>\n",
       "      <th>log10</th>\n",
       "      <th>ln</th>\n",
       "      <th>log2</th>\n",
       "    </tr>\n",
       "  </thead>\n",
       "  <tbody>\n",
       "    <tr>\n",
       "      <td>0</td>\n",
       "      <td>Query Service</td>\n",
       "      <td>CF1</td>\n",
       "      <td>49.5</td>\n",
       "      <td>5.558599</td>\n",
       "      <td>13.105330</td>\n",
       "      <td>2.234896</td>\n",
       "      <td>5.146038</td>\n",
       "      <td>7.424164</td>\n",
       "    </tr>\n",
       "    <tr>\n",
       "      <td>1</td>\n",
       "      <td>User Management Service</td>\n",
       "      <td>CF2</td>\n",
       "      <td>16.0</td>\n",
       "      <td>4.920383</td>\n",
       "      <td>10.914362</td>\n",
       "      <td>2.075997</td>\n",
       "      <td>4.780159</td>\n",
       "      <td>6.896312</td>\n",
       "    </tr>\n",
       "    <tr>\n",
       "      <td>2</td>\n",
       "      <td>Authentication Service</td>\n",
       "      <td>CF3</td>\n",
       "      <td>31.5</td>\n",
       "      <td>4.920383</td>\n",
       "      <td>10.914362</td>\n",
       "      <td>2.075997</td>\n",
       "      <td>4.780159</td>\n",
       "      <td>6.896312</td>\n",
       "    </tr>\n",
       "    <tr>\n",
       "      <td>3</td>\n",
       "      <td>Bid and Buy Service</td>\n",
       "      <td>CF3</td>\n",
       "      <td>25.0</td>\n",
       "      <td>4.594071</td>\n",
       "      <td>9.846831</td>\n",
       "      <td>1.986593</td>\n",
       "      <td>4.574299</td>\n",
       "      <td>6.599319</td>\n",
       "    </tr>\n",
       "    <tr>\n",
       "      <td>4</td>\n",
       "      <td>Item Management Service</td>\n",
       "      <td>CF3</td>\n",
       "      <td>16.0</td>\n",
       "      <td>3.559606</td>\n",
       "      <td>6.715880</td>\n",
       "      <td>1.654206</td>\n",
       "      <td>3.808950</td>\n",
       "      <td>5.495153</td>\n",
       "    </tr>\n",
       "  </tbody>\n",
       "</table>\n",
       "</div>"
      ],
      "text/plain": [
       "  Optimal_Affected_Component Optimal_Failure  untransformed      cube  \\\n",
       "0              Query Service             CF1           49.5  5.558599   \n",
       "1    User Management Service             CF2           16.0  4.920383   \n",
       "2     Authentication Service             CF3           31.5  4.920383   \n",
       "3        Bid and Buy Service             CF3           25.0  4.594071   \n",
       "4    Item Management Service             CF3           16.0  3.559606   \n",
       "\n",
       "         sqt     log10        ln      log2  \n",
       "0  13.105330  2.234896  5.146038  7.424164  \n",
       "1  10.914362  2.075997  4.780159  6.896312  \n",
       "2  10.914362  2.075997  4.780159  6.896312  \n",
       "3   9.846831  1.986593  4.574299  6.599319  \n",
       "4   6.715880  1.654206  3.808950  5.495153  "
      ]
     },
     "execution_count": 1,
     "metadata": {},
     "output_type": "execute_result"
    }
   ],
   "source": [
    "import pandas as pd\n",
    "import numpy as np\n",
    "import matplotlib.pyplot as plt\n",
    "from scipy.stats import entropy\n",
    "\n",
    "import sys\n",
    "sys.path.append(\"..\")\n",
    "from envs.data_handler import DataHandler\n",
    "\n",
    "dh = DataHandler()\n",
    "dh.data.head()"
   ]
  },
  {
   "cell_type": "markdown",
   "metadata": {},
   "source": [
    "# Data Transformation"
   ]
  },
  {
   "cell_type": "code",
   "execution_count": 2,
   "metadata": {},
   "outputs": [],
   "source": [
    "# Cube Root Transformationn\n",
    "data_cube = dh.data.apply(lambda x: np.power(x, (1/3)) if x.name == 'cube' else x)\n",
    "# Square Root Transformation\n",
    "data_sqt = dh.data.apply(lambda x: np.sqrt(x) if x.name == 'sqt' else x)\n",
    "# Log10 Transformation\n",
    "np.seterr(divide = 'ignore')\n",
    "data_log10 = dh.data.apply(lambda x: np.log10(x) if x.name == 'log10' else x).replace([np.inf, -np.inf], 0)\n"
   ]
  },
  {
   "cell_type": "code",
   "execution_count": 3,
   "metadata": {},
   "outputs": [
    {
     "name": "stderr",
     "output_type": "stream",
     "text": [
      "/Users/rachel/Library/anaconda3/lib/python3.7/site-packages/numpy/lib/histograms.py:829: RuntimeWarning: invalid value encountered in greater_equal\n",
      "  keep = (tmp_a >= first_edge)\n",
      "/Users/rachel/Library/anaconda3/lib/python3.7/site-packages/numpy/lib/histograms.py:830: RuntimeWarning: invalid value encountered in less_equal\n",
      "  keep &= (tmp_a <= last_edge)\n"
     ]
    },
    {
     "data": {
      "image/png": "[encoded data removed]",
      "text/plain": [
       "<Figure size 432x288 with 4 Axes>"
      ]
     },
     "metadata": {
      "needs_background": "light"
     },
     "output_type": "display_data"
    }
   ],
   "source": [
    "# analyzing historgams\n",
    "fig = plt.figure()\n",
    "ax1 = fig.add_subplot(221)\n",
    "plt.hist(dh.data['untransformed'])\n",
    "ax1.title.set_text('Untransformed')\n",
    "ax2 = fig.add_subplot(222)\n",
    "plt.hist(data_cube['cube'])\n",
    "ax2.title.set_text('Cube Root Transformation')\n",
    "ax3 = fig.add_subplot(223)\n",
    "plt.hist(data_sqt['sqt'])\n",
    "ax3.title.set_text('Square Root Transformation')\n",
    "ax4 = fig.add_subplot(224)\n",
    "plt.hist(data_log10['log10'])\n",
    "ax4.title.set_text('Log10 Transformation')\n",
    "plt.tight_layout()\n",
    "plt.show()"
   ]
  },
  {
   "cell_type": "markdown",
   "metadata": {},
   "source": [
    "# Comparison of the results"
   ]
  },
  {
   "cell_type": "markdown",
   "metadata": {},
   "source": [
    "## Skewness"
   ]
  },
  {
   "cell_type": "code",
   "execution_count": 4,
   "metadata": {},
   "outputs": [
    {
     "data": {
      "text/plain": [
       "([<matplotlib.axis.XTick at 0x1a18fe1750>,\n",
       "  <matplotlib.axis.XTick at 0x1a1977dc90>,\n",
       "  <matplotlib.axis.XTick at 0x1a18fb8510>,\n",
       "  <matplotlib.axis.XTick at 0x1a1901ae50>],\n",
       " <a list of 4 Text xticklabel objects>)"
      ]
     },
     "execution_count": 4,
     "metadata": {},
     "output_type": "execute_result"
    },
    {
     "data": {
      "image/png": "[encoded data removed]",
      "text/plain": [
       "<Figure size 432x288 with 1 Axes>"
      ]
     },
     "metadata": {
      "needs_background": "light"
     },
     "output_type": "display_data"
    }
   ],
   "source": [
    "un_skew = dh.data['untransformed'].skew()\n",
    "cub_skew = data_cube['cube'].skew()\n",
    "sqt_skw = data_sqt['sqt'].skew()\n",
    "log_skw = data_log10['log10'].skew()\n",
    "\n",
    "labels = ['untransformed', 'Cube Root Transformation', 'Square Root Transformation', 'Log10 Transformation']\n",
    "xticks = range(len(labels))\n",
    "\n",
    "plt.bar(xticks, [un_skew, cub_skew, sqt_skw, log_skw])\n",
    "plt.xticks(xticks, labels, rotation='vertical')"
   ]
  },
  {
   "cell_type": "markdown",
   "metadata": {},
   "source": [
    "## Kurtosis"
   ]
  },
  {
   "cell_type": "code",
   "execution_count": 5,
   "metadata": {},
   "outputs": [
    {
     "data": {
      "text/plain": [
       "([<matplotlib.axis.XTick at 0x1a19067f50>,\n",
       "  <matplotlib.axis.XTick at 0x1a19067750>,\n",
       "  <matplotlib.axis.XTick at 0x1a19067490>,\n",
       "  <matplotlib.axis.XTick at 0x1a1911ca50>],\n",
       " <a list of 4 Text xticklabel objects>)"
      ]
     },
     "execution_count": 5,
     "metadata": {},
     "output_type": "execute_result"
    },
    {
     "data": {
      "image/png": "[encoded data removed]",
      "text/plain": [
       "<Figure size 432x288 with 1 Axes>"
      ]
     },
     "metadata": {
      "needs_background": "light"
     },
     "output_type": "display_data"
    }
   ],
   "source": [
    "un_krt = dh.data['untransformed'].kurtosis()\n",
    "cub_krt = data_cube['cube'].kurtosis()\n",
    "sqt_krt = data_sqt['sqt'].kurtosis()\n",
    "log_krt = data_log10['log10'].kurtosis()\n",
    "\n",
    "labels = ['untransformed', 'Cube Root Transformation', 'Square Root Transformation', 'Log10 Transformation']\n",
    "xticks = range(len(labels))\n",
    "\n",
    "plt.bar(xticks, [un_krt, cub_krt, sqt_krt, log_krt])\n",
    "plt.xticks(xticks, labels, rotation='vertical')"
   ]
  },
  {
   "cell_type": "markdown",
   "metadata": {},
   "source": [
    "# Furhter Analyzing Ideas"
   ]
  },
  {
   "cell_type": "code",
   "execution_count": 6,
   "metadata": {},
   "outputs": [],
   "source": [
    "# Kullback divergence / distance\n",
    "#bins = np.arange(0,3.5,0.1)\n",
    "#hist_untransformed = np.histogram(result_skw['untransformed'].values.tolist(), bins=bins)[0]\n",
    "#hist_cube = np.histogram(result_skw['cube'].values.tolist(), bins=bins)[0]\n",
    "#entropy(hist_untransformed, qk=hist_cube)"
   ]
  }
 ],
 "metadata": {
  "kernelspec": {
   "display_name": "Python 3",
   "language": "python",
   "name": "python3"
  },
  "language_info": {
   "codemirror_mode": {
    "name": "ipython",
    "version": 3
   },
   "file_extension": ".py",
   "mimetype": "text/x-python",
   "name": "python",
   "nbconvert_exporter": "python",
   "pygments_lexer": "ipython3",
   "version": "3.7.4"
  }
 },
 "nbformat": 4,
 "nbformat_minor": 1
}
