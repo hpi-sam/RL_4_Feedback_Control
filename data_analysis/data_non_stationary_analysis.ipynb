{
 "cells": [
  {
   "cell_type": "code",
   "execution_count": 1,
   "metadata": {},
   "outputs": [
    {
     "name": "stdout",
     "output_type": "stream",
     "text": [
      "preparedData_LinearShifted_Id.csv\n"
     ]
    }
   ],
   "source": [
    "import sys\n",
    "import numpy as np\n",
    "if \"../\" not in sys.path:\n",
    "  sys.path.append(\"../\") \n",
    "import os\n",
    "os.chdir(\"..\") \n",
    "from envs.data_handler import DataHandler\n",
    "import envs.data_utils as du\n",
    "\n",
    "dh = DataHandler(environment='LinearShifted', type='sqt')"
   ]
  },
  {
   "cell_type": "code",
   "execution_count": 4,
   "metadata": {},
   "outputs": [
    {
     "data": {
      "text/html": [
       "<div>\n",
       "<style scoped>\n",
       "    .dataframe tbody tr th:only-of-type {\n",
       "        vertical-align: middle;\n",
       "    }\n",
       "\n",
       "    .dataframe tbody tr th {\n",
       "        vertical-align: top;\n",
       "    }\n",
       "\n",
       "    .dataframe thead th {\n",
       "        text-align: right;\n",
       "    }\n",
       "</style>\n",
       "<table border=\"1\" class=\"dataframe\">\n",
       "  <thead>\n",
       "    <tr style=\"text-align: right;\">\n",
       "      <th></th>\n",
       "      <th>Optimal_Affected_Component_Uid</th>\n",
       "      <th>Optimal_Failure</th>\n",
       "      <th>max</th>\n",
       "      <th>min</th>\n",
       "      <th>std</th>\n",
       "    </tr>\n",
       "  </thead>\n",
       "  <tbody>\n",
       "    <tr>\n",
       "      <th>0</th>\n",
       "      <td>_SE-L2-cdEeet0YmmfbMwkw</td>\n",
       "      <td>CF1</td>\n",
       "      <td>4.000000</td>\n",
       "      <td>4.000000</td>\n",
       "      <td>0.000000</td>\n",
       "    </tr>\n",
       "    <tr>\n",
       "      <th>1</th>\n",
       "      <td>_SE-L4ucdEeet0YmmfbMwkw</td>\n",
       "      <td>CF1</td>\n",
       "      <td>3.162278</td>\n",
       "      <td>3.162278</td>\n",
       "      <td>0.000000</td>\n",
       "    </tr>\n",
       "    <tr>\n",
       "      <th>2</th>\n",
       "      <td>_SE-L5ecdEeet0YmmfbMwkw</td>\n",
       "      <td>CF1</td>\n",
       "      <td>470.298717</td>\n",
       "      <td>465.778675</td>\n",
       "      <td>1.351375</td>\n",
       "    </tr>\n",
       "    <tr>\n",
       "      <th>3</th>\n",
       "      <td>_SE-L8ecdEeet0YmmfbMwkw</td>\n",
       "      <td>CF3</td>\n",
       "      <td>4.000000</td>\n",
       "      <td>4.000000</td>\n",
       "      <td>0.000000</td>\n",
       "    </tr>\n",
       "    <tr>\n",
       "      <th>4</th>\n",
       "      <td>_SE-L_ecdEeet0YmmfbMwkw</td>\n",
       "      <td>CF1</td>\n",
       "      <td>3.162278</td>\n",
       "      <td>3.162278</td>\n",
       "      <td>0.000000</td>\n",
       "    </tr>\n",
       "    <tr>\n",
       "      <th>...</th>\n",
       "      <td>...</td>\n",
       "      <td>...</td>\n",
       "      <td>...</td>\n",
       "      <td>...</td>\n",
       "      <td>...</td>\n",
       "    </tr>\n",
       "    <tr>\n",
       "      <th>910</th>\n",
       "      <td>_SFSWy-cdEeet0YmmfbMwkw</td>\n",
       "      <td>CF1</td>\n",
       "      <td>4.000000</td>\n",
       "      <td>4.000000</td>\n",
       "      <td>0.000000</td>\n",
       "    </tr>\n",
       "    <tr>\n",
       "      <th>911</th>\n",
       "      <td>_SFSWy-cdEeet0YmmfbMwkw</td>\n",
       "      <td>CF3</td>\n",
       "      <td>5.612486</td>\n",
       "      <td>5.612486</td>\n",
       "      <td>0.000000</td>\n",
       "    </tr>\n",
       "    <tr>\n",
       "      <th>912</th>\n",
       "      <td>_SFTjAecdEeet0YmmfbMwkw</td>\n",
       "      <td>CF3</td>\n",
       "      <td>244.076336</td>\n",
       "      <td>242.949319</td>\n",
       "      <td>0.563508</td>\n",
       "    </tr>\n",
       "    <tr>\n",
       "      <th>913</th>\n",
       "      <td>_SFTjB-cdEeet0YmmfbMwkw</td>\n",
       "      <td>CF3</td>\n",
       "      <td>263.917740</td>\n",
       "      <td>262.656353</td>\n",
       "      <td>0.630694</td>\n",
       "    </tr>\n",
       "    <tr>\n",
       "      <th>914</th>\n",
       "      <td>_SFTjDOcdEeet0YmmfbMwkw</td>\n",
       "      <td>CF3</td>\n",
       "      <td>4.183300</td>\n",
       "      <td>4.183300</td>\n",
       "      <td>0.000000</td>\n",
       "    </tr>\n",
       "  </tbody>\n",
       "</table>\n",
       "<p>915 rows × 5 columns</p>\n",
       "</div>"
      ],
      "text/plain": [
       "    Optimal_Affected_Component_Uid Optimal_Failure         max         min  \\\n",
       "0          _SE-L2-cdEeet0YmmfbMwkw             CF1    4.000000    4.000000   \n",
       "1          _SE-L4ucdEeet0YmmfbMwkw             CF1    3.162278    3.162278   \n",
       "2          _SE-L5ecdEeet0YmmfbMwkw             CF1  470.298717  465.778675   \n",
       "3          _SE-L8ecdEeet0YmmfbMwkw             CF3    4.000000    4.000000   \n",
       "4          _SE-L_ecdEeet0YmmfbMwkw             CF1    3.162278    3.162278   \n",
       "..                             ...             ...         ...         ...   \n",
       "910        _SFSWy-cdEeet0YmmfbMwkw             CF1    4.000000    4.000000   \n",
       "911        _SFSWy-cdEeet0YmmfbMwkw             CF3    5.612486    5.612486   \n",
       "912        _SFTjAecdEeet0YmmfbMwkw             CF3  244.076336  242.949319   \n",
       "913        _SFTjB-cdEeet0YmmfbMwkw             CF3  263.917740  262.656353   \n",
       "914        _SFTjDOcdEeet0YmmfbMwkw             CF3    4.183300    4.183300   \n",
       "\n",
       "          std  \n",
       "0    0.000000  \n",
       "1    0.000000  \n",
       "2    1.351375  \n",
       "3    0.000000  \n",
       "4    0.000000  \n",
       "..        ...  \n",
       "910  0.000000  \n",
       "911  0.000000  \n",
       "912  0.563508  \n",
       "913  0.630694  \n",
       "914  0.000000  \n",
       "\n",
       "[915 rows x 5 columns]"
      ]
     },
     "execution_count": 4,
     "metadata": {},
     "output_type": "execute_result"
    }
   ],
   "source": [
    "def std(x):\n",
    "    return np.std(x, ddof=0)\n",
    "max_min_std_values = dh.data[['Optimal_Affected_Component_Uid', 'Optimal_Failure', 'sqt']].groupby(['Optimal_Affected_Component_Uid', 'Optimal_Failure'])['sqt'].agg([max, min, std]).reset_index()\n",
    "max_min_std_values"
   ]
  },
  {
   "cell_type": "code",
   "execution_count": 2,
   "metadata": {},
   "outputs": [
    {
     "ename": "NameError",
     "evalue": "name 'max_min_std_values' is not defined",
     "output_type": "error",
     "traceback": [
      "\u001b[0;31m---------------------------------------------------------------------------\u001b[0m",
      "\u001b[0;31mNameError\u001b[0m                                 Traceback (most recent call last)",
      "\u001b[0;32m<ipython-input-2-4ce31b989b4a>\u001b[0m in \u001b[0;36m<module>\u001b[0;34m\u001b[0m\n\u001b[0;32m----> 1\u001b[0;31m \u001b[0mnon_stationary_data\u001b[0m \u001b[0;34m=\u001b[0m \u001b[0mdu\u001b[0m\u001b[0;34m.\u001b[0m\u001b[0mcreate_non_stationary_data\u001b[0m\u001b[0;34m(\u001b[0m\u001b[0;34m'Optimal_Affected_Component_Uid'\u001b[0m\u001b[0;34m,\u001b[0m \u001b[0;34m'sqt'\u001b[0m\u001b[0;34m,\u001b[0m \u001b[0mmax_min_std_values\u001b[0m\u001b[0;34m,\u001b[0m \u001b[0mdu\u001b[0m\u001b[0;34m.\u001b[0m\u001b[0mARCH\u001b[0m\u001b[0;34m,\u001b[0m \u001b[0mN\u001b[0m\u001b[0;34m=\u001b[0m\u001b[0;36m300\u001b[0m\u001b[0;34m)\u001b[0m\u001b[0;34m\u001b[0m\u001b[0;34m\u001b[0m\u001b[0m\n\u001b[0m\u001b[1;32m      2\u001b[0m \u001b[0mnon_stationary_data\u001b[0m\u001b[0;34m.\u001b[0m\u001b[0mto_csv\u001b[0m\u001b[0;34m(\u001b[0m\u001b[0;34m'preparedData_nonStationary_Id_sqt.csv'\u001b[0m\u001b[0;34m)\u001b[0m\u001b[0;34m\u001b[0m\u001b[0;34m\u001b[0m\u001b[0m\n",
      "\u001b[0;31mNameError\u001b[0m: name 'max_min_std_values' is not defined"
     ]
    }
   ],
   "source": [
    "non_stationary_data = du.create_non_stationary_data('Optimal_Affected_Component_Uid', 'sqt', max_min_std_values, du.ARCH, N=300)\n",
    "#non_stationary_data.to_csv('preparedData_nonStationary_Id_sqt.csv')"
   ]
  },
  {
   "cell_type": "markdown",
   "metadata": {},
   "source": [
    "## Sample Value from the non-stationary Enviornment"
   ]
  },
  {
   "cell_type": "code",
   "execution_count": 2,
   "metadata": {},
   "outputs": [
    {
     "name": "stdout",
     "output_type": "stream",
     "text": [
      "preparedData_nonStationary_Id_sqt.csv\n"
     ]
    }
   ],
   "source": [
    "dh = DataHandler(environment='nonStationary', type='sqt')"
   ]
  },
  {
   "cell_type": "code",
   "execution_count": 4,
   "metadata": {},
   "outputs": [
    {
     "name": "stdout",
     "output_type": "stream",
     "text": [
      "4.0\n"
     ]
    }
   ],
   "source": [
    "sample = dh.get_sample_component_failure_pairs(1)[0]\n",
    "print(dh.get_reward(sample))"
   ]
  }
 ],
 "metadata": {
  "kernelspec": {
   "display_name": "Python 3",
   "language": "python",
   "name": "python3"
  },
  "language_info": {
   "codemirror_mode": {
    "name": "ipython",
    "version": 3
   },
   "file_extension": ".py",
   "mimetype": "text/x-python",
   "name": "python",
   "nbconvert_exporter": "python",
   "pygments_lexer": "ipython3",
   "version": "3.8.0"
  }
 },
 "nbformat": 4,
 "nbformat_minor": 4
}
