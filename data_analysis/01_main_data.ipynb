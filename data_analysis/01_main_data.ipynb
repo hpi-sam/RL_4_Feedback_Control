{
 "cells": [
  {
   "cell_type": "code",
   "execution_count": 1,
   "metadata": {
    "colab": {
     "base_uri": "https://localhost:8080/",
     "height": 221
    },
    "colab_type": "code",
    "id": "dNV1t2bt-Vj4",
    "outputId": "c9a58540-5c4a-4f49-cefb-25e5ef9b3a25"
   },
   "outputs": [],
   "source": [
    "import pandas as pd\n",
    "import numpy as np\n",
    "import matplotlib.pyplot as plt\n",
    "plt.rcParams[\"font.family\"] = \"Times New Roman\"\n",
    "import sys\n",
    "import os\n",
    "if \"../\" not in sys.path:\n",
    "  sys.path.append(\"../\") \n",
    "import os\n",
    "os.chdir(\"..\") \n",
    "from envs.data_handler import DataHandler"
   ]
  },
  {
   "cell_type": "markdown",
   "metadata": {},
   "source": [
    "# Comparison of different mRubis Environments"
   ]
  },
  {
   "cell_type": "code",
   "execution_count": 2,
   "metadata": {},
   "outputs": [
    {
     "data": {
      "image/png": "[encoded data removed]",
      "text/plain": [
       "<Figure size 432x288 with 4 Axes>"
      ]
     },
     "metadata": {
      "needs_background": "light"
     },
     "output_type": "display_data"
    }
   ],
   "source": [
    "dh_linear = DataHandler(data_generation='Linear').data\n",
    "dh_saturating = DataHandler(data_generation='Saturating').data\n",
    "dh_combined = DataHandler(data_generation='Combined').data\n",
    "dh_discontinous = DataHandler(data_generation='Discontinuous').data\n",
    "\n",
    "# analyzing historgams\n",
    "fig = plt.figure()\n",
    "ax1 = fig.add_subplot(221)\n",
    "plt.hist(dh_linear['raw'].to_list())\n",
    "ax1.title.set_text('Linear')\n",
    "ax1.grid()\n",
    "ax2 = fig.add_subplot(222)\n",
    "plt.hist(dh_saturating['raw'].to_list(), color='black')\n",
    "ax2.title.set_text('Saturating')\n",
    "ax2.grid()\n",
    "ax3 = fig.add_subplot(223)\n",
    "plt.hist(dh_combined['raw'].to_list(), color='black')\n",
    "ax3.title.set_text('Combined')\n",
    "ax3.grid()\n",
    "ax4 = fig.add_subplot(224)\n",
    "plt.hist(dh_discontinous['raw'].to_list(), color='black')\n",
    "ax4.title.set_text('Discontinous')\n",
    "ax4.grid()\n",
    "plt.tight_layout()\n",
    "plt.savefig('data_analysis/01_plots/main_data_comparison.pdf') \n",
    "plt.show()"
   ]
  },
  {
   "cell_type": "markdown",
   "metadata": {},
   "source": [
    "# Linear Environment"
   ]
  },
  {
   "cell_type": "code",
   "execution_count": 3,
   "metadata": {},
   "outputs": [
    {
     "name": "stdout",
     "output_type": "stream",
     "text": [
      "We have 915 unqiue groups of <component, failure> and at total 2732 data points.\n"
     ]
    }
   ],
   "source": [
    "dh = DataHandler(data_generation='Linear')\n",
    "total = len(dh.data.index)\n",
    "groups = dh.data.groupby([dh.data.columns[0], dh.data.columns[1]]).ngroups\n",
    "\n",
    "print('We have ' + str(groups) + ' unqiue groups of <component, failure> and at total ' + str(total) + ' data points.')"
   ]
  },
  {
   "cell_type": "markdown",
   "metadata": {
    "colab_type": "text",
    "id": "cyABfBv3-Vj8"
   },
   "source": [
    "## Task 1: Plot the distribution "
   ]
  },
  {
   "cell_type": "code",
   "execution_count": 4,
   "metadata": {},
   "outputs": [
    {
     "data": {
      "text/plain": [
       "<matplotlib.axes._subplots.AxesSubplot at 0x7fe79c18e430>"
      ]
     },
     "execution_count": 4,
     "metadata": {},
     "output_type": "execute_result"
    },
    {
     "data": {
      "image/png": "[encoded data removed]",
      "text/plain": [
       "<Figure size 432x288 with 1 Axes>"
      ]
     },
     "metadata": {
      "needs_background": "light"
     },
     "output_type": "display_data"
    }
   ],
   "source": [
    "dh.data[dh.data.columns[2]].hist()"
   ]
  },
  {
   "cell_type": "markdown",
   "metadata": {
    "colab_type": "text",
    "id": "5cHLriOi-Vj_"
   },
   "source": [
    "## Task 2: Compute statistics\n",
    "\n",
    "* mean = average of the numbers\n",
    "* median = separating the higher half from the lower half\n",
    "* mode = the value that appears most often, it can be multiple values\n",
    "* std = standard deviation\n",
    "* skew = skewness, measure of the asymmetry of the probability distribution of a real-valued random variable about its mean\n",
    "* kurtosis = measure of the \"tailedness\" of the probability distribution of a real-valued random variable"
   ]
  },
  {
   "cell_type": "markdown",
   "metadata": {
    "colab_type": "text",
    "id": "ehHWoguH-VkD"
   },
   "source": [
    "### Mean"
   ]
  },
  {
   "cell_type": "code",
   "execution_count": 5,
   "metadata": {
    "colab": {
     "base_uri": "https://localhost:8080/",
     "height": 315
    },
    "colab_type": "code",
    "id": "jaa6cr0F-VkD",
    "outputId": "c9b52e07-3f03-4fd3-fd0b-122221730171"
   },
   "outputs": [
    {
     "data": {
      "image/png": "[encoded data removed]",
      "text/plain": [
       "<Figure size 216x144 with 1 Axes>"
      ]
     },
     "metadata": {
      "needs_background": "light"
     },
     "output_type": "display_data"
    }
   ],
   "source": [
    "mean_values = dh.data.groupby([dh.data.columns[0], dh.data.columns[1]]).agg('mean')\n",
    "mean_values.rename(columns={'raw': ''}).hist(figsize=(3,2))\n",
    "plt.tight_layout()\n",
    "plt.savefig('data_analysis/01_plots/linear_data_mean_pergroup.pdf') "
   ]
  },
  {
   "cell_type": "code",
   "execution_count": 6,
   "metadata": {},
   "outputs": [
    {
     "data": {
      "text/html": [
       "<div>\n",
       "<style scoped>\n",
       "    .dataframe tbody tr th:only-of-type {\n",
       "        vertical-align: middle;\n",
       "    }\n",
       "\n",
       "    .dataframe tbody tr th {\n",
       "        vertical-align: top;\n",
       "    }\n",
       "\n",
       "    .dataframe thead th {\n",
       "        text-align: right;\n",
       "    }\n",
       "</style>\n",
       "<table border=\"1\" class=\"dataframe\">\n",
       "  <thead>\n",
       "    <tr style=\"text-align: right;\">\n",
       "      <th></th>\n",
       "      <th></th>\n",
       "      <th>raw</th>\n",
       "    </tr>\n",
       "    <tr>\n",
       "      <th>Optimal_Affected_Component_Uid</th>\n",
       "      <th>Optimal_Failure</th>\n",
       "      <th></th>\n",
       "    </tr>\n",
       "  </thead>\n",
       "  <tbody>\n",
       "    <tr>\n",
       "      <th>_SE-zOOcdEeet0YmmfbMwkw</th>\n",
       "      <th>CF1</th>\n",
       "      <td>58.50</td>\n",
       "    </tr>\n",
       "    <tr>\n",
       "      <th>_SE0bTOcdEeet0YmmfbMwkw</th>\n",
       "      <th>CF3</th>\n",
       "      <td>49.50</td>\n",
       "    </tr>\n",
       "    <tr>\n",
       "      <th>_SE1CCecdEeet0YmmfbMwkw</th>\n",
       "      <th>CF3</th>\n",
       "      <td>49.50</td>\n",
       "    </tr>\n",
       "    <tr>\n",
       "      <th>_SE23oOcdEeet0YmmfbMwkw</th>\n",
       "      <th>CF1</th>\n",
       "      <td>56.25</td>\n",
       "    </tr>\n",
       "    <tr>\n",
       "      <th>_SE2Qd-cdEeet0YmmfbMwkw</th>\n",
       "      <th>CF1</th>\n",
       "      <td>49.50</td>\n",
       "    </tr>\n",
       "    <tr>\n",
       "      <th>...</th>\n",
       "      <th>...</th>\n",
       "      <td>...</td>\n",
       "    </tr>\n",
       "    <tr>\n",
       "      <th>_SFS9vOcdEeet0YmmfbMwkw</th>\n",
       "      <th>CF3</th>\n",
       "      <td>60.75</td>\n",
       "    </tr>\n",
       "    <tr>\n",
       "      <th>_SFSVCecdEeet0YmmfbMwkw</th>\n",
       "      <th>CF3</th>\n",
       "      <td>49.50</td>\n",
       "    </tr>\n",
       "    <tr>\n",
       "      <th>_SFSVkucdEeet0YmmfbMwkw</th>\n",
       "      <th>CF3</th>\n",
       "      <td>44.10</td>\n",
       "    </tr>\n",
       "    <tr>\n",
       "      <th>_SFSVqecdEeet0YmmfbMwkw</th>\n",
       "      <th>CF3</th>\n",
       "      <td>49.50</td>\n",
       "    </tr>\n",
       "    <tr>\n",
       "      <th>_SFSWMucdEeet0YmmfbMwkw</th>\n",
       "      <th>CF3</th>\n",
       "      <td>40.95</td>\n",
       "    </tr>\n",
       "  </tbody>\n",
       "</table>\n",
       "<p>82 rows × 1 columns</p>\n",
       "</div>"
      ],
      "text/plain": [
       "                                                  raw\n",
       "Optimal_Affected_Component_Uid Optimal_Failure       \n",
       "_SE-zOOcdEeet0YmmfbMwkw        CF1              58.50\n",
       "_SE0bTOcdEeet0YmmfbMwkw        CF3              49.50\n",
       "_SE1CCecdEeet0YmmfbMwkw        CF3              49.50\n",
       "_SE23oOcdEeet0YmmfbMwkw        CF1              56.25\n",
       "_SE2Qd-cdEeet0YmmfbMwkw        CF1              49.50\n",
       "...                                               ...\n",
       "_SFS9vOcdEeet0YmmfbMwkw        CF3              60.75\n",
       "_SFSVCecdEeet0YmmfbMwkw        CF3              49.50\n",
       "_SFSVkucdEeet0YmmfbMwkw        CF3              44.10\n",
       "_SFSVqecdEeet0YmmfbMwkw        CF3              49.50\n",
       "_SFSWMucdEeet0YmmfbMwkw        CF3              40.95\n",
       "\n",
       "[82 rows x 1 columns]"
      ]
     },
     "execution_count": 6,
     "metadata": {},
     "output_type": "execute_result"
    }
   ],
   "source": [
    "# get the outliers\n",
    "mean_group = mean_values.apply(lambda x: x)\n",
    "mean_group[mean_group.raw > 40]"
   ]
  },
  {
   "cell_type": "markdown",
   "metadata": {
    "colab_type": "text",
    "id": "qFeokmDo-VkG"
   },
   "source": [
    "### Median"
   ]
  },
  {
   "cell_type": "code",
   "execution_count": 7,
   "metadata": {
    "colab": {
     "base_uri": "https://localhost:8080/",
     "height": 315
    },
    "colab_type": "code",
    "id": "a_ejMssD-VkH",
    "outputId": "db4d99b8-e9cf-445e-b3b5-74b170d38d39"
   },
   "outputs": [
    {
     "data": {
      "image/png": "[encoded data removed]",
      "text/plain": [
       "<Figure size 216x144 with 1 Axes>"
      ]
     },
     "metadata": {
      "needs_background": "light"
     },
     "output_type": "display_data"
    }
   ],
   "source": [
    "median = dh.data.groupby([dh.data.columns[0], dh.data.columns[1]]).agg('median')\n",
    "median.rename(columns={'raw': ''}).hist(figsize=(3,2))\n",
    "plt.savefig('data_analysis/01_plots/linear_data_median_pergroup.pdf') "
   ]
  },
  {
   "cell_type": "code",
   "execution_count": 8,
   "metadata": {},
   "outputs": [
    {
     "data": {
      "text/html": [
       "<div>\n",
       "<style scoped>\n",
       "    .dataframe tbody tr th:only-of-type {\n",
       "        vertical-align: middle;\n",
       "    }\n",
       "\n",
       "    .dataframe tbody tr th {\n",
       "        vertical-align: top;\n",
       "    }\n",
       "\n",
       "    .dataframe thead th {\n",
       "        text-align: right;\n",
       "    }\n",
       "</style>\n",
       "<table border=\"1\" class=\"dataframe\">\n",
       "  <thead>\n",
       "    <tr style=\"text-align: right;\">\n",
       "      <th></th>\n",
       "      <th></th>\n",
       "      <th>raw</th>\n",
       "    </tr>\n",
       "    <tr>\n",
       "      <th>Optimal_Affected_Component_Uid</th>\n",
       "      <th>Optimal_Failure</th>\n",
       "      <th></th>\n",
       "    </tr>\n",
       "  </thead>\n",
       "  <tbody>\n",
       "    <tr>\n",
       "      <th>_SE-zOOcdEeet0YmmfbMwkw</th>\n",
       "      <th>CF1</th>\n",
       "      <td>58.50</td>\n",
       "    </tr>\n",
       "    <tr>\n",
       "      <th>_SE0bTOcdEeet0YmmfbMwkw</th>\n",
       "      <th>CF3</th>\n",
       "      <td>49.50</td>\n",
       "    </tr>\n",
       "    <tr>\n",
       "      <th>_SE1CCecdEeet0YmmfbMwkw</th>\n",
       "      <th>CF3</th>\n",
       "      <td>49.50</td>\n",
       "    </tr>\n",
       "    <tr>\n",
       "      <th>_SE23oOcdEeet0YmmfbMwkw</th>\n",
       "      <th>CF1</th>\n",
       "      <td>56.25</td>\n",
       "    </tr>\n",
       "    <tr>\n",
       "      <th>_SE2Qd-cdEeet0YmmfbMwkw</th>\n",
       "      <th>CF1</th>\n",
       "      <td>49.50</td>\n",
       "    </tr>\n",
       "    <tr>\n",
       "      <th>...</th>\n",
       "      <th>...</th>\n",
       "      <td>...</td>\n",
       "    </tr>\n",
       "    <tr>\n",
       "      <th>_SFS9vOcdEeet0YmmfbMwkw</th>\n",
       "      <th>CF3</th>\n",
       "      <td>60.75</td>\n",
       "    </tr>\n",
       "    <tr>\n",
       "      <th>_SFSVCecdEeet0YmmfbMwkw</th>\n",
       "      <th>CF3</th>\n",
       "      <td>49.50</td>\n",
       "    </tr>\n",
       "    <tr>\n",
       "      <th>_SFSVkucdEeet0YmmfbMwkw</th>\n",
       "      <th>CF3</th>\n",
       "      <td>44.10</td>\n",
       "    </tr>\n",
       "    <tr>\n",
       "      <th>_SFSVqecdEeet0YmmfbMwkw</th>\n",
       "      <th>CF3</th>\n",
       "      <td>49.50</td>\n",
       "    </tr>\n",
       "    <tr>\n",
       "      <th>_SFSWMucdEeet0YmmfbMwkw</th>\n",
       "      <th>CF3</th>\n",
       "      <td>40.95</td>\n",
       "    </tr>\n",
       "  </tbody>\n",
       "</table>\n",
       "<p>82 rows × 1 columns</p>\n",
       "</div>"
      ],
      "text/plain": [
       "                                                  raw\n",
       "Optimal_Affected_Component_Uid Optimal_Failure       \n",
       "_SE-zOOcdEeet0YmmfbMwkw        CF1              58.50\n",
       "_SE0bTOcdEeet0YmmfbMwkw        CF3              49.50\n",
       "_SE1CCecdEeet0YmmfbMwkw        CF3              49.50\n",
       "_SE23oOcdEeet0YmmfbMwkw        CF1              56.25\n",
       "_SE2Qd-cdEeet0YmmfbMwkw        CF1              49.50\n",
       "...                                               ...\n",
       "_SFS9vOcdEeet0YmmfbMwkw        CF3              60.75\n",
       "_SFSVCecdEeet0YmmfbMwkw        CF3              49.50\n",
       "_SFSVkucdEeet0YmmfbMwkw        CF3              44.10\n",
       "_SFSVqecdEeet0YmmfbMwkw        CF3              49.50\n",
       "_SFSWMucdEeet0YmmfbMwkw        CF3              40.95\n",
       "\n",
       "[82 rows x 1 columns]"
      ]
     },
     "execution_count": 8,
     "metadata": {},
     "output_type": "execute_result"
    }
   ],
   "source": [
    "# get the outliers\n",
    "group = median.apply(lambda x: x)\n",
    "group[group.raw > 40]"
   ]
  },
  {
   "cell_type": "markdown",
   "metadata": {
    "colab_type": "text",
    "id": "vKOg7mQC-VkL"
   },
   "source": [
    "### Mode"
   ]
  },
  {
   "cell_type": "code",
   "execution_count": 9,
   "metadata": {
    "colab": {
     "base_uri": "https://localhost:8080/",
     "height": 714
    },
    "colab_type": "code",
    "id": "kiWnS-To-VkM",
    "outputId": "0feda0bd-3a70-4a8e-c9f6-54c45b57802e"
   },
   "outputs": [
    {
     "data": {
      "image/png": "[encoded data removed]",
      "text/plain": [
       "<Figure size 432x288 with 1 Axes>"
      ]
     },
     "metadata": {
      "needs_background": "light"
     },
     "output_type": "display_data"
    }
   ],
   "source": [
    "import operator\n",
    "import functools\n",
    "\n",
    "mode = dh.data.groupby([dh.data.columns[0], dh.data.columns[1]]).agg(pd.Series.mode)\n",
    "mode_values = mode[dh.data.columns[2]].values\n",
    "mode_flatten = np.hstack(mode_values).tolist()\n",
    "\n",
    "fig, ax = plt.subplots()\n",
    "plt.hist(mode_flatten)\n",
    "ax.grid()\n",
    "plt.savefig('data_analysis/01_plots/linear_data_mode_pergroup.pdf') "
   ]
  },
  {
   "cell_type": "code",
   "execution_count": 10,
   "metadata": {},
   "outputs": [
    {
     "name": "stdout",
     "output_type": "stream",
     "text": [
      "Outliers:\n",
      "[\"('_SE-zOOcdEeet0YmmfbMwkw', 'CF1')\", 58.5]\n",
      "[\"('_SE0bTOcdEeet0YmmfbMwkw', 'CF3')\", 49.5]\n",
      "[\"('_SE1CCecdEeet0YmmfbMwkw', 'CF3')\", 49.5]\n",
      "[\"('_SE23oOcdEeet0YmmfbMwkw', 'CF1')\", 49.5]\n",
      "[\"('_SE23oOcdEeet0YmmfbMwkw', 'CF1')\", 63.0]\n",
      "[\"('_SE2Qd-cdEeet0YmmfbMwkw', 'CF1')\", 49.5]\n",
      "[\"('_SE3ehucdEeet0YmmfbMwkw', 'CF1')\", 49.5]\n",
      "[\"('_SE4FWecdEeet0YmmfbMwkw', 'CF2')\", 54.0]\n",
      "[\"('_SE57RecdEeet0YmmfbMwkw', 'CF3')\", 58.5]\n",
      "[\"('_SE8-O-cdEeet0YmmfbMwkw', 'CF1')\", 49.5]\n",
      "[\"('_SE8Xm-cdEeet0YmmfbMwkw', 'CF1')\", 49.5]\n",
      "[\"('_SE9lfucdEeet0YmmfbMwkw', 'CF1')\", 67.5]\n",
      "[\"('_SE_aXOcdEeet0YmmfbMwkw', 'CF2')\", 49.5]\n",
      "[\"('_SE_a_OcdEeet0YmmfbMwkw', 'CF1')\", 49.5]\n",
      "[\"('_SE_a_OcdEeet0YmmfbMwkw', 'CF2')\", 49.5]\n",
      "[\"('_SEtGGecdEeet0YmmfbMwkw', 'CF3')\", 49.5]\n",
      "[\"('_SEu7oecdEeet0YmmfbMwkw', 'CF1')\", 63.0]\n",
      "[\"('_SEuUQucdEeet0YmmfbMwkw', 'CF3')\", 44.1]\n",
      "[\"('_SEuUWecdEeet0YmmfbMwkw', 'CF3')\", 49.5]\n",
      "[\"('_SEviuucdEeet0YmmfbMwkw', 'CF2')\", 63.0]\n",
      "[\"('_SEwwu-cdEeet0YmmfbMwkw', 'CF1')\", 58.5]\n",
      "[\"('_SEx-lecdEeet0YmmfbMwkw', 'CF1')\", 63.0]\n",
      "[\"('_SEymIucdEeet0YmmfbMwkw', 'CF2')\", 63.0]\n",
      "[\"('_SEz0XucdEeet0YmmfbMwkw', 'CF3')\", 49.5]\n",
      "[\"('_SEz0XucdEeet0YmmfbMwkw', 'CF3')\", 58.5]\n",
      "[\"('_SEzNFecdEeet0YmmfbMwkw', 'CF1')\", 54.0]\n",
      "[\"('_SEzNFecdEeet0YmmfbMwkw', 'CF2')\", 63.0]\n",
      "[\"('_SEzNFecdEeet0YmmfbMwkw', 'CF3')\", 58.5]\n",
      "[\"('_SFB2qOcdEeet0YmmfbMwkw', 'CF3')\", 49.5]\n",
      "[\"('_SFB2qOcdEeet0YmmfbMwkw', 'CF3')\", 58.5]\n",
      "[\"('_SFB3SOcdEeet0YmmfbMwkw', 'CF3')\", 49.5]\n",
      "[\"('_SFBPiOcdEeet0YmmfbMwkw', 'CF2')\", 58.5]\n",
      "[\"('_SFCdtucdEeet0YmmfbMwkw', 'CF3')\", 49.5]\n",
      "[\"('_SFCeP-cdEeet0YmmfbMwkw', 'CF3')\", 44.1]\n",
      "[\"('_SFDFdecdEeet0YmmfbMwkw', 'CF3')\", 76.5]\n",
      "[\"('_SFDr3ecdEeet0YmmfbMwkw', 'CF3')\", 63.0]\n",
      "[\"('_SFDr3ecdEeet0YmmfbMwkw', 'CF3')\", 72.0]\n",
      "[\"('_SFDsfecdEeet0YmmfbMwkw', 'CF3')\", 58.5]\n",
      "[\"('_SFDsfecdEeet0YmmfbMwkw', 'CF3')\", 63.0]\n",
      "[\"('_SFE57ucdEeet0YmmfbMwkw', 'CF1')\", 49.5]\n",
      "[\"('_SFE57ucdEeet0YmmfbMwkw', 'CF3')\", 49.5]\n",
      "[\"('_SFESfecdEeet0YmmfbMwkw', 'CF3')\", 49.5]\n",
      "[\"('_SFESfecdEeet0YmmfbMwkw', 'CF3')\", 58.5]\n",
      "[\"('_SFETHecdEeet0YmmfbMwkw', 'CF1')\", 49.5]\n",
      "[\"('_SFETHecdEeet0YmmfbMwkw', 'CF3')\", 49.5]\n",
      "[\"('_SFFhr-cdEeet0YmmfbMwkw', 'CF3')\", 44.1]\n",
      "[\"('_SFGveecdEeet0YmmfbMwkw', 'CF1')\", 49.5]\n",
      "[\"('_SFGwGecdEeet0YmmfbMwkw', 'CF1')\", 49.5]\n",
      "[\"('_SFJyEucdEeet0YmmfbMwkw', 'CF1')\", 44.1]\n",
      "[\"('_SFJyKecdEeet0YmmfbMwkw', 'CF1')\", 49.5]\n",
      "[\"('_SFJysucdEeet0YmmfbMwkw', 'CF1')\", 44.1]\n",
      "[\"('_SFJzUucdEeet0YmmfbMwkw', 'CF3')\", 44.1]\n",
      "[\"('_SFKZ2ecdEeet0YmmfbMwkw', 'CF1')\", 49.5]\n",
      "[\"('_SFKZ2ecdEeet0YmmfbMwkw', 'CF2')\", 49.5]\n",
      "[\"('_SFKZ2ecdEeet0YmmfbMwkw', 'CF3')\", 49.5]\n",
      "[\"('_SFKZIucdEeet0YmmfbMwkw', 'CF3')\", 44.1]\n",
      "[\"('_SFKZOecdEeet0YmmfbMwkw', 'CF1')\", 49.5]\n",
      "[\"('_SFKZOecdEeet0YmmfbMwkw', 'CF3')\", 67.5]\n",
      "[\"('_SFKaeecdEeet0YmmfbMwkw', 'CF1')\", 49.5]\n",
      "[\"('_SFKaeecdEeet0YmmfbMwkw', 'CF2')\", 49.5]\n",
      "[\"('_SFKaeecdEeet0YmmfbMwkw', 'CF3')\", 49.5]\n",
      "[\"('_SFLAhecdEeet0YmmfbMwkw', 'CF3')\", 49.5]\n",
      "[\"('_SFLBJecdEeet0YmmfbMwkw', 'CF3')\", 49.5]\n",
      "[\"('_SFLBxecdEeet0YmmfbMwkw', 'CF3')\", 58.5]\n",
      "[\"('_SFLnWecdEeet0YmmfbMwkw', 'CF3')\", 49.5]\n",
      "[\"('_SFLomecdEeet0YmmfbMwkw', 'CF2')\", 49.5]\n",
      "[\"('_SFM1w-cdEeet0YmmfbMwkw', 'CF2')\", 49.5]\n",
      "[\"('_SFMO7ecdEeet0YmmfbMwkw', 'CF2')\", 49.5]\n",
      "[\"('_SFMOTecdEeet0YmmfbMwkw', 'CF2')\", 49.5]\n",
      "[\"('_SFMPjecdEeet0YmmfbMwkw', 'CF2')\", 49.5]\n",
      "[\"('_SFMQLecdEeet0YmmfbMwkw', 'CF2')\", 49.5]\n",
      "[\"('_SFNdBOcdEeet0YmmfbMwkw', 'CF2')\", 49.5]\n",
      "[\"('_SFNdpOcdEeet0YmmfbMwkw', 'CF3')\", 49.5]\n",
      "[\"('_SFNeLecdEeet0YmmfbMwkw', 'CF3')\", 44.1]\n",
      "[\"('_SFOD--cdEeet0YmmfbMwkw', 'CF3')\", 44.1]\n",
      "[\"('_SFODcucdEeet0YmmfbMwkw', 'CF3')\", 49.5]\n",
      "[\"('_SFOFUucdEeet0YmmfbMwkw', 'CF3')\", 76.5]\n",
      "[\"('_SFOq5-cdEeet0YmmfbMwkw', 'CF3')\", 63.0]\n",
      "[\"('_SFOq5-cdEeet0YmmfbMwkw', 'CF3')\", 72.0]\n",
      "[\"('_SFOrh-cdEeet0YmmfbMwkw', 'CF3')\", 58.5]\n",
      "[\"('_SFOrh-cdEeet0YmmfbMwkw', 'CF3')\", 63.0]\n",
      "[\"('_SFOsJ-cdEeet0YmmfbMwkw', 'CF3')\", 49.5]\n",
      "[\"('_SFOsJ-cdEeet0YmmfbMwkw', 'CF3')\", 58.5]\n",
      "[\"('_SFS-XOcdEeet0YmmfbMwkw', 'CF3')\", 49.5]\n",
      "[\"('_SFS-XOcdEeet0YmmfbMwkw', 'CF3')\", 58.5]\n",
      "[\"('_SFS8fOcdEeet0YmmfbMwkw', 'CF3')\", 76.5]\n",
      "[\"('_SFS9HOcdEeet0YmmfbMwkw', 'CF3')\", 63.0]\n",
      "[\"('_SFS9HOcdEeet0YmmfbMwkw', 'CF3')\", 72.0]\n",
      "[\"('_SFS9vOcdEeet0YmmfbMwkw', 'CF3')\", 58.5]\n",
      "[\"('_SFS9vOcdEeet0YmmfbMwkw', 'CF3')\", 63.0]\n",
      "[\"('_SFSVCecdEeet0YmmfbMwkw', 'CF3')\", 49.5]\n",
      "[\"('_SFSVkucdEeet0YmmfbMwkw', 'CF3')\", 44.1]\n",
      "[\"('_SFSVqecdEeet0YmmfbMwkw', 'CF3')\", 49.5]\n",
      "[\"('_SFSWMucdEeet0YmmfbMwkw', 'CF3')\", 44.1]\n"
     ]
    }
   ],
   "source": [
    "# get the outliers\n",
    "mode_group = mode.apply(lambda x: x)\n",
    "high_values = []\n",
    "for index, row in mode_group.iterrows():\n",
    "    if isinstance(row['raw'], np.ndarray):\n",
    "        for value in row['raw']:\n",
    "            if value >= 40:\n",
    "                high_values.append([str(index), value])\n",
    "    else:\n",
    "        if row['raw'] >= 40:\n",
    "            high_values.append([str(index), row['raw']])\n",
    "\n",
    "print('Outliers:')\n",
    "for value in high_values:\n",
    "    print(value)"
   ]
  },
  {
   "cell_type": "markdown",
   "metadata": {
    "colab_type": "text",
    "id": "wfAhSGGM-VkQ"
   },
   "source": [
    "### standard deviation"
   ]
  },
  {
   "cell_type": "code",
   "execution_count": 11,
   "metadata": {
    "colab": {
     "base_uri": "https://localhost:8080/",
     "height": 315
    },
    "colab_type": "code",
    "id": "wiw-zlI0-VkQ",
    "outputId": "2e585b7a-e04f-4918-b2d2-492360c13536"
   },
   "outputs": [
    {
     "data": {
      "image/png": "[encoded data removed]",
      "text/plain": [
       "<Figure size 216x144 with 1 Axes>"
      ]
     },
     "metadata": {
      "needs_background": "light"
     },
     "output_type": "display_data"
    }
   ],
   "source": [
    "std = dh.data.groupby([dh.data.columns[0], dh.data.columns[1]]).agg('std')\n",
    "std.rename(columns={'raw': ''}).hist(figsize=(3,2))\n",
    "plt.tight_layout()\n",
    "plt.savefig('data_analysis/01_plots/linear_data_std_pergroup.pdf') "
   ]
  },
  {
   "cell_type": "code",
   "execution_count": 12,
   "metadata": {
    "colab": {
     "base_uri": "https://localhost:8080/",
     "height": 204
    },
    "colab_type": "code",
    "id": "lWpIYhqfThlf",
    "outputId": "c78c7fc7-5d31-4022-c6ef-4b0d88a9907a"
   },
   "outputs": [
    {
     "data": {
      "text/html": [
       "<div>\n",
       "<style scoped>\n",
       "    .dataframe tbody tr th:only-of-type {\n",
       "        vertical-align: middle;\n",
       "    }\n",
       "\n",
       "    .dataframe tbody tr th {\n",
       "        vertical-align: top;\n",
       "    }\n",
       "\n",
       "    .dataframe thead th {\n",
       "        text-align: right;\n",
       "    }\n",
       "</style>\n",
       "<table border=\"1\" class=\"dataframe\">\n",
       "  <thead>\n",
       "    <tr style=\"text-align: right;\">\n",
       "      <th></th>\n",
       "      <th></th>\n",
       "      <th>raw</th>\n",
       "    </tr>\n",
       "    <tr>\n",
       "      <th>Optimal_Affected_Component_Uid</th>\n",
       "      <th>Optimal_Failure</th>\n",
       "      <th></th>\n",
       "    </tr>\n",
       "  </thead>\n",
       "  <tbody>\n",
       "    <tr>\n",
       "      <th>_SE23oOcdEeet0YmmfbMwkw</th>\n",
       "      <th>CF1</th>\n",
       "      <td>7.394255</td>\n",
       "    </tr>\n",
       "    <tr>\n",
       "      <th>_SE7Iq-cdEeet0YmmfbMwkw</th>\n",
       "      <th>CF1</th>\n",
       "      <td>2.250000</td>\n",
       "    </tr>\n",
       "    <tr>\n",
       "      <th>_SEu7iucdEeet0YmmfbMwkw</th>\n",
       "      <th>CF3</th>\n",
       "      <td>5.634891</td>\n",
       "    </tr>\n",
       "    <tr>\n",
       "      <th>_SEvio-cdEeet0YmmfbMwkw</th>\n",
       "      <th>CF3</th>\n",
       "      <td>4.454773</td>\n",
       "    </tr>\n",
       "    <tr>\n",
       "      <th>_SEwwu-cdEeet0YmmfbMwkw</th>\n",
       "      <th>CF1</th>\n",
       "      <td>3.401680</td>\n",
       "    </tr>\n",
       "    <tr>\n",
       "      <th>_SEymFucdEeet0YmmfbMwkw</th>\n",
       "      <th>CF3</th>\n",
       "      <td>3.181981</td>\n",
       "    </tr>\n",
       "    <tr>\n",
       "      <th>_SEymIOcdEeet0YmmfbMwkw</th>\n",
       "      <th>CF1</th>\n",
       "      <td>5.250000</td>\n",
       "    </tr>\n",
       "    <tr>\n",
       "      <th>_SEz0XOcdEeet0YmmfbMwkw</th>\n",
       "      <th>CF3</th>\n",
       "      <td>2.474874</td>\n",
       "    </tr>\n",
       "    <tr>\n",
       "      <th>_SEz0XucdEeet0YmmfbMwkw</th>\n",
       "      <th>CF3</th>\n",
       "      <td>6.363961</td>\n",
       "    </tr>\n",
       "    <tr>\n",
       "      <th>_SEzNE-cdEeet0YmmfbMwkw</th>\n",
       "      <th>CF3</th>\n",
       "      <td>2.474874</td>\n",
       "    </tr>\n",
       "    <tr>\n",
       "      <th>_SEzNFecdEeet0YmmfbMwkw</th>\n",
       "      <th>CF1</th>\n",
       "      <td>4.500000</td>\n",
       "    </tr>\n",
       "    <tr>\n",
       "      <th>_SFB2pucdEeet0YmmfbMwkw</th>\n",
       "      <th>CF3</th>\n",
       "      <td>2.474874</td>\n",
       "    </tr>\n",
       "    <tr>\n",
       "      <th>_SFB2qOcdEeet0YmmfbMwkw</th>\n",
       "      <th>CF3</th>\n",
       "      <td>6.363961</td>\n",
       "    </tr>\n",
       "    <tr>\n",
       "      <th>_SFCdn-cdEeet0YmmfbMwkw</th>\n",
       "      <th>CF3</th>\n",
       "      <td>3.150000</td>\n",
       "    </tr>\n",
       "    <tr>\n",
       "      <th>_SFCeP-cdEeet0YmmfbMwkw</th>\n",
       "      <th>CF3</th>\n",
       "      <td>4.454773</td>\n",
       "    </tr>\n",
       "    <tr>\n",
       "      <th>_SFDEvucdEeet0YmmfbMwkw</th>\n",
       "      <th>CF3</th>\n",
       "      <td>4.454773</td>\n",
       "    </tr>\n",
       "    <tr>\n",
       "      <th>_SFDr0ecdEeet0YmmfbMwkw</th>\n",
       "      <th>CF3</th>\n",
       "      <td>3.181981</td>\n",
       "    </tr>\n",
       "    <tr>\n",
       "      <th>_SFDr2-cdEeet0YmmfbMwkw</th>\n",
       "      <th>CF3</th>\n",
       "      <td>2.474874</td>\n",
       "    </tr>\n",
       "    <tr>\n",
       "      <th>_SFDr3ecdEeet0YmmfbMwkw</th>\n",
       "      <th>CF3</th>\n",
       "      <td>6.363961</td>\n",
       "    </tr>\n",
       "    <tr>\n",
       "      <th>_SFDse-cdEeet0YmmfbMwkw</th>\n",
       "      <th>CF3</th>\n",
       "      <td>3.130495</td>\n",
       "    </tr>\n",
       "    <tr>\n",
       "      <th>_SFDsfecdEeet0YmmfbMwkw</th>\n",
       "      <th>CF3</th>\n",
       "      <td>3.181981</td>\n",
       "    </tr>\n",
       "    <tr>\n",
       "      <th>_SFESe-cdEeet0YmmfbMwkw</th>\n",
       "      <th>CF3</th>\n",
       "      <td>2.474874</td>\n",
       "    </tr>\n",
       "    <tr>\n",
       "      <th>_SFESfecdEeet0YmmfbMwkw</th>\n",
       "      <th>CF3</th>\n",
       "      <td>6.363961</td>\n",
       "    </tr>\n",
       "    <tr>\n",
       "      <th>_SFJyEucdEeet0YmmfbMwkw</th>\n",
       "      <th>CF1</th>\n",
       "      <td>6.300000</td>\n",
       "    </tr>\n",
       "    <tr>\n",
       "      <th>_SFOD--cdEeet0YmmfbMwkw</th>\n",
       "      <th>CF3</th>\n",
       "      <td>4.454773</td>\n",
       "    </tr>\n",
       "    <tr>\n",
       "      <th>_SFOEm-cdEeet0YmmfbMwkw</th>\n",
       "      <th>CF3</th>\n",
       "      <td>2.817446</td>\n",
       "    </tr>\n",
       "    <tr>\n",
       "      <th>_SFOq2-cdEeet0YmmfbMwkw</th>\n",
       "      <th>CF3</th>\n",
       "      <td>3.181981</td>\n",
       "    </tr>\n",
       "    <tr>\n",
       "      <th>_SFOq5-cdEeet0YmmfbMwkw</th>\n",
       "      <th>CF3</th>\n",
       "      <td>6.363961</td>\n",
       "    </tr>\n",
       "    <tr>\n",
       "      <th>_SFOq5ecdEeet0YmmfbMwkw</th>\n",
       "      <th>CF3</th>\n",
       "      <td>2.474874</td>\n",
       "    </tr>\n",
       "    <tr>\n",
       "      <th>_SFOrh-cdEeet0YmmfbMwkw</th>\n",
       "      <th>CF3</th>\n",
       "      <td>3.181981</td>\n",
       "    </tr>\n",
       "    <tr>\n",
       "      <th>_SFOrhecdEeet0YmmfbMwkw</th>\n",
       "      <th>CF3</th>\n",
       "      <td>2.474874</td>\n",
       "    </tr>\n",
       "    <tr>\n",
       "      <th>_SFOsJ-cdEeet0YmmfbMwkw</th>\n",
       "      <th>CF3</th>\n",
       "      <td>6.363961</td>\n",
       "    </tr>\n",
       "    <tr>\n",
       "      <th>_SFOsJecdEeet0YmmfbMwkw</th>\n",
       "      <th>CF3</th>\n",
       "      <td>2.474874</td>\n",
       "    </tr>\n",
       "    <tr>\n",
       "      <th>_SFS-WucdEeet0YmmfbMwkw</th>\n",
       "      <th>CF3</th>\n",
       "      <td>2.474874</td>\n",
       "    </tr>\n",
       "    <tr>\n",
       "      <th>_SFS-XOcdEeet0YmmfbMwkw</th>\n",
       "      <th>CF3</th>\n",
       "      <td>6.363961</td>\n",
       "    </tr>\n",
       "    <tr>\n",
       "      <th>_SFS9EOcdEeet0YmmfbMwkw</th>\n",
       "      <th>CF3</th>\n",
       "      <td>3.181981</td>\n",
       "    </tr>\n",
       "    <tr>\n",
       "      <th>_SFS9GucdEeet0YmmfbMwkw</th>\n",
       "      <th>CF3</th>\n",
       "      <td>2.474874</td>\n",
       "    </tr>\n",
       "    <tr>\n",
       "      <th>_SFS9HOcdEeet0YmmfbMwkw</th>\n",
       "      <th>CF3</th>\n",
       "      <td>6.363961</td>\n",
       "    </tr>\n",
       "    <tr>\n",
       "      <th>_SFS9uucdEeet0YmmfbMwkw</th>\n",
       "      <th>CF3</th>\n",
       "      <td>2.474874</td>\n",
       "    </tr>\n",
       "    <tr>\n",
       "      <th>_SFS9vOcdEeet0YmmfbMwkw</th>\n",
       "      <th>CF3</th>\n",
       "      <td>3.181981</td>\n",
       "    </tr>\n",
       "    <tr>\n",
       "      <th>_SFSW0ucdEeet0YmmfbMwkw</th>\n",
       "      <th>CF3</th>\n",
       "      <td>4.454773</td>\n",
       "    </tr>\n",
       "    <tr>\n",
       "      <th>_SFSWMucdEeet0YmmfbMwkw</th>\n",
       "      <th>CF3</th>\n",
       "      <td>4.454773</td>\n",
       "    </tr>\n",
       "  </tbody>\n",
       "</table>\n",
       "</div>"
      ],
      "text/plain": [
       "                                                     raw\n",
       "Optimal_Affected_Component_Uid Optimal_Failure          \n",
       "_SE23oOcdEeet0YmmfbMwkw        CF1              7.394255\n",
       "_SE7Iq-cdEeet0YmmfbMwkw        CF1              2.250000\n",
       "_SEu7iucdEeet0YmmfbMwkw        CF3              5.634891\n",
       "_SEvio-cdEeet0YmmfbMwkw        CF3              4.454773\n",
       "_SEwwu-cdEeet0YmmfbMwkw        CF1              3.401680\n",
       "_SEymFucdEeet0YmmfbMwkw        CF3              3.181981\n",
       "_SEymIOcdEeet0YmmfbMwkw        CF1              5.250000\n",
       "_SEz0XOcdEeet0YmmfbMwkw        CF3              2.474874\n",
       "_SEz0XucdEeet0YmmfbMwkw        CF3              6.363961\n",
       "_SEzNE-cdEeet0YmmfbMwkw        CF3              2.474874\n",
       "_SEzNFecdEeet0YmmfbMwkw        CF1              4.500000\n",
       "_SFB2pucdEeet0YmmfbMwkw        CF3              2.474874\n",
       "_SFB2qOcdEeet0YmmfbMwkw        CF3              6.363961\n",
       "_SFCdn-cdEeet0YmmfbMwkw        CF3              3.150000\n",
       "_SFCeP-cdEeet0YmmfbMwkw        CF3              4.454773\n",
       "_SFDEvucdEeet0YmmfbMwkw        CF3              4.454773\n",
       "_SFDr0ecdEeet0YmmfbMwkw        CF3              3.181981\n",
       "_SFDr2-cdEeet0YmmfbMwkw        CF3              2.474874\n",
       "_SFDr3ecdEeet0YmmfbMwkw        CF3              6.363961\n",
       "_SFDse-cdEeet0YmmfbMwkw        CF3              3.130495\n",
       "_SFDsfecdEeet0YmmfbMwkw        CF3              3.181981\n",
       "_SFESe-cdEeet0YmmfbMwkw        CF3              2.474874\n",
       "_SFESfecdEeet0YmmfbMwkw        CF3              6.363961\n",
       "_SFJyEucdEeet0YmmfbMwkw        CF1              6.300000\n",
       "_SFOD--cdEeet0YmmfbMwkw        CF3              4.454773\n",
       "_SFOEm-cdEeet0YmmfbMwkw        CF3              2.817446\n",
       "_SFOq2-cdEeet0YmmfbMwkw        CF3              3.181981\n",
       "_SFOq5-cdEeet0YmmfbMwkw        CF3              6.363961\n",
       "_SFOq5ecdEeet0YmmfbMwkw        CF3              2.474874\n",
       "_SFOrh-cdEeet0YmmfbMwkw        CF3              3.181981\n",
       "_SFOrhecdEeet0YmmfbMwkw        CF3              2.474874\n",
       "_SFOsJ-cdEeet0YmmfbMwkw        CF3              6.363961\n",
       "_SFOsJecdEeet0YmmfbMwkw        CF3              2.474874\n",
       "_SFS-WucdEeet0YmmfbMwkw        CF3              2.474874\n",
       "_SFS-XOcdEeet0YmmfbMwkw        CF3              6.363961\n",
       "_SFS9EOcdEeet0YmmfbMwkw        CF3              3.181981\n",
       "_SFS9GucdEeet0YmmfbMwkw        CF3              2.474874\n",
       "_SFS9HOcdEeet0YmmfbMwkw        CF3              6.363961\n",
       "_SFS9uucdEeet0YmmfbMwkw        CF3              2.474874\n",
       "_SFS9vOcdEeet0YmmfbMwkw        CF3              3.181981\n",
       "_SFSW0ucdEeet0YmmfbMwkw        CF3              4.454773\n",
       "_SFSWMucdEeet0YmmfbMwkw        CF3              4.454773"
      ]
     },
     "execution_count": 12,
     "metadata": {},
     "output_type": "execute_result"
    }
   ],
   "source": [
    "# get the outliers\n",
    "std_group = std.apply(lambda x: x)\n",
    "std_group[std_group.raw > 2]"
   ]
  },
  {
   "cell_type": "markdown",
   "metadata": {
    "colab_type": "text",
    "id": "92m34mYJ-VkT"
   },
   "source": [
    "### skewness\n",
    "measure of the asymmetry of the probability distribution of a real-valued random variable about its mean"
   ]
  },
  {
   "cell_type": "code",
   "execution_count": 13,
   "metadata": {
    "colab": {
     "base_uri": "https://localhost:8080/",
     "height": 315
    },
    "colab_type": "code",
    "id": "romGfOIU-VkU",
    "outputId": "4c1d0417-4287-496b-ba71-03059e81de95"
   },
   "outputs": [
    {
     "data": {
      "text/plain": [
       "1.8350645562903793"
      ]
     },
     "execution_count": 13,
     "metadata": {},
     "output_type": "execute_result"
    }
   ],
   "source": [
    "values = dh.data['raw']\n",
    "values.skew()"
   ]
  },
  {
   "cell_type": "code",
   "execution_count": 14,
   "metadata": {},
   "outputs": [
    {
     "name": "stdout",
     "output_type": "stream",
     "text": [
      "16.0 == 16.0 < 18.24110541727672\n",
      "True\n"
     ]
    }
   ],
   "source": [
    "# we have positive skewed data\n",
    "mode = float(values.mode())\n",
    "median = values.median()\n",
    "mean = values.mean()\n",
    "print(mode, '==', median, '<', mean)\n",
    "print((mode == median) & (median < mean))"
   ]
  },
  {
   "cell_type": "markdown",
   "metadata": {
    "colab_type": "text",
    "id": "BP-zAZnx-Vkb"
   },
   "source": [
    "### kurtosis\n",
    "measure of the \"tailedness\" of the probability distribution of a real-valued random variable"
   ]
  },
  {
   "cell_type": "code",
   "execution_count": 15,
   "metadata": {
    "colab": {
     "base_uri": "https://localhost:8080/",
     "height": 315
    },
    "colab_type": "code",
    "id": "-OfS_4hO-Vkb",
    "outputId": "0952241c-b316-4c08-b5ac-fa5cf6b2615d"
   },
   "outputs": [
    {
     "data": {
      "text/plain": [
       "3.482033125093173"
      ]
     },
     "execution_count": 15,
     "metadata": {},
     "output_type": "execute_result"
    }
   ],
   "source": [
    "kurtosis = dh.data[dh.data.columns[2]].kurt()\n",
    "kurtosis"
   ]
  },
  {
   "cell_type": "code",
   "execution_count": 16,
   "metadata": {},
   "outputs": [
    {
     "data": {
      "text/plain": [
       "True"
      ]
     },
     "execution_count": 16,
     "metadata": {},
     "output_type": "execute_result"
    }
   ],
   "source": [
    "# having leptokurtical data\n",
    "exzess = kurtosis - 3\n",
    "exzess > 0"
   ]
  },
  {
   "cell_type": "markdown",
   "metadata": {
    "colab_type": "text",
    "id": "DXcm95tvXCag"
   },
   "source": [
    "## Result:\n",
    "\n",
    "* The combination of <Query Service,CF5> shows particular high values\n",
    "* We have a positive skewness, that increases the probability to get a lower value compared to the average.\n",
    "* We have leptokurtical data what means that the values are distributed over a small range."
   ]
  },
  {
   "cell_type": "code",
   "execution_count": null,
   "metadata": {},
   "outputs": [],
   "source": []
  }
 ],
 "metadata": {
  "colab": {
   "name": "Data Analysis",
   "provenance": []
  },
  "kernelspec": {
   "display_name": "Python 3",
   "language": "python",
   "name": "python3"
  },
  "language_info": {
   "codemirror_mode": {
    "name": "ipython",
    "version": 3
   },
   "file_extension": ".py",
   "mimetype": "text/x-python",
   "name": "python",
   "nbconvert_exporter": "python",
   "pygments_lexer": "ipython3",
   "version": "3.8.0"
  }
 },
 "nbformat": 4,
 "nbformat_minor": 4
}
