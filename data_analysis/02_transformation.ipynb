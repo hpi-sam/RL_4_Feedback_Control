{
 "cells": [
  {
   "cell_type": "code",
   "execution_count": 1,
   "metadata": {},
   "outputs": [],
   "source": [
    "import pandas as pd\n",
    "import numpy as np\n",
    "import matplotlib.pyplot as plt\n",
    "plt.rcParams[\"font.family\"] = \"Times New Roman\"\n",
    "from scipy.stats import entropy\n",
    "import sys\n",
    "import os\n",
    "if \"../\" not in sys.path:\n",
    "  sys.path.append(\"../\") \n",
    "os.chdir(\"..\") \n",
    "from envs.data_handler import DataHandler\n",
    "import envs.data_utils as du"
   ]
  },
  {
   "cell_type": "markdown",
   "metadata": {},
   "source": [
    "# Data Transformation\n",
    "Analysing the distribution of the values of each transformed dataset."
   ]
  },
  {
   "cell_type": "code",
   "execution_count": 2,
   "metadata": {},
   "outputs": [
    {
     "data": {
      "image/png": "[encoded data removed]",
      "text/plain": [
       "<Figure size 432x288 with 6 Axes>"
      ]
     },
     "metadata": {
      "needs_background": "light"
     },
     "output_type": "display_data"
    }
   ],
   "source": [
    "fig = plt.figure()\n",
    "\n",
    "ax1 = fig.add_subplot(231)\n",
    "dh = DataHandler(data_generation='Linear', take_component_id=True, transformation='raw')\n",
    "plt.hist(dh.data['raw'])\n",
    "ax1.title.set_text('Raw')\n",
    "ax1.grid()\n",
    "\n",
    "ax2 = fig.add_subplot(232)\n",
    "dh = DataHandler(data_generation='Linear', take_component_id=True, transformation='cube')\n",
    "plt.hist(dh.data['cube'], color='tab:orange')\n",
    "ax2.title.set_text('Cube Root')\n",
    "ax2.grid()\n",
    "\n",
    "ax3 = fig.add_subplot(233)\n",
    "dh = DataHandler(data_generation='Linear', take_component_id=True, transformation='sqt')\n",
    "plt.hist(dh.data['sqt'], color='tab:green')\n",
    "ax3.title.set_text('Square Root')\n",
    "ax3.grid()\n",
    "\n",
    "ax4 = fig.add_subplot(234)\n",
    "dh = DataHandler(data_generation='Linear', take_component_id=True, transformation='log10')\n",
    "plt.hist(dh.data['log10'], color='tab:red')\n",
    "ax4.title.set_text('Log10')\n",
    "ax4.grid()\n",
    "\n",
    "ax5 = fig.add_subplot(235)\n",
    "dh = DataHandler(data_generation='Linear', take_component_id=True, transformation='ln')\n",
    "plt.hist(dh.data['ln'], color='tab:purple')\n",
    "ax5.title.set_text('Ln')\n",
    "ax5.grid()\n",
    "\n",
    "ax6 = fig.add_subplot(236)\n",
    "dh = DataHandler(data_generation='Linear', take_component_id=True, transformation='log2')\n",
    "plt.hist(dh.data['log2'], color='tab:brown')\n",
    "ax6.title.set_text('Log2')\n",
    "ax6.grid()\n",
    "\n",
    "\n",
    "plt.tight_layout()\n",
    "plt.savefig('data_analysis/02_plots/transformation_comparison.pdf') \n",
    "plt.show()"
   ]
  },
  {
   "cell_type": "markdown",
   "metadata": {},
   "source": [
    "# Comparison of the results"
   ]
  },
  {
   "cell_type": "code",
   "execution_count": 3,
   "metadata": {},
   "outputs": [],
   "source": [
    "dh = DataHandler(data_generation='Linear', take_component_id=True, transformation='raw')\n",
    "un_skew = dh.data['raw'].skew()\n",
    "un_krt = dh.data['raw'].kurtosis()\n",
    "\n",
    "dh = DataHandler(data_generation='Linear', take_component_id=True, transformation='cube')\n",
    "cub_skew = dh.data['cube'].skew()\n",
    "cub_krt = dh.data['cube'].kurtosis()\n",
    "\n",
    "dh = DataHandler(data_generation='Linear', take_component_id=True, transformation='sqt')\n",
    "sqt_skw = dh.data['sqt'].skew()\n",
    "sqt_krt = dh.data['sqt'].kurtosis()\n",
    "\n",
    "dh = DataHandler(data_generation='Linear', take_component_id=True, transformation='log2')\n",
    "log2_skw = dh.data['log2'].skew()\n",
    "log2_krt = dh.data['log2'].kurtosis()\n",
    "\n",
    "dh = DataHandler(data_generation='Linear', take_component_id=True, transformation='log10')\n",
    "log10_skw = dh.data['log10'].skew()\n",
    "log10_krt = dh.data['log10'].kurtosis()\n",
    "\n",
    "dh = DataHandler(data_generation='Linear', take_component_id=True, transformation='ln')\n",
    "ln_skw = dh.data['ln'].skew()\n",
    "ln_krt = dh.data['ln'].kurtosis()\n",
    "\n",
    "labels = ['Raw', 'Cube Root', 'Square Root', 'Log10', 'Ln',' Log2']\n",
    "yticks = range(len(labels))"
   ]
  },
  {
   "cell_type": "markdown",
   "metadata": {},
   "source": [
    "## Skewness"
   ]
  },
  {
   "cell_type": "code",
   "execution_count": 4,
   "metadata": {},
   "outputs": [
    {
     "data": {
      "image/png": "[encoded data removed]",
      "text/plain": [
       "<Figure size 432x288 with 1 Axes>"
      ]
     },
     "metadata": {
      "needs_background": "light"
     },
     "output_type": "display_data"
    }
   ],
   "source": [
    "barlist = plt.barh(yticks, [un_skew, cub_skew, sqt_skw, log10_skw, ln_skw, log2_skw])\n",
    "barlist[1].set_color('tab:orange')\n",
    "barlist[2].set_color('tab:green')\n",
    "barlist[3].set_color('tab:red')\n",
    "barlist[4].set_color('tab:purple')\n",
    "barlist[5].set_color('tab:brown')\n",
    "plt.axvline(x=0,color='grey', linestyle='dashed') # a line showing where the skewness is similar to a normal distribution\n",
    "plt.xlim(-0.1, 2)\n",
    "plt.yticks(yticks, labels)\n",
    "plt.tight_layout()\n",
    "plt.savefig('data_analysis/02_plots/transformation_comparison_skewness.pdf') \n",
    "plt.show()"
   ]
  },
  {
   "cell_type": "markdown",
   "metadata": {},
   "source": [
    "## Kurtosis"
   ]
  },
  {
   "cell_type": "code",
   "execution_count": 5,
   "metadata": {
    "scrolled": true
   },
   "outputs": [
    {
     "data": {
      "image/png": "[encoded data removed]",
      "text/plain": [
       "<Figure size 432x288 with 1 Axes>"
      ]
     },
     "metadata": {
      "needs_background": "light"
     },
     "output_type": "display_data"
    }
   ],
   "source": [
    "barlist = plt.barh(yticks, [un_krt, cub_krt, sqt_krt, log10_krt, ln_krt, log2_krt])\n",
    "barlist[1].set_color('tab:orange')\n",
    "barlist[2].set_color('tab:green')\n",
    "barlist[3].set_color('tab:red')\n",
    "barlist[4].set_color('tab:purple')\n",
    "barlist[5].set_color('tab:brown')\n",
    "plt.axvline(x=3.0,color='grey', linestyle='dashed') # a line showing where the kurtosis is similar to a normal distribution\n",
    "plt.yticks(yticks, labels)\n",
    "plt.tight_layout()\n",
    "plt.savefig('data_analysis/02_plots/transformation_comparison_kurtosis.pdf') \n",
    "plt.show()"
   ]
  }
 ],
 "metadata": {
  "kernelspec": {
   "display_name": "Python 3",
   "language": "python",
   "name": "python3"
  },
  "language_info": {
   "codemirror_mode": {
    "name": "ipython",
    "version": 3
   },
   "file_extension": ".py",
   "mimetype": "text/x-python",
   "name": "python",
   "nbconvert_exporter": "python",
   "pygments_lexer": "ipython3",
   "version": "3.8.0"
  }
 },
 "nbformat": 4,
 "nbformat_minor": 4
}
