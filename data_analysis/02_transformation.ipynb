{
 "cells": [
  {
   "cell_type": "code",
   "execution_count": 1,
   "metadata": {},
   "outputs": [
    {
     "data": {
      "text/html": [
       "<div>\n",
       "<style scoped>\n",
       "    .dataframe tbody tr th:only-of-type {\n",
       "        vertical-align: middle;\n",
       "    }\n",
       "\n",
       "    .dataframe tbody tr th {\n",
       "        vertical-align: top;\n",
       "    }\n",
       "\n",
       "    .dataframe thead th {\n",
       "        text-align: right;\n",
       "    }\n",
       "</style>\n",
       "<table border=\"1\" class=\"dataframe\">\n",
       "  <thead>\n",
       "    <tr style=\"text-align: right;\">\n",
       "      <th></th>\n",
       "      <th>Optimal_Affected_Component_Uid</th>\n",
       "      <th>Optimal_Failure</th>\n",
       "      <th>raw</th>\n",
       "    </tr>\n",
       "  </thead>\n",
       "  <tbody>\n",
       "    <tr>\n",
       "      <th>0</th>\n",
       "      <td>_SEwwu-cdEeet0YmmfbMwkw</td>\n",
       "      <td>CF1</td>\n",
       "      <td>49.5</td>\n",
       "    </tr>\n",
       "    <tr>\n",
       "      <th>1</th>\n",
       "      <td>_SExXgOcdEeet0YmmfbMwkw</td>\n",
       "      <td>CF2</td>\n",
       "      <td>16.0</td>\n",
       "    </tr>\n",
       "    <tr>\n",
       "      <th>2</th>\n",
       "      <td>_SEx_HucdEeet0YmmfbMwkw</td>\n",
       "      <td>CF3</td>\n",
       "      <td>31.5</td>\n",
       "    </tr>\n",
       "    <tr>\n",
       "      <th>3</th>\n",
       "      <td>_SEymDucdEeet0YmmfbMwkw</td>\n",
       "      <td>CF3</td>\n",
       "      <td>25.0</td>\n",
       "    </tr>\n",
       "    <tr>\n",
       "      <th>4</th>\n",
       "      <td>_SExYKucdEeet0YmmfbMwkw</td>\n",
       "      <td>CF3</td>\n",
       "      <td>16.0</td>\n",
       "    </tr>\n",
       "  </tbody>\n",
       "</table>\n",
       "</div>"
      ],
      "text/plain": [
       "  Optimal_Affected_Component_Uid Optimal_Failure   raw\n",
       "0        _SEwwu-cdEeet0YmmfbMwkw             CF1  49.5\n",
       "1        _SExXgOcdEeet0YmmfbMwkw             CF2  16.0\n",
       "2        _SEx_HucdEeet0YmmfbMwkw             CF3  31.5\n",
       "3        _SEymDucdEeet0YmmfbMwkw             CF3  25.0\n",
       "4        _SExYKucdEeet0YmmfbMwkw             CF3  16.0"
      ]
     },
     "execution_count": 1,
     "metadata": {},
     "output_type": "execute_result"
    }
   ],
   "source": [
    "import pandas as pd\n",
    "import numpy as np\n",
    "import matplotlib.pyplot as plt\n",
    "from scipy.stats import entropy\n",
    "import sys\n",
    "import os\n",
    "if \"../\" not in sys.path:\n",
    "  sys.path.append(\"../\") \n",
    "os.chdir(\"..\") \n",
    "from envs.data_handler import DataHandler\n",
    "import envs.data_utils as du\n",
    "\n",
    "dh = DataHandler(data_generation='Linear', take_component_id=True, type='raw')\n",
    "dh.data.head()"
   ]
  },
  {
   "cell_type": "markdown",
   "metadata": {},
   "source": [
    "# Data Transformation\n",
    "Analysing the distribution of the values of each transformed dataset."
   ]
  },
  {
   "cell_type": "code",
   "execution_count": 4,
   "metadata": {},
   "outputs": [
    {
     "data": {
      "image/png": "[encoded data removed]",
      "text/plain": [
       "<Figure size 432x288 with 4 Axes>"
      ]
     },
     "metadata": {
      "needs_background": "light"
     },
     "output_type": "display_data"
    }
   ],
   "source": [
    "fig = plt.figure()\n",
    "ax1 = fig.add_subplot(221)\n",
    "plt.hist(dh.data['raw'])\n",
    "ax1.title.set_text('Raw')\n",
    "ax2 = fig.add_subplot(222)\n",
    "plt.hist(dh.data['cube'])\n",
    "ax2.title.set_text('Cube Root Transformation')\n",
    "ax3 = fig.add_subplot(223)\n",
    "plt.hist(dh.data['sqt'])\n",
    "ax3.title.set_text('Square Root Transformation')\n",
    "ax4 = fig.add_subplot(224)\n",
    "plt.hist(dh.data['log10'])\n",
    "ax4.title.set_text('Log10 Transformation')\n",
    "plt.tight_layout()\n",
    "plt.show()"
   ]
  },
  {
   "cell_type": "markdown",
   "metadata": {},
   "source": [
    "# Comparison of the results"
   ]
  },
  {
   "cell_type": "markdown",
   "metadata": {},
   "source": [
    "## Skewness"
   ]
  },
  {
   "cell_type": "code",
   "execution_count": 5,
   "metadata": {},
   "outputs": [
    {
     "data": {
      "text/plain": [
       "([<matplotlib.axis.XTick at 0x1298bdc40>,\n",
       "  <matplotlib.axis.XTick at 0x12981daf0>,\n",
       "  <matplotlib.axis.XTick at 0x1299071c0>,\n",
       "  <matplotlib.axis.XTick at 0x129947a60>],\n",
       " [Text(0, 0, 'Raw'),\n",
       "  Text(0, 0, 'Cube Root Transformation'),\n",
       "  Text(0, 0, 'Square Root Transformation'),\n",
       "  Text(0, 0, 'Log10 Transformation')])"
      ]
     },
     "execution_count": 5,
     "metadata": {},
     "output_type": "execute_result"
    },
    {
     "data": {
      "image/png": "[encoded data removed]",
      "text/plain": [
       "<Figure size 432x288 with 1 Axes>"
      ]
     },
     "metadata": {
      "needs_background": "light"
     },
     "output_type": "display_data"
    }
   ],
   "source": [
    "un_skew = dh.data['raw'].skew()\n",
    "cub_skew = dh.data['cube'].skew()\n",
    "sqt_skw = dh.data['sqt'].skew()\n",
    "log_skw = dh.data['log10'].skew()\n",
    "\n",
    "labels = ['Raw', 'Cube Root Transformation', 'Square Root Transformation', 'Log10 Transformation']\n",
    "xticks = range(len(labels))\n",
    "\n",
    "plt.bar(xticks, [un_skew, cub_skew, sqt_skw, log_skw])\n",
    "plt.xticks(xticks, labels, rotation='vertical')"
   ]
  },
  {
   "cell_type": "markdown",
   "metadata": {},
   "source": [
    "## Kurtosis"
   ]
  },
  {
   "cell_type": "code",
   "execution_count": 6,
   "metadata": {},
   "outputs": [
    {
     "data": {
      "text/plain": [
       "([<matplotlib.axis.XTick at 0x129754e50>,\n",
       "  <matplotlib.axis.XTick at 0x1299ffac0>,\n",
       "  <matplotlib.axis.XTick at 0x1299f77f0>,\n",
       "  <matplotlib.axis.XTick at 0x129a31fa0>],\n",
       " [Text(0, 0, 'Raw'),\n",
       "  Text(0, 0, 'Cube Root Transformation'),\n",
       "  Text(0, 0, 'Square Root Transformation'),\n",
       "  Text(0, 0, 'Log10 Transformation')])"
      ]
     },
     "execution_count": 6,
     "metadata": {},
     "output_type": "execute_result"
    },
    {
     "data": {
      "image/png": "[encoded data removed]",
      "text/plain": [
       "<Figure size 432x288 with 1 Axes>"
      ]
     },
     "metadata": {
      "needs_background": "light"
     },
     "output_type": "display_data"
    }
   ],
   "source": [
    "un_krt = dh.data['raw'].kurtosis()\n",
    "cub_krt = dh.data['cube'].kurtosis()\n",
    "sqt_krt = dh.data['sqt'].kurtosis()\n",
    "log_krt = dh.data['log10'].kurtosis()\n",
    "\n",
    "labels = ['Raw', 'Cube Root Transformation', 'Square Root Transformation', 'Log10 Transformation']\n",
    "xticks = range(len(labels))\n",
    "\n",
    "plt.bar(xticks, [un_krt, cub_krt, sqt_krt, log_krt])\n",
    "plt.xticks(xticks, labels, rotation='vertical')"
   ]
  },
  {
   "cell_type": "markdown",
   "metadata": {},
   "source": [
    "# Furhter Analyzing Ideas"
   ]
  },
  {
   "cell_type": "code",
   "execution_count": 6,
   "metadata": {},
   "outputs": [],
   "source": [
    "# Kullback divergence / distance\n",
    "#bins = np.arange(0,3.5,0.1)\n",
    "#hist_untransformed = np.histogram(result_skw['untransformed'].values.tolist(), bins=bins)[0]\n",
    "#hist_cube = np.histogram(result_skw['cube'].values.tolist(), bins=bins)[0]\n",
    "#entropy(hist_untransformed, qk=hist_cube)"
   ]
  }
 ],
 "metadata": {
  "kernelspec": {
   "display_name": "Python 3",
   "language": "python",
   "name": "python3"
  },
  "language_info": {
   "codemirror_mode": {
    "name": "ipython",
    "version": 3
   },
   "file_extension": ".py",
   "mimetype": "text/x-python",
   "name": "python",
   "nbconvert_exporter": "python",
   "pygments_lexer": "ipython3",
   "version": "3.8.0"
  }
 },
 "nbformat": 4,
 "nbformat_minor": 4
}
