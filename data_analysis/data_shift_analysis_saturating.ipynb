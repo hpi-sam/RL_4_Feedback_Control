{
 "cells": [
  {
   "cell_type": "code",
   "execution_count": 1,
   "metadata": {},
   "outputs": [
    {
     "name": "stdout",
     "output_type": "stream",
     "text": [
      "Saturating.csv\n",
      "Saturating.csv\n",
      "Saturating.csv\n",
      "Saturating.csv\n",
      "Saturating.csv\n",
      "Saturating.csv\n",
      "Saturating.csv\n",
      "Saturating.csv\n",
      "Saturating.csv\n",
      "Saturating.csv\n",
      "Saturating.csv\n",
      "Saturating.csv\n",
      "Saturating.csv\n",
      "Saturating.csv\n",
      "Saturating.csv\n",
      "Saturating.csv\n"
     ]
    },
    {
     "data": {
      "text/html": [
       "<div>\n",
       "<style scoped>\n",
       "    .dataframe tbody tr th:only-of-type {\n",
       "        vertical-align: middle;\n",
       "    }\n",
       "\n",
       "    .dataframe tbody tr th {\n",
       "        vertical-align: top;\n",
       "    }\n",
       "\n",
       "    .dataframe thead th {\n",
       "        text-align: right;\n",
       "    }\n",
       "</style>\n",
       "<table border=\"1\" class=\"dataframe\">\n",
       "  <thead>\n",
       "    <tr style=\"text-align: right;\">\n",
       "      <th></th>\n",
       "      <th>Optimal_Affected_Component</th>\n",
       "      <th>Optimal_Affected_Component_Uid</th>\n",
       "      <th>Optimal_Failure</th>\n",
       "      <th>raw</th>\n",
       "      <th>cube</th>\n",
       "      <th>sqt</th>\n",
       "      <th>log10</th>\n",
       "      <th>ln</th>\n",
       "      <th>log2</th>\n",
       "    </tr>\n",
       "  </thead>\n",
       "  <tbody>\n",
       "    <tr>\n",
       "      <th>0</th>\n",
       "      <td>Query Service</td>\n",
       "      <td>_SEwwu-cdEeet0YmmfbMwkw</td>\n",
       "      <td>CF1</td>\n",
       "      <td>638.460292</td>\n",
       "      <td>5.558599</td>\n",
       "      <td>13.105330</td>\n",
       "      <td>2.234896</td>\n",
       "      <td>5.146038</td>\n",
       "      <td>7.424164</td>\n",
       "    </tr>\n",
       "    <tr>\n",
       "      <th>1</th>\n",
       "      <td>Last Second Sales Item Filter</td>\n",
       "      <td>_SExXrOcdEeet0YmmfbMwkw</td>\n",
       "      <td>CF2</td>\n",
       "      <td>96.674251</td>\n",
       "      <td>4.920383</td>\n",
       "      <td>10.914362</td>\n",
       "      <td>2.075997</td>\n",
       "      <td>4.780159</td>\n",
       "      <td>6.896312</td>\n",
       "    </tr>\n",
       "    <tr>\n",
       "      <th>2</th>\n",
       "      <td>Buy Now Item Filter</td>\n",
       "      <td>_SEx_ROcdEeet0YmmfbMwkw</td>\n",
       "      <td>CF5</td>\n",
       "      <td>111.194731</td>\n",
       "      <td>4.920383</td>\n",
       "      <td>10.914362</td>\n",
       "      <td>2.075997</td>\n",
       "      <td>4.780159</td>\n",
       "      <td>6.896312</td>\n",
       "    </tr>\n",
       "    <tr>\n",
       "      <th>3</th>\n",
       "      <td>Availability Item Filter</td>\n",
       "      <td>_SEymNucdEeet0YmmfbMwkw</td>\n",
       "      <td>CF5</td>\n",
       "      <td>36.912446</td>\n",
       "      <td>4.594071</td>\n",
       "      <td>9.846831</td>\n",
       "      <td>1.986593</td>\n",
       "      <td>4.574299</td>\n",
       "      <td>6.599319</td>\n",
       "    </tr>\n",
       "    <tr>\n",
       "      <th>4</th>\n",
       "      <td>Past Sales Item Filter</td>\n",
       "      <td>_SEx-n-cdEeet0YmmfbMwkw</td>\n",
       "      <td>CF3</td>\n",
       "      <td>96.960084</td>\n",
       "      <td>3.559606</td>\n",
       "      <td>6.715880</td>\n",
       "      <td>1.654206</td>\n",
       "      <td>3.808950</td>\n",
       "      <td>5.495153</td>\n",
       "    </tr>\n",
       "  </tbody>\n",
       "</table>\n",
       "</div>"
      ],
      "text/plain": [
       "      Optimal_Affected_Component Optimal_Affected_Component_Uid  \\\n",
       "0                  Query Service        _SEwwu-cdEeet0YmmfbMwkw   \n",
       "1  Last Second Sales Item Filter        _SExXrOcdEeet0YmmfbMwkw   \n",
       "2            Buy Now Item Filter        _SEx_ROcdEeet0YmmfbMwkw   \n",
       "3       Availability Item Filter        _SEymNucdEeet0YmmfbMwkw   \n",
       "4         Past Sales Item Filter        _SEx-n-cdEeet0YmmfbMwkw   \n",
       "\n",
       "  Optimal_Failure         raw      cube        sqt     log10        ln  \\\n",
       "0             CF1  638.460292  5.558599  13.105330  2.234896  5.146038   \n",
       "1             CF2   96.674251  4.920383  10.914362  2.075997  4.780159   \n",
       "2             CF5  111.194731  4.920383  10.914362  2.075997  4.780159   \n",
       "3             CF5   36.912446  4.594071   9.846831  1.986593  4.574299   \n",
       "4             CF3   96.960084  3.559606   6.715880  1.654206  3.808950   \n",
       "\n",
       "       log2  \n",
       "0  7.424164  \n",
       "1  6.896312  \n",
       "2  6.896312  \n",
       "3  6.599319  \n",
       "4  5.495153  "
      ]
     },
     "execution_count": 1,
     "metadata": {},
     "output_type": "execute_result"
    }
   ],
   "source": [
    "import pandas as pd\n",
    "import numpy as np\n",
    "import matplotlib.pyplot as plt\n",
    "from scipy import stats\n",
    "from statistics import mean, stdev\n",
    "import sys\n",
    "import os\n",
    "if \"../\" not in sys.path:\n",
    "  sys.path.append(\"../\") \n",
    "os.chdir(\"..\") \n",
    "from envs.data_handler import DataHandler, perform_ttest\n",
    "\n",
    "# function for plotting\n",
    "def plot_data(data_table, type):\n",
    "    lists = data_table.groupby(['Optimal_Affected_Component_Uid', 'Optimal_Failure'])[type].apply(list).values\n",
    "    fig = plt.figure(figsize=(50, 5))\n",
    "    for l in lists:\n",
    "        plt.hist(l, 50, alpha=0.5)\n",
    "    plt.show()\n",
    "\n",
    "dh = DataHandler(environment='Saturating')\n",
    "dh.data.head()"
   ]
  },
  {
   "cell_type": "code",
   "execution_count": 2,
   "metadata": {},
   "outputs": [
    {
     "data": {
      "image/png": "[encoded data removed]",
      "text/plain": [
       "<Figure size 3600x360 with 1 Axes>"
      ]
     },
     "metadata": {
      "needs_background": "light"
     },
     "output_type": "display_data"
    }
   ],
   "source": [
    "plot_data(dh.data, 'raw')"
   ]
  },
  {
   "cell_type": "markdown",
   "metadata": {},
   "source": [
    "# Data Shift"
   ]
  },
  {
   "cell_type": "markdown",
   "metadata": {},
   "source": [
    "## Step 1: Calculate the Standard Deviation and the mean of each <component, failure> combinations"
   ]
  },
  {
   "cell_type": "code",
   "execution_count": 3,
   "metadata": {},
   "outputs": [],
   "source": [
    "mean_values = dh.data.groupby(['Optimal_Affected_Component_Uid', 'Optimal_Failure']).mean().reset_index()\n",
    "stdev_values = dh.data.groupby(['Optimal_Affected_Component_Uid', 'Optimal_Failure']).std().reset_index().fillna(0)"
   ]
  },
  {
   "cell_type": "markdown",
   "metadata": {},
   "source": [
    "## Step 2: Sort data by mean values "
   ]
  },
  {
   "cell_type": "code",
   "execution_count": 4,
   "metadata": {},
   "outputs": [],
   "source": [
    "mean_values = mean_values.sort_values(by=['raw'], ascending=True)"
   ]
  },
  {
   "cell_type": "markdown",
   "metadata": {},
   "source": [
    "## Step 3: Iterate over data and shift it"
   ]
  },
  {
   "cell_type": "code",
   "execution_count": 5,
   "metadata": {},
   "outputs": [
    {
     "data": {
      "text/html": [
       "<div>\n",
       "<style scoped>\n",
       "    .dataframe tbody tr th:only-of-type {\n",
       "        vertical-align: middle;\n",
       "    }\n",
       "\n",
       "    .dataframe tbody tr th {\n",
       "        vertical-align: top;\n",
       "    }\n",
       "\n",
       "    .dataframe thead th {\n",
       "        text-align: right;\n",
       "    }\n",
       "</style>\n",
       "<table border=\"1\" class=\"dataframe\">\n",
       "  <thead>\n",
       "    <tr style=\"text-align: right;\">\n",
       "      <th></th>\n",
       "      <th>Optimal_Affected_Component</th>\n",
       "      <th>Optimal_Affected_Component_Uid</th>\n",
       "      <th>Optimal_Failure</th>\n",
       "      <th>raw</th>\n",
       "      <th>cube</th>\n",
       "      <th>sqt</th>\n",
       "      <th>log10</th>\n",
       "      <th>ln</th>\n",
       "      <th>log2</th>\n",
       "    </tr>\n",
       "  </thead>\n",
       "  <tbody>\n",
       "    <tr>\n",
       "      <th>0</th>\n",
       "      <td>Query Service</td>\n",
       "      <td>_SEwwu-cdEeet0YmmfbMwkw</td>\n",
       "      <td>CF1</td>\n",
       "      <td>638.460292</td>\n",
       "      <td>5.558599</td>\n",
       "      <td>13.105330</td>\n",
       "      <td>2.234896</td>\n",
       "      <td>5.146038</td>\n",
       "      <td>7.424164</td>\n",
       "    </tr>\n",
       "    <tr>\n",
       "      <th>1</th>\n",
       "      <td>Last Second Sales Item Filter</td>\n",
       "      <td>_SExXrOcdEeet0YmmfbMwkw</td>\n",
       "      <td>CF2</td>\n",
       "      <td>96.674251</td>\n",
       "      <td>4.920383</td>\n",
       "      <td>10.914362</td>\n",
       "      <td>2.075997</td>\n",
       "      <td>4.780159</td>\n",
       "      <td>6.896312</td>\n",
       "    </tr>\n",
       "    <tr>\n",
       "      <th>2</th>\n",
       "      <td>Buy Now Item Filter</td>\n",
       "      <td>_SEx_ROcdEeet0YmmfbMwkw</td>\n",
       "      <td>CF5</td>\n",
       "      <td>111.194731</td>\n",
       "      <td>4.920383</td>\n",
       "      <td>10.914362</td>\n",
       "      <td>2.075997</td>\n",
       "      <td>4.780159</td>\n",
       "      <td>6.896312</td>\n",
       "    </tr>\n",
       "    <tr>\n",
       "      <th>3</th>\n",
       "      <td>Availability Item Filter</td>\n",
       "      <td>_SEymNucdEeet0YmmfbMwkw</td>\n",
       "      <td>CF5</td>\n",
       "      <td>37.155318</td>\n",
       "      <td>4.594071</td>\n",
       "      <td>9.846831</td>\n",
       "      <td>1.986593</td>\n",
       "      <td>4.574299</td>\n",
       "      <td>6.599319</td>\n",
       "    </tr>\n",
       "    <tr>\n",
       "      <th>4</th>\n",
       "      <td>Past Sales Item Filter</td>\n",
       "      <td>_SEx-n-cdEeet0YmmfbMwkw</td>\n",
       "      <td>CF3</td>\n",
       "      <td>96.960084</td>\n",
       "      <td>3.559606</td>\n",
       "      <td>6.715880</td>\n",
       "      <td>1.654206</td>\n",
       "      <td>3.808950</td>\n",
       "      <td>5.495153</td>\n",
       "    </tr>\n",
       "  </tbody>\n",
       "</table>\n",
       "</div>"
      ],
      "text/plain": [
       "      Optimal_Affected_Component Optimal_Affected_Component_Uid  \\\n",
       "0                  Query Service        _SEwwu-cdEeet0YmmfbMwkw   \n",
       "1  Last Second Sales Item Filter        _SExXrOcdEeet0YmmfbMwkw   \n",
       "2            Buy Now Item Filter        _SEx_ROcdEeet0YmmfbMwkw   \n",
       "3       Availability Item Filter        _SEymNucdEeet0YmmfbMwkw   \n",
       "4         Past Sales Item Filter        _SEx-n-cdEeet0YmmfbMwkw   \n",
       "\n",
       "  Optimal_Failure         raw      cube        sqt     log10        ln  \\\n",
       "0             CF1  638.460292  5.558599  13.105330  2.234896  5.146038   \n",
       "1             CF2   96.674251  4.920383  10.914362  2.075997  4.780159   \n",
       "2             CF5  111.194731  4.920383  10.914362  2.075997  4.780159   \n",
       "3             CF5   37.155318  4.594071   9.846831  1.986593  4.574299   \n",
       "4             CF3   96.960084  3.559606   6.715880  1.654206  3.808950   \n",
       "\n",
       "       log2  \n",
       "0  7.424164  \n",
       "1  6.896312  \n",
       "2  6.896312  \n",
       "3  6.599319  \n",
       "4  5.495153  "
      ]
     },
     "execution_count": 5,
     "metadata": {},
     "output_type": "execute_result"
    }
   ],
   "source": [
    "data_new = dh.data.copy()\n",
    "\n",
    "previous = None\n",
    "for _, name in mean_values.iterrows():\n",
    "    if previous is not None:\n",
    "        pre_std = stdev_values.loc[(stdev_values['Optimal_Affected_Component_Uid'] == previous[0]) & (stdev_values['Optimal_Failure'] == previous[1])]['raw'].tolist()[0]\n",
    "        cur_std = stdev_values.loc[(stdev_values['Optimal_Affected_Component_Uid'] == name[0]) & (stdev_values['Optimal_Failure'] == name[1])]['raw'].tolist()[0]\n",
    "        data_new.loc[(data_new['Optimal_Affected_Component_Uid'] == name[0]) & (data_new['Optimal_Failure'] == name[1]), 'raw'] += cur_std + pre_std\n",
    "    previous = name\n",
    "    \n",
    "data_new.head()"
   ]
  },
  {
   "cell_type": "markdown",
   "metadata": {},
   "source": [
    "## Step 4: Analyse"
   ]
  },
  {
   "cell_type": "code",
   "execution_count": 6,
   "metadata": {},
   "outputs": [
    {
     "data": {
      "image/png": "[encoded data removed]",
      "text/plain": [
       "<Figure size 3600x360 with 1 Axes>"
      ]
     },
     "metadata": {
      "needs_background": "light"
     },
     "output_type": "display_data"
    }
   ],
   "source": [
    "plot_data(data_new, 'raw')"
   ]
  },
  {
   "cell_type": "markdown",
   "metadata": {},
   "source": [
    "## Step 5: Perform T-Test"
   ]
  },
  {
   "cell_type": "code",
   "execution_count": 13,
   "metadata": {},
   "outputs": [
    {
     "name": "stdout",
     "output_type": "stream",
     "text": [
      "49 of the  890  <component, failure> combination pairs are statistical significant\n"
     ]
    }
   ],
   "source": [
    "result = perform_ttest(mean_values, data_new, 'raw')\n",
    "print(len(result[result['pvalue']<0.025]), 'of the ', len(result.index) ,' <component, failure> combination pairs are statistical significant')"
   ]
  },
  {
   "cell_type": "markdown",
   "metadata": {},
   "source": [
    "# Experiment\n",
    "\n",
    "First transform data and then shift it."
   ]
  },
  {
   "cell_type": "code",
   "execution_count": 12,
   "metadata": {},
   "outputs": [
    {
     "data": {
      "image/png": "[encoded data removed]",
      "text/plain": [
       "<Figure size 432x288 with 1 Axes>"
      ]
     },
     "metadata": {
      "needs_background": "light"
     },
     "output_type": "display_data"
    }
   ],
   "source": [
    "# <component, failure> = x + (prestd + curstd) * times\n",
    "types = ['raw', 'cube', 'sqt', 'log10', 'ln', 'log2']\n",
    "x_ticks = range(1,50, 5)\n",
    "\n",
    "for t in types:\n",
    "    results = []\n",
    "    for i in x_ticks:\n",
    "        (means, shifted_data) = dh.shift_data(t, times=i)\n",
    "        ttest = perform_ttest(means, shifted_data, t)\n",
    "        r = len(ttest[ttest['pvalue']<0.025])\n",
    "        results.append(r)\n",
    "    plt.plot(x_ticks, results, label=t)\n",
    "\n",
    "plt.xlabel(\"Times\")\n",
    "plt.ylabel(\"No. of statistical significant pairs\")\n",
    "plt.legend()\n",
    "plt.show()"
   ]
  },
  {
   "cell_type": "code",
   "execution_count": null,
   "metadata": {},
   "outputs": [],
   "source": []
  },
  {
   "cell_type": "code",
   "execution_count": null,
   "metadata": {},
   "outputs": [],
   "source": []
  }
 ],
 "metadata": {
  "kernelspec": {
   "display_name": "Python 3",
   "language": "python",
   "name": "python3"
  },
  "language_info": {
   "codemirror_mode": {
    "name": "ipython",
    "version": 3
   },
   "file_extension": ".py",
   "mimetype": "text/x-python",
   "name": "python",
   "nbconvert_exporter": "python",
   "pygments_lexer": "ipython3",
   "version": "3.8.0"
  }
 },
 "nbformat": 4,
 "nbformat_minor": 4
}
