{
 "cells": [
  {
   "cell_type": "code",
   "execution_count": 1,
   "metadata": {},
   "outputs": [
    {
     "data": {
      "text/html": [
       "<div>\n",
       "<style scoped>\n",
       "    .dataframe tbody tr th:only-of-type {\n",
       "        vertical-align: middle;\n",
       "    }\n",
       "\n",
       "    .dataframe tbody tr th {\n",
       "        vertical-align: top;\n",
       "    }\n",
       "\n",
       "    .dataframe thead th {\n",
       "        text-align: right;\n",
       "    }\n",
       "</style>\n",
       "<table border=\"1\" class=\"dataframe\">\n",
       "  <thead>\n",
       "    <tr style=\"text-align: right;\">\n",
       "      <th></th>\n",
       "      <th>Optimal_Affected_Component_Uid</th>\n",
       "      <th>Optimal_Failure</th>\n",
       "      <th>raw</th>\n",
       "    </tr>\n",
       "  </thead>\n",
       "  <tbody>\n",
       "    <tr>\n",
       "      <th>0</th>\n",
       "      <td>_SEwwu-cdEeet0YmmfbMwkw</td>\n",
       "      <td>CF1</td>\n",
       "      <td>49.5</td>\n",
       "    </tr>\n",
       "    <tr>\n",
       "      <th>1</th>\n",
       "      <td>_SExXgOcdEeet0YmmfbMwkw</td>\n",
       "      <td>CF2</td>\n",
       "      <td>16.0</td>\n",
       "    </tr>\n",
       "    <tr>\n",
       "      <th>2</th>\n",
       "      <td>_SEx_HucdEeet0YmmfbMwkw</td>\n",
       "      <td>CF3</td>\n",
       "      <td>31.5</td>\n",
       "    </tr>\n",
       "    <tr>\n",
       "      <th>3</th>\n",
       "      <td>_SEymDucdEeet0YmmfbMwkw</td>\n",
       "      <td>CF3</td>\n",
       "      <td>25.0</td>\n",
       "    </tr>\n",
       "    <tr>\n",
       "      <th>4</th>\n",
       "      <td>_SExYKucdEeet0YmmfbMwkw</td>\n",
       "      <td>CF3</td>\n",
       "      <td>16.0</td>\n",
       "    </tr>\n",
       "  </tbody>\n",
       "</table>\n",
       "</div>"
      ],
      "text/plain": [
       "  Optimal_Affected_Component_Uid Optimal_Failure   raw\n",
       "0        _SEwwu-cdEeet0YmmfbMwkw             CF1  49.5\n",
       "1        _SExXgOcdEeet0YmmfbMwkw             CF2  16.0\n",
       "2        _SEx_HucdEeet0YmmfbMwkw             CF3  31.5\n",
       "3        _SEymDucdEeet0YmmfbMwkw             CF3  25.0\n",
       "4        _SExYKucdEeet0YmmfbMwkw             CF3  16.0"
      ]
     },
     "execution_count": 1,
     "metadata": {},
     "output_type": "execute_result"
    }
   ],
   "source": [
    "import pandas as pd\n",
    "import numpy as np\n",
    "import matplotlib.pyplot as plt\n",
    "from scipy import stats\n",
    "from statistics import mean, stdev\n",
    "import sys\n",
    "import os\n",
    "if \"../\" not in sys.path:\n",
    "  sys.path.append(\"../\") \n",
    "os.chdir(\"..\") \n",
    "from envs.data_handler import DataHandler\n",
    "import envs.data_utils as du\n",
    "\n",
    "dh = DataHandler(data_generation='Linear', take_component_id=True, transformation='raw')\n",
    "dh.data.head()"
   ]
  },
  {
   "cell_type": "markdown",
   "metadata": {},
   "source": [
    "# Data Shift"
   ]
  },
  {
   "cell_type": "markdown",
   "metadata": {},
   "source": [
    "* Step 1: Calculate the Standard Deviation\n",
    "* Step 2: Create the ordering by the mean value for each <component,failure> group and sort them ascending by mean value, component name, failure name\n",
    "* Step 3: Shift data"
   ]
  },
  {
   "cell_type": "code",
   "execution_count": 2,
   "metadata": {},
   "outputs": [
    {
     "data": {
      "text/html": [
       "<div>\n",
       "<style scoped>\n",
       "    .dataframe tbody tr th:only-of-type {\n",
       "        vertical-align: middle;\n",
       "    }\n",
       "\n",
       "    .dataframe tbody tr th {\n",
       "        vertical-align: top;\n",
       "    }\n",
       "\n",
       "    .dataframe thead th {\n",
       "        text-align: right;\n",
       "    }\n",
       "</style>\n",
       "<table border=\"1\" class=\"dataframe\">\n",
       "  <thead>\n",
       "    <tr style=\"text-align: right;\">\n",
       "      <th></th>\n",
       "      <th>Optimal_Affected_Component_Uid</th>\n",
       "      <th>Optimal_Failure</th>\n",
       "      <th>raw</th>\n",
       "    </tr>\n",
       "  </thead>\n",
       "  <tbody>\n",
       "    <tr>\n",
       "      <th>0</th>\n",
       "      <td>_SEwwu-cdEeet0YmmfbMwkw</td>\n",
       "      <td>CF1</td>\n",
       "      <td>140.8855</td>\n",
       "    </tr>\n",
       "    <tr>\n",
       "      <th>1</th>\n",
       "      <td>_SExXgOcdEeet0YmmfbMwkw</td>\n",
       "      <td>CF2</td>\n",
       "      <td>25.5459</td>\n",
       "    </tr>\n",
       "    <tr>\n",
       "      <th>2</th>\n",
       "      <td>_SEx_HucdEeet0YmmfbMwkw</td>\n",
       "      <td>CF3</td>\n",
       "      <td>60.8449</td>\n",
       "    </tr>\n",
       "    <tr>\n",
       "      <th>3</th>\n",
       "      <td>_SEymDucdEeet0YmmfbMwkw</td>\n",
       "      <td>CF3</td>\n",
       "      <td>49.3952</td>\n",
       "    </tr>\n",
       "    <tr>\n",
       "      <th>4</th>\n",
       "      <td>_SExYKucdEeet0YmmfbMwkw</td>\n",
       "      <td>CF3</td>\n",
       "      <td>25.5459</td>\n",
       "    </tr>\n",
       "  </tbody>\n",
       "</table>\n",
       "</div>"
      ],
      "text/plain": [
       "  Optimal_Affected_Component_Uid Optimal_Failure       raw\n",
       "0        _SEwwu-cdEeet0YmmfbMwkw             CF1  140.8855\n",
       "1        _SExXgOcdEeet0YmmfbMwkw             CF2   25.5459\n",
       "2        _SEx_HucdEeet0YmmfbMwkw             CF3   60.8449\n",
       "3        _SEymDucdEeet0YmmfbMwkw             CF3   49.3952\n",
       "4        _SExYKucdEeet0YmmfbMwkw             CF3   25.5459"
      ]
     },
     "execution_count": 2,
     "metadata": {},
     "output_type": "execute_result"
    }
   ],
   "source": [
    "data_new = du.shift_data(dh.data)  \n",
    "data_new.head()"
   ]
  },
  {
   "cell_type": "markdown",
   "metadata": {},
   "source": [
    "Perform T-Test:"
   ]
  },
  {
   "cell_type": "code",
   "execution_count": 3,
   "metadata": {},
   "outputs": [
    {
     "name": "stderr",
     "output_type": "stream",
     "text": [
      "/Library/Frameworks/Python.framework/Versions/3.8/lib/python3.8/site-packages/numpy/core/fromnumeric.py:3505: RuntimeWarning: Degrees of freedom <= 0 for slice\n",
      "  return _methods._var(a, axis=axis, dtype=dtype, out=out, ddof=ddof,\n",
      "/Library/Frameworks/Python.framework/Versions/3.8/lib/python3.8/site-packages/numpy/core/_methods.py:209: RuntimeWarning: invalid value encountered in double_scalars\n",
      "  ret = ret.dtype.type(ret / rcount)\n"
     ]
    },
    {
     "name": "stdout",
     "output_type": "stream",
     "text": [
      "22 of the 912 <component, failure> combination pairs are statistical significant\n"
     ]
    }
   ],
   "source": [
    "ttest = du.execute_ttest(data_new)\n",
    "num_distinguishable_pairs = len(ttest[ttest['pvalue']<0.05])\n",
    "total = len(ttest.index) - 2\n",
    "print('{0} of the {1} <component, failure> combination pairs are statistical significant'.format(num_distinguishable_pairs, total))"
   ]
  },
  {
   "cell_type": "markdown",
   "metadata": {},
   "source": [
    "# Parameterization\n",
    "\n",
    "Evaluate different spread mulitplication factors for an optimal shifting for each of the transformed datasets (e.g. cube/square root transfromation):\n",
    "\n",
    "\\begin{align}\n",
    "x_{new} = x_{old} + f * (\\sigma(x_{-1}) + \\sigma(x))\n",
    "\\end{align}\n",
    "\n",
    "where $x_{old}$ is the original value from a certain dataset related to <component,failure> and needs to be shifted. Here, we evaluate different values for $f \\in \\mathbb{N}^{+}$ as the spread mulitplication factor which is mulitplied with the standard deviation of the previous <component,failure> combination $\\sigma(x_{-1})$ and of the current one $\\sigma(x)$. "
   ]
  },
  {
   "cell_type": "code",
   "execution_count": 2,
   "metadata": {},
   "outputs": [
    {
     "name": "stderr",
     "output_type": "stream",
     "text": [
      "/Library/Frameworks/Python.framework/Versions/3.8/lib/python3.8/site-packages/numpy/core/fromnumeric.py:3505: RuntimeWarning: Degrees of freedom <= 0 for slice\n",
      "  return _methods._var(a, axis=axis, dtype=dtype, out=out, ddof=ddof,\n",
      "/Library/Frameworks/Python.framework/Versions/3.8/lib/python3.8/site-packages/numpy/core/_methods.py:209: RuntimeWarning: invalid value encountered in double_scalars\n",
      "  ret = ret.dtype.type(ret / rcount)\n"
     ]
    },
    {
     "name": "stdout",
     "output_type": "stream",
     "text": [
      "{'raw': (231, 51), 'cube': (221, 52), 'sqt': (241, 48), 'log10': (201, 55), 'ln': (201, 45), 'log2': (201, 54)}\n"
     ]
    },
    {
     "data": {
      "image/png": "[encoded data removed]",
      "text/plain": [
       "<Figure size 432x288 with 1 Axes>"
      ]
     },
     "metadata": {
      "needs_background": "light"
     },
     "output_type": "display_data"
    }
   ],
   "source": [
    "result = {}\n",
    "\n",
    "trans = ['raw', 'cube', 'sqt', 'log10', 'ln', 'log2']\n",
    "factor = range(1, 300, 10)\n",
    "\n",
    "for t in trans:\n",
    "    X = []\n",
    "    Y = []\n",
    "    \n",
    "    # initialize the result dictionary for each transformation\n",
    "    if t not in result:\n",
    "        result[t] = (0,0) # (spread_multiplication_factor, number of statistical significant pairs) \n",
    "    \n",
    "    # evaluate the different spread mulitplication factors\n",
    "    for f in factor:\n",
    "        \n",
    "        # load the data \n",
    "        dh = DataHandler(data_generation='Linear', take_component_id=True, transformation=t)\n",
    "        shifted_data = du.shift_data(dh.data, spread_multiplication_factor=f)\n",
    "        ttest = du.execute_ttest(shifted_data)\n",
    "        num_significant_pairs = len(ttest[ttest['pvalue']<0.05])\n",
    "\n",
    "        # save the results for plotting\n",
    "        X.append(f) # factor\n",
    "        Y.append(num_significant_pairs) # number of statistical significant pairs\n",
    "\n",
    "        if num_significant_pairs > result[t][1]:\n",
    "            # we were able to generate at least one more statistical significant pair\n",
    "            result[t] = (f, num_significant_pairs)\n",
    "\n",
    "        print(\"{0}: With the spread multiplication factor of {1} we have {2} statistical significant pairs.    \".format(t, f, num_significant_pairs), end=\"\\r\")\n",
    "\n",
    "    plt.plot(X, Y, label=t)\n",
    "\n",
    "\n",
    "print(result)\n",
    "plt.xlabel(\"Spread Multiplication Factor\")\n",
    "plt.ylabel(\"No. of statistical significant pairs\")\n",
    "plt.legend()\n",
    "plt.savefig('data_analysis/shifting_parameter_evaluation.pdf') \n",
    "plt.show()"
   ]
  },
  {
   "cell_type": "markdown",
   "metadata": {},
   "source": [
    "And then saving optimal shifted data to csv"
   ]
  },
  {
   "cell_type": "code",
   "execution_count": 4,
   "metadata": {},
   "outputs": [
    {
     "name": "stdout",
     "output_type": "stream",
     "text": [
      "Shifting raw data with a factor of 231 results in 51 distinguishable pairs.\n",
      "Shifting cube data with a factor of 221 results in 52 distinguishable pairs.\n",
      "Shifting sqt data with a factor of 241 results in 48 distinguishable pairs.\n",
      "Shifting log10 data with a factor of 201 results in 55 distinguishable pairs.\n",
      "Shifting ln data with a factor of 201 results in 45 distinguishable pairs.\n",
      "Shifting log2 data with a factor of 201 results in 54 distinguishable pairs.\n",
      "Data saved.\n"
     ]
    }
   ],
   "source": [
    "result = {'raw': (231, 51), 'cube': (221, 52), 'sqt': (241, 48), 'log10': (201, 55), 'ln': (201, 45), 'log2': (201, 54)}\n",
    "dh = DataHandler(data_generation='Linear', take_component_id=True, transformation='raw')\n",
    "optimal_shifted_data = dh.data[[dh.data.columns[0], dh.data.columns[1]]]\n",
    "\n",
    "for t, value in result.items():\n",
    "    dh = DataHandler(data_generation='Linear', take_component_id=True, transformation=t)\n",
    "    data = du.shift_data(dh.data, spread_multiplication_factor=value[0])\n",
    "    ttest = du.execute_ttest(data)\n",
    "    print(\"Shifting {0} data with a factor of {1} results in {2} distinguishable pairs.\".format(t, value[0], len(ttest[ttest['pvalue']<0.05])))\n",
    "    optimal_shifted_data = optimal_shifted_data.merge(data[[data.columns[2]]], how='outer', left_index=True, right_index=True)\n",
    "    \n",
    "optimal_shifted_data.to_csv('data/prepared_data/LinearShifted_Id.csv')\n",
    "print(\"Data saved.\")"
   ]
  },
  {
   "cell_type": "code",
   "execution_count": 5,
   "metadata": {},
   "outputs": [
    {
     "name": "stdout",
     "output_type": "stream",
     "text": [
      "56\n"
     ]
    }
   ],
   "source": [
    "dh = DataHandler(data_generation='LinearShifted', take_component_id=True, transformation='log10')\n",
    "ttest_2 = du.execute_ttest(dh.data)\n",
    "print(len(ttest_2[ttest_2['pvalue']<0.05]))"
   ]
  },
  {
   "cell_type": "code",
   "execution_count": null,
   "metadata": {},
   "outputs": [],
   "source": []
  }
 ],
 "metadata": {
  "kernelspec": {
   "display_name": "Python 3",
   "language": "python",
   "name": "python3"
  },
  "language_info": {
   "codemirror_mode": {
    "name": "ipython",
    "version": 3
   },
   "file_extension": ".py",
   "mimetype": "text/x-python",
   "name": "python",
   "nbconvert_exporter": "python",
   "pygments_lexer": "ipython3",
   "version": "3.8.0"
  }
 },
 "nbformat": 4,
 "nbformat_minor": 4
}
