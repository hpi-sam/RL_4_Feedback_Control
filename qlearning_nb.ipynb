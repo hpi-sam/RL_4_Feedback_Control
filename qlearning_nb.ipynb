{
 "cells": [
  {
   "cell_type": "code",
   "execution_count": 1,
   "metadata": {},
   "outputs": [],
   "source": [
    "%load_ext autoreload\n",
    "%autoreload 2\n",
    "\n",
    "import time\n",
    "\n",
    "import matplotlib.pyplot as plt\n",
    "\n",
    "from algorithm_analysis import algorithms, benchmark\n",
    "from algorithm_analysis.plotting import plot_episode_length_over_time, plot_episode_reward_over_time\n",
    "from envs.broken_components import BrokenComponentsEnv"
   ]
  },
  {
   "cell_type": "code",
   "execution_count": null,
   "metadata": {
    "pycharm": {
     "is_executing": true
    }
   },
   "outputs": [
    {
     "name": "stdout",
     "output_type": "stream",
     "text": [
      "Time until components are generated: 5.490600597113371e-05\n"
     ]
    }
   ],
   "source": [
    "t0 = time.monotonic()\n",
    "components_list = benchmark.BROKEN_COMPONENTS_LIST\n",
    "print(f'Time until components are generated: {time.monotonic()-t0}')\n",
    "env = BrokenComponentsEnv(components_list, reward_modus='raw')\n",
    "# env = gym.make('Taxi-v3')\n",
    "print(f'Time until env is ready: {time.monotonic()-t0}')\n"
   ]
  },
  {
   "cell_type": "code",
   "execution_count": null,
   "outputs": [],
   "source": [
    "discount_rates = [0.9, 0.3]\n",
    "learning_rates = [0.01, 0.1]\n",
    "num_plots = 2\n",
    "total_runs = len(discount_rates) * len(learning_rates)\n",
    "episodes = 500"
   ],
   "metadata": {
    "collapsed": false,
    "pycharm": {
     "name": "#%%\n",
     "is_executing": true
    }
   }
  },
  {
   "cell_type": "code",
   "execution_count": null,
   "metadata": {
    "pycharm": {
     "name": "#%%\n",
     "is_executing": true
    }
   },
   "outputs": [],
   "source": [
    "t0 = time.monotonic()\n",
    "fig, axs = plt.subplots(total_runs, num_plots, figsize=(10, 5*total_runs), constrained_layout=True, sharex=True, sharey='col')\n",
    "for i, discount_rate in enumerate(discount_rates):\n",
    "    for j, learning_rate in enumerate(learning_rates):\n",
    "        metric = algorithms.run_single_estimator('qlearning', env, env.observation_space.n, env.action_space.n, episodes=episodes,\n",
    "                               learning_rate=learning_rate, discount_rate=discount_rate)\n",
    "        ax_row = i * len(learning_rates) + j\n",
    "        plot_episode_length_over_time(axs[ax_row, 0], metric, smoothing_window=20)\n",
    "        plot_episode_reward_over_time(axs[ax_row, 1], metric, smoothing_window=20)\n",
    "        \n",
    "\n",
    "print(f'Time until plots are ready: {time.monotonic()-t0}')\n",
    "plt.show()"
   ]
  },
  {
   "cell_type": "code",
   "execution_count": null,
   "outputs": [],
   "source": [
    "t0 = time.monotonic()\n",
    "fig, axs = plt.subplots(total_runs, num_plots, figsize=(10, 5*total_runs), constrained_layout=True, sharex=True, sharey='col')\n",
    "for i, discount_rate in enumerate(discount_rates):\n",
    "    for j, learning_rate in enumerate(learning_rates):\n",
    "        metric = algorithms.run_double_estimator('qlearning', env, env.observation_space.n, env.action_space.n, episodes=episodes,\n",
    "                               learning_rate=learning_rate, discount_rate=discount_rate)\n",
    "        ax_row = i * len(learning_rates) + j\n",
    "        plot_episode_length_over_time(axs[ax_row, 0], metric, smoothing_window=20)\n",
    "        plot_episode_reward_over_time(axs[ax_row, 1], metric, smoothing_window=20)\n",
    "        \n",
    "\n",
    "print(f'Time until plots are ready: {time.monotonic()-t0}')\n",
    "plt.show()"
   ],
   "metadata": {
    "collapsed": false,
    "pycharm": {
     "name": "#%%\n"
    }
   }
  },
  {
   "cell_type": "code",
   "execution_count": null,
   "metadata": {
    "pycharm": {
     "is_executing": true
    }
   },
   "outputs": [],
   "source": [
    "t0 = time.monotonic()\n",
    "fig, axs = plt.subplots(total_runs, num_plots, figsize=(10, 5*total_runs), constrained_layout=True, sharex=True, sharey='col')\n",
    "for i, discount_rate in enumerate(discount_rates):\n",
    "    for j, learning_rate in enumerate(learning_rates):\n",
    "        metric = algorithms.run_single_estimator('sarsa', env, env.observation_space.n, env.action_space.n, episodes=episodes,\n",
    "                               learning_rate=learning_rate, discount_rate=discount_rate)\n",
    "        ax_row = i * len(learning_rates) + j\n",
    "        plot_episode_length_over_time(axs[ax_row, 0], metric, smoothing_window=20)\n",
    "        plot_episode_reward_over_time(axs[ax_row, 1], metric, smoothing_window=20)\n",
    "\n",
    "\n",
    "print(f'Time until plots are ready: {time.monotonic()-t0}')\n",
    "plt.show()\n"
   ]
  }
 ],
 "metadata": {
  "kernelspec": {
   "display_name": "Python 3",
   "language": "python",
   "name": "python3"
  },
  "language_info": {
   "codemirror_mode": {
    "name": "ipython",
    "version": 3
   },
   "file_extension": ".py",
   "mimetype": "text/x-python",
   "name": "python",
   "nbconvert_exporter": "python",
   "pygments_lexer": "ipython3",
   "version": "3.8.3"
  }
 },
 "nbformat": 4,
 "nbformat_minor": 4
}