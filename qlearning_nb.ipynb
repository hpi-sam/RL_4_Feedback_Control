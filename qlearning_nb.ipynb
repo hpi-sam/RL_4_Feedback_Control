{
 "cells": [
  {
   "cell_type": "code",
   "execution_count": 8,
   "metadata": {},
   "outputs": [
    {
     "name": "stdout",
     "output_type": "stream",
     "text": [
      "The autoreload extension is already loaded. To reload it, use:\n",
      "  %reload_ext autoreload\n"
     ]
    }
   ],
   "source": [
    "%load_ext autoreload\n",
    "%autoreload 2\n",
    "\n",
    "import gym\n",
    "import matplotlib.pyplot as plt\n",
    "\n",
    "\n",
    "import time\n",
    "from algorithm_analysis.plotting import plot_episode_length_over_time, plot_episode_reward_over_time\n",
    "from algorithm_analysis import algorithms\n",
    "from envs.broken_components import BrokenComponentsEnv\n",
    "from envs.data_handler import DataHandler"
   ]
  },
  {
   "cell_type": "code",
   "execution_count": 9,
   "metadata": {},
   "outputs": [
    {
     "name": "stdout",
     "output_type": "stream",
     "text": [
      "Time until env is ready: 0.03396847900148714\n"
     ]
    }
   ],
   "source": [
    "t0 = time.monotonic()\n",
    "dataHandler = DataHandler()\n",
    "broken_components = dataHandler.get_sample_component_failure_pairs(5)\n",
    "env = BrokenComponentsEnv(broken_components, reward_modus='raw')\n",
    "# env = gym.make('Taxi-v3')\n",
    "print(f'Time until env is ready: {time.monotonic()-t0}')"
   ]
  },
  {
   "cell_type": "code",
   "execution_count": null,
   "metadata": {
    "pycharm": {
     "name": "#%%\n",
     "is_executing": true
    }
   },
   "outputs": [
    {
     "name": "stdout",
     "output_type": "stream",
     "text": [
      "Run qlearning with 32 states and 5 actions.\n"
     ]
    },
    {
     "data": {
      "text/plain": "HBox(children=(FloatProgress(value=0.0, max=1000.0), HTML(value='')))",
      "application/vnd.jupyter.widget-view+json": {
       "version_major": 2,
       "version_minor": 0,
       "model_id": "11c4343d194743c2bb7ec8a55075909c"
      }
     },
     "metadata": {},
     "output_type": "display_data"
    }
   ],
   "source": [
    "t0 = time.monotonic()\n",
    "discount_rates = [0.9, 0.3]\n",
    "learning_rates = [0.3, 0.7]\n",
    "total_runs = len(discount_rates) * len(learning_rates)\n",
    "num_plots = 2\n",
    "fig, axs = plt.subplots(total_runs, num_plots, figsize=(10, 5*total_runs), constrained_layout=True, sharex=True, sharey='col')\n",
    "for i, discount_rate in enumerate(discount_rates):\n",
    "    for j, learning_rate in enumerate(learning_rates):\n",
    "        metric = algorithms.run('qlearning', env, env.observation_space.n, env.action_space.n, episodes=1000,\n",
    "                               learning_rate=learning_rate, discount_rate=discount_rate)\n",
    "        ax_row = i * len(learning_rates) + j\n",
    "        plot_episode_length_over_time(axs[ax_row, 0], metric, smoothing_window=20)\n",
    "        plot_episode_reward_over_time(axs[ax_row, 1], metric, smoothing_window=20)\n",
    "        \n",
    "\n",
    "print(f'Time until plots are ready: {time.monotonic()-t0}')\n",
    "plt.show()"
   ]
  },
  {
   "cell_type": "code",
   "execution_count": null,
   "metadata": {
    "pycharm": {
     "is_executing": true
    }
   },
   "outputs": [],
   "source": [
    "t0 = time.monotonic()\n",
    "discount_rates = [0.9, 0.3]\n",
    "learning_rates = [0.3, 0.7]\n",
    "total_runs = len(discount_rates) * len(learning_rates)\n",
    "num_plots = 2\n",
    "fig, axs = plt.subplots(total_runs, num_plots, figsize=(10, 5*total_runs), constrained_layout=True, sharex=True, sharey='col')\n",
    "for i, discount_rate in enumerate(discount_rates):\n",
    "    for j, learning_rate in enumerate(learning_rates):\n",
    "        metric = algorithms.run('sarsa', env, env.observation_space.n, env.action_space.n, episodes=1000,\n",
    "                               learning_rate=learning_rate, discount_rate=discount_rate)\n",
    "        ax_row = i * len(learning_rates) + j\n",
    "        plot_episode_length_over_time(axs[ax_row, 0], metric, smoothing_window=20)\n",
    "        plot_episode_reward_over_time(axs[ax_row, 1], metric, smoothing_window=20)\n",
    "\n",
    "\n",
    "print(f'Time until plots are ready: {time.monotonic()-t0}')\n",
    "plt.show()\n"
   ]
  }
 ],
 "metadata": {
  "kernelspec": {
   "display_name": "Python 3",
   "language": "python",
   "name": "python3"
  },
  "language_info": {
   "codemirror_mode": {
    "name": "ipython",
    "version": 3
   },
   "file_extension": ".py",
   "mimetype": "text/x-python",
   "name": "python",
   "nbconvert_exporter": "python",
   "pygments_lexer": "ipython3",
   "version": "3.8.3"
  }
 },
 "nbformat": 4,
 "nbformat_minor": 4
}