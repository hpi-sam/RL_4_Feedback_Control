{
 "cells": [
  {
   "cell_type": "code",
   "execution_count": 14,
   "metadata": {},
   "outputs": [
    {
     "name": "stdout",
     "output_type": "stream",
     "text": [
      "The autoreload extension is already loaded. To reload it, use:\n",
      "  %reload_ext autoreload\n"
     ]
    }
   ],
   "source": [
    "%load_ext autoreload\n",
    "%autoreload 2\n",
    "\n",
    "import time\n",
    "\n",
    "import matplotlib.pyplot as plt\n",
    "\n",
    "from algorithm_analysis import algorithms, benchmark\n",
    "from algorithm_analysis.plotting import plot_episode_length_over_time, plot_episode_reward_over_time\n",
    "from envs.broken_components import BrokenComponentsEnv"
   ]
  },
  {
   "cell_type": "code",
   "execution_count": 15,
   "metadata": {},
   "outputs": [
    {
     "name": "stdout",
     "output_type": "stream",
     "text": [
      "Time until 20 components are generated: 0.00019101799989584833\n",
      "Time until env is ready: 12.079481010994641\n"
     ]
    }
   ],
   "source": [
    "t0 = time.monotonic()\n",
    "components_list = benchmark.BROKEN_COMPONENTS_LIST[4]\n",
    "print(f'Time until {len(components_list)} components are generated: {time.monotonic()-t0}')\n",
    "env = BrokenComponentsEnv(components_list, reward_modus='raw')\n",
    "# env = gym.make('Taxi-v3')\n",
    "print(f'Time until env is ready: {time.monotonic()-t0}')\n"
   ]
  },
  {
   "cell_type": "code",
   "execution_count": 16,
   "outputs": [],
   "source": [
    "discount_rates = [0.9, 0.3]\n",
    "learning_rates = [0.01, 0.1]\n",
    "num_plots = 2\n",
    "total_runs = len(discount_rates) * len(learning_rates)\n",
    "episodes = 500"
   ],
   "metadata": {
    "collapsed": false,
    "pycharm": {
     "name": "#%%\n"
    }
   }
  },
  {
   "cell_type": "code",
   "execution_count": 17,
   "metadata": {
    "pycharm": {
     "name": "#%%\n"
    }
   },
   "outputs": [
    {
     "name": "stdout",
     "output_type": "stream",
     "text": [
      "Run qlearning with 1048576 states and 20 actions.\n",
      "\n"
     ]
    },
    {
     "data": {
      "text/plain": "HBox(children=(FloatProgress(value=0.0, max=500.0), HTML(value='')))",
      "application/vnd.jupyter.widget-view+json": {
       "version_major": 2,
       "version_minor": 0,
       "model_id": "e83319ad917a4244b1f8829545e485d3"
      }
     },
     "metadata": {},
     "output_type": "display_data"
    },
    {
     "ename": "AttributeError",
     "evalue": "'DataHandler' object has no attribute 'get_repair_failure_probability'",
     "output_type": "error",
     "traceback": [
      "\u001B[0;31m---------------------------------------------------------------------------\u001B[0m",
      "\u001B[0;31mAttributeError\u001B[0m                            Traceback (most recent call last)",
      "\u001B[0;32m<ipython-input-17-ebe58bf52fea>\u001B[0m in \u001B[0;36m<module>\u001B[0;34m\u001B[0m\n\u001B[1;32m      3\u001B[0m \u001B[0;32mfor\u001B[0m \u001B[0mi\u001B[0m\u001B[0;34m,\u001B[0m \u001B[0mdiscount_rate\u001B[0m \u001B[0;32min\u001B[0m \u001B[0menumerate\u001B[0m\u001B[0;34m(\u001B[0m\u001B[0mdiscount_rates\u001B[0m\u001B[0;34m)\u001B[0m\u001B[0;34m:\u001B[0m\u001B[0;34m\u001B[0m\u001B[0;34m\u001B[0m\u001B[0m\n\u001B[1;32m      4\u001B[0m     \u001B[0;32mfor\u001B[0m \u001B[0mj\u001B[0m\u001B[0;34m,\u001B[0m \u001B[0mlearning_rate\u001B[0m \u001B[0;32min\u001B[0m \u001B[0menumerate\u001B[0m\u001B[0;34m(\u001B[0m\u001B[0mlearning_rates\u001B[0m\u001B[0;34m)\u001B[0m\u001B[0;34m:\u001B[0m\u001B[0;34m\u001B[0m\u001B[0;34m\u001B[0m\u001B[0m\n\u001B[0;32m----> 5\u001B[0;31m         metric = algorithms.run_single_estimator('qlearning', env, env.observation_space.n, env.action_space.n, episodes=episodes,\n\u001B[0m\u001B[1;32m      6\u001B[0m                                learning_rate=learning_rate, discount_rate=discount_rate)\n\u001B[1;32m      7\u001B[0m         \u001B[0max_row\u001B[0m \u001B[0;34m=\u001B[0m \u001B[0mi\u001B[0m \u001B[0;34m*\u001B[0m \u001B[0mlen\u001B[0m\u001B[0;34m(\u001B[0m\u001B[0mlearning_rates\u001B[0m\u001B[0;34m)\u001B[0m \u001B[0;34m+\u001B[0m \u001B[0mj\u001B[0m\u001B[0;34m\u001B[0m\u001B[0;34m\u001B[0m\u001B[0m\n",
      "\u001B[0;32m~/git/rl-4-self-repair/algorithm_analysis/algorithms.py\u001B[0m in \u001B[0;36mrun_single_estimator\u001B[0;34m(alg, env, num_states, num_actions, episodes, min_explore_rate, max_explore_rate, learning_rate, discount_rate, trace_decay)\u001B[0m\n\u001B[1;32m     66\u001B[0m         \u001B[0;32mfor\u001B[0m \u001B[0mstep\u001B[0m \u001B[0;32min\u001B[0m \u001B[0mitertools\u001B[0m\u001B[0;34m.\u001B[0m\u001B[0mcount\u001B[0m\u001B[0;34m(\u001B[0m\u001B[0;36m1\u001B[0m\u001B[0;34m)\u001B[0m\u001B[0;34m:\u001B[0m\u001B[0;34m\u001B[0m\u001B[0;34m\u001B[0m\u001B[0m\n\u001B[1;32m     67\u001B[0m             \u001B[0mt0\u001B[0m \u001B[0;34m=\u001B[0m \u001B[0mtime\u001B[0m\u001B[0;34m.\u001B[0m\u001B[0mmonotonic\u001B[0m\u001B[0;34m(\u001B[0m\u001B[0;34m)\u001B[0m\u001B[0;34m\u001B[0m\u001B[0;34m\u001B[0m\u001B[0m\n\u001B[0;32m---> 68\u001B[0;31m             \u001B[0mnext_state\u001B[0m\u001B[0;34m,\u001B[0m \u001B[0mreward\u001B[0m\u001B[0;34m,\u001B[0m \u001B[0mdone\u001B[0m\u001B[0;34m,\u001B[0m \u001B[0minfo\u001B[0m \u001B[0;34m=\u001B[0m \u001B[0menv\u001B[0m\u001B[0;34m.\u001B[0m\u001B[0mstep\u001B[0m\u001B[0;34m(\u001B[0m\u001B[0maction\u001B[0m\u001B[0;34m)\u001B[0m\u001B[0;34m\u001B[0m\u001B[0;34m\u001B[0m\u001B[0m\n\u001B[0m\u001B[1;32m     69\u001B[0m             \u001B[0mE\u001B[0m\u001B[0;34m[\u001B[0m\u001B[0mstate\u001B[0m\u001B[0;34m,\u001B[0m \u001B[0maction\u001B[0m\u001B[0;34m]\u001B[0m \u001B[0;34m+=\u001B[0m \u001B[0;36m1\u001B[0m\u001B[0;34m\u001B[0m\u001B[0;34m\u001B[0m\u001B[0m\n\u001B[1;32m     70\u001B[0m \u001B[0;34m\u001B[0m\u001B[0m\n",
      "\u001B[0;32m~/git/rl-4-self-repair/envs/broken_components.py\u001B[0m in \u001B[0;36mstep\u001B[0;34m(self, action)\u001B[0m\n\u001B[1;32m     74\u001B[0m \u001B[0;34m\u001B[0m\u001B[0m\n\u001B[1;32m     75\u001B[0m         \u001B[0;32mif\u001B[0m \u001B[0maction_name\u001B[0m \u001B[0;32min\u001B[0m \u001B[0mself\u001B[0m\u001B[0;34m.\u001B[0m\u001B[0mcurrent_state_name\u001B[0m\u001B[0;34m:\u001B[0m\u001B[0;34m\u001B[0m\u001B[0;34m\u001B[0m\u001B[0m\n\u001B[0;32m---> 76\u001B[0;31m             \u001B[0mself\u001B[0m\u001B[0;34m.\u001B[0m\u001B[0msuccessful_action\u001B[0m \u001B[0;34m=\u001B[0m \u001B[0mnp\u001B[0m\u001B[0;34m.\u001B[0m\u001B[0mrandom\u001B[0m\u001B[0;34m.\u001B[0m\u001B[0muniform\u001B[0m\u001B[0;34m(\u001B[0m\u001B[0;34m)\u001B[0m \u001B[0;34m>\u001B[0m \u001B[0mself\u001B[0m\u001B[0;34m.\u001B[0m\u001B[0mdata_handler\u001B[0m\u001B[0;34m.\u001B[0m\u001B[0mget_repair_failure_probability\u001B[0m\u001B[0;34m(\u001B[0m\u001B[0maction_name\u001B[0m\u001B[0;34m)\u001B[0m\u001B[0;34m\u001B[0m\u001B[0;34m\u001B[0m\u001B[0m\n\u001B[0m\u001B[1;32m     77\u001B[0m             \u001B[0;32mif\u001B[0m \u001B[0mself\u001B[0m\u001B[0;34m.\u001B[0m\u001B[0msuccessful_action\u001B[0m\u001B[0;34m:\u001B[0m\u001B[0;34m\u001B[0m\u001B[0;34m\u001B[0m\u001B[0m\n\u001B[1;32m     78\u001B[0m                 \u001B[0mself\u001B[0m\u001B[0;34m.\u001B[0m\u001B[0mcurrent_state_name\u001B[0m\u001B[0;34m.\u001B[0m\u001B[0mremove\u001B[0m\u001B[0;34m(\u001B[0m\u001B[0maction_name\u001B[0m\u001B[0;34m)\u001B[0m\u001B[0;34m\u001B[0m\u001B[0;34m\u001B[0m\u001B[0m\n",
      "\u001B[0;31mAttributeError\u001B[0m: 'DataHandler' object has no attribute 'get_repair_failure_probability'"
     ]
    },
    {
     "data": {
      "text/plain": "<Figure size 720x1440 with 8 Axes>",
      "image/png": "[encoded data removed]"
     },
     "metadata": {
      "needs_background": "light"
     },
     "output_type": "display_data"
    }
   ],
   "source": [
    "t0 = time.monotonic()\n",
    "fig, axs = plt.subplots(total_runs, num_plots, figsize=(10, 5*total_runs), constrained_layout=True, sharex=True, sharey='col')\n",
    "for i, discount_rate in enumerate(discount_rates):\n",
    "    for j, learning_rate in enumerate(learning_rates):\n",
    "        metric = algorithms.run_single_estimator('qlearning', env, env.observation_space.n, env.action_space.n, episodes=episodes,\n",
    "                               learning_rate=learning_rate, discount_rate=discount_rate)\n",
    "        ax_row = i * len(learning_rates) + j\n",
    "        plot_episode_length_over_time(axs[ax_row, 0], metric, smoothing_window=20)\n",
    "        plot_episode_reward_over_time(axs[ax_row, 1], metric, smoothing_window=20)\n",
    "        \n",
    "\n",
    "print(f'Time until plots are ready: {time.monotonic()-t0}')\n",
    "plt.show()"
   ]
  },
  {
   "cell_type": "code",
   "execution_count": null,
   "outputs": [],
   "source": [
    "t0 = time.monotonic()\n",
    "fig, axs = plt.subplots(total_runs, num_plots, figsize=(10, 5*total_runs), constrained_layout=True, sharex=True, sharey='col')\n",
    "for i, discount_rate in enumerate(discount_rates):\n",
    "    for j, learning_rate in enumerate(learning_rates):\n",
    "        metric = algorithms.run_double_estimator('qlearning', env, env.observation_space.n, env.action_space.n, episodes=episodes,\n",
    "                               learning_rate=learning_rate, discount_rate=discount_rate)\n",
    "        ax_row = i * len(learning_rates) + j\n",
    "        plot_episode_length_over_time(axs[ax_row, 0], metric, smoothing_window=20)\n",
    "        plot_episode_reward_over_time(axs[ax_row, 1], metric, smoothing_window=20)\n",
    "        \n",
    "\n",
    "print(f'Time until plots are ready: {time.monotonic()-t0}')\n",
    "plt.show()"
   ],
   "metadata": {
    "collapsed": false,
    "pycharm": {
     "name": "#%%\n"
    }
   }
  },
  {
   "cell_type": "code",
   "execution_count": null,
   "metadata": {},
   "outputs": [],
   "source": [
    "t0 = time.monotonic()\n",
    "fig, axs = plt.subplots(total_runs, num_plots, figsize=(10, 5*total_runs), constrained_layout=True, sharex=True, sharey='col')\n",
    "for i, discount_rate in enumerate(discount_rates):\n",
    "    for j, learning_rate in enumerate(learning_rates):\n",
    "        metric = algorithms.run_single_estimator('sarsa', env, env.observation_space.n, env.action_space.n, episodes=episodes,\n",
    "                               learning_rate=learning_rate, discount_rate=discount_rate)\n",
    "        ax_row = i * len(learning_rates) + j\n",
    "        plot_episode_length_over_time(axs[ax_row, 0], metric, smoothing_window=20)\n",
    "        plot_episode_reward_over_time(axs[ax_row, 1], metric, smoothing_window=20)\n",
    "\n",
    "\n",
    "print(f'Time until plots are ready: {time.monotonic()-t0}')\n",
    "plt.show()\n"
   ]
  }
 ],
 "metadata": {
  "kernelspec": {
   "display_name": "Python 3",
   "language": "python",
   "name": "python3"
  },
  "language_info": {
   "codemirror_mode": {
    "name": "ipython",
    "version": 3
   },
   "file_extension": ".py",
   "mimetype": "text/x-python",
   "name": "python",
   "nbconvert_exporter": "python",
   "pygments_lexer": "ipython3",
   "version": "3.8.3"
  }
 },
 "nbformat": 4,
 "nbformat_minor": 4
}